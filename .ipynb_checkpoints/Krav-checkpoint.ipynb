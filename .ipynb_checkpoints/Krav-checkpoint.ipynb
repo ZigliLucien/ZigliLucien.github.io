{
 "cells": [
  {
   "cell_type": "code",
   "execution_count": 2,
   "metadata": {
    "collapsed": false
   },
   "outputs": [
    {
     "name": "stdout",
     "output_type": "stream",
     "text": [
      "Populating the interactive namespace from numpy and matplotlib\n"
     ]
    }
   ],
   "source": [
    "%pylab inline"
   ]
  },
  {
   "cell_type": "code",
   "execution_count": 3,
   "metadata": {
    "collapsed": true
   },
   "outputs": [],
   "source": [
    "from scipy import special"
   ]
  },
  {
   "cell_type": "code",
   "execution_count": 13,
   "metadata": {
    "collapsed": true
   },
   "outputs": [],
   "source": [
    "from IPython.core.display import display,HTML,Math,Latex"
   ]
  },
  {
   "cell_type": "code",
   "execution_count": 14,
   "metadata": {
    "collapsed": false
   },
   "outputs": [],
   "source": [
    "def krav(N):\n",
    "    K=np.zeros((N+1,N+1),dtype=int)\n",
    "    for i in range(N+1):\n",
    "        K[i,N]=int(special.binom(N,i)*(-1)**i)\n",
    "        K[0,i]=1\n",
    "\n",
    "    for i in range(1,N+1):\n",
    "        for j in range(N,0,-1):\n",
    "            K[i,j-1]=K[i-1,j-1]+K[i-1,j]+K[i,j]\n",
    "    return K            "
   ]
  },
  {
   "cell_type": "code",
   "execution_count": null,
   "metadata": {
    "collapsed": true
   },
   "outputs": [],
   "source": []
  },
  {
   "cell_type": "raw",
   "metadata": {
    "collapsed": false,
    "scrolled": true
   },
   "source": [
    " for N in range(1,5):\n",
    "    K =krav(N)\n",
    " # y=np.multiply(K,K)\n",
    "#print(sum(y,axis=0))\n",
    "    if N < 11:\n",
    "       y=\"K[\",N,\"] = \\n\",K\n",
    "    print(str(y))"
   ]
  },
  {
   "cell_type": "code",
   "execution_count": 23,
   "metadata": {
    "collapsed": false
   },
   "outputs": [
    {
     "data": {
      "text/plain": [
       "array([[  1,   1,   1,   1,   1,   1,   1,   1,   1],\n",
       "       [  8,   6,   4,   2,   0,  -2,  -4,  -6,  -8],\n",
       "       [ 28,  14,   4,  -2,  -4,  -2,   4,  14,  28],\n",
       "       [ 56,  14,  -4,  -6,   0,   6,   4, -14, -56],\n",
       "       [ 70,   0, -10,   0,   6,   0, -10,   0,  70],\n",
       "       [ 56, -14,  -4,   6,   0,  -6,   4,  14, -56],\n",
       "       [ 28, -14,   4,   2,  -4,   2,   4, -14,  28],\n",
       "       [  8,  -6,   4,  -2,   0,   2,  -4,   6,  -8],\n",
       "       [  1,  -1,   1,  -1,   1,  -1,   1,  -1,   1]])"
      ]
     },
     "execution_count": 23,
     "metadata": {},
     "output_type": "execute_result"
    }
   ],
   "source": [
    "krav(8)"
   ]
  },
  {
   "cell_type": "code",
   "execution_count": 24,
   "metadata": {
    "collapsed": false
   },
   "outputs": [
    {
     "data": {
      "text/plain": [
       "array([ 70,   0, -10,   0,   6,   0, -10,   0,  70])"
      ]
     },
     "execution_count": 24,
     "metadata": {},
     "output_type": "execute_result"
    }
   ],
   "source": [
    "N=4\n",
    "krav(2*N)[N,:]"
   ]
  },
  {
   "cell_type": "code",
   "execution_count": 25,
   "metadata": {
    "collapsed": false
   },
   "outputs": [
    {
     "name": "stdout",
     "output_type": "stream",
     "text": [
      "True\n"
     ]
    },
    {
     "data": {
      "text/plain": [
       "array([-16.,  -8.,   6.,   8.,  16.])"
      ]
     },
     "execution_count": 25,
     "metadata": {},
     "output_type": "execute_result"
    }
   ],
   "source": [
    "B=np.diag([int(special.binom(N,i)) for i in range(N+1)])\n",
    "S=dot(K,B)\n",
    "print(not numpy.any(S-S.T))\n",
    "e=eig(S)\n",
    "e[0]"
   ]
  },
  {
   "cell_type": "code",
   "execution_count": 26,
   "metadata": {
    "collapsed": false
   },
   "outputs": [
    {
     "data": {
      "text/plain": [
       "(184756.0, 184756.0)"
      ]
     },
     "execution_count": 26,
     "metadata": {},
     "output_type": "execute_result"
    }
   ],
   "source": [
    "N=10\n",
    "sum([special.binom(N,x)**2 for x in range(N+1)]),special.binom(2*N,N)"
   ]
  },
  {
   "cell_type": "code",
   "execution_count": null,
   "metadata": {
    "collapsed": true
   },
   "outputs": [],
   "source": []
  }
 ],
 "metadata": {
  "kernelspec": {
   "display_name": "Python 3",
   "language": "python",
   "name": "python3"
  },
  "language_info": {
   "codemirror_mode": {
    "name": "ipython",
    "version": 3
   },
   "file_extension": ".py",
   "mimetype": "text/x-python",
   "name": "python",
   "nbconvert_exporter": "python",
   "pygments_lexer": "ipython3",
   "version": "3.4.3"
  }
 },
 "nbformat": 4,
 "nbformat_minor": 0
}
