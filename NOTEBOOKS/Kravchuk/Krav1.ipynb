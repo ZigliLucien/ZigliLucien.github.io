{
 "cells": [
  {
   "cell_type": "code",
   "execution_count": 55,
   "metadata": {
    "slideshow": {
     "slide_type": "skip"
    }
   },
   "outputs": [],
   "source": [
    "from sympy import *\n",
    "from IPython.display import *\n",
    "init_printing()\n",
    "var('a:z'),var('Phi'),var('N');"
   ]
  },
  {
   "cell_type": "markdown",
   "metadata": {
    "slideshow": {
     "slide_type": "slide"
    }
   },
   "source": [
    "# Kravchuk Matrices\n",
    "\n",
    "<pre>\n",
    "\n",
    "</pre>\n",
    "\n",
    "$$(1+v)^{N-j}(1-v)^j=\\sum_{i=0}^N v^i\\,\\phi_{i}(j)$$\n",
    "\n",
    "### Form the matrix\n",
    "\n",
    "$$\\Phi=(\\phi_i(j))$$"
   ]
  },
  {
   "cell_type": "code",
   "execution_count": 56,
   "metadata": {
    "slideshow": {
     "slide_type": "skip"
    }
   },
   "outputs": [],
   "source": [
    "def krav(N):\n",
    "    K=zeros(N+1)\n",
    "    for i in range(N+1):\n",
    "        K[i,N]=binomial(N,i)*(-1)**i\n",
    "        K[0,i]=1\n",
    "\n",
    "    for i in range(1,N+1):\n",
    "        for j in range(N,0,-1):\n",
    "            K[i,j-1]=K[i-1,j-1]+K[i-1,j]+K[i,j]\n",
    "    return K            "
   ]
  },
  {
   "cell_type": "code",
   "execution_count": 57,
   "metadata": {
    "slideshow": {
     "slide_type": "slide"
    }
   },
   "outputs": [
    {
     "name": "stdout",
     "output_type": "stream",
     "text": [
      "N=2\n"
     ]
    },
    {
     "data": {
      "image/png": "[encoded data removed]",
      "text/latex": [
       "$\\displaystyle \\left[\\begin{matrix}1 & 1 & 1\\\\2 & 0 & -2\\\\1 & -1 & 1\\end{matrix}\\right]$"
      ],
      "text/plain": [
       "⎡1  1   1 ⎤\n",
       "⎢         ⎥\n",
       "⎢2  0   -2⎥\n",
       "⎢         ⎥\n",
       "⎣1  -1  1 ⎦"
      ]
     },
     "metadata": {},
     "output_type": "display_data"
    },
    {
     "data": {
      "text/latex": [
       "$\\displaystyle \\,$"
      ],
      "text/plain": [
       "<IPython.core.display.Math object>"
      ]
     },
     "metadata": {},
     "output_type": "display_data"
    },
    {
     "data": {
      "image/png": "[encoded data removed]",
      "text/latex": [
       "$\\displaystyle v^{2} + 2 v + 1$"
      ],
      "text/plain": [
       " 2          \n",
       "v  + 2⋅v + 1"
      ]
     },
     "metadata": {},
     "output_type": "display_data"
    },
    {
     "data": {
      "image/png": "[encoded data removed]",
      "text/latex": [
       "$\\displaystyle 1 - v^{2}$"
      ],
      "text/plain": [
       "     2\n",
       "1 - v "
      ]
     },
     "metadata": {},
     "output_type": "display_data"
    },
    {
     "data": {
      "image/png": "[encoded data removed]",
      "text/latex": [
       "$\\displaystyle v^{2} - 2 v + 1$"
      ],
      "text/plain": [
       " 2          \n",
       "v  - 2⋅v + 1"
      ]
     },
     "metadata": {},
     "output_type": "display_data"
    }
   ],
   "source": [
    "N=2\n",
    "print('N='+str(N))\n",
    "display(krav(N))\n",
    "display(Math('\\,'))\n",
    "for j in range(N+1):\n",
    "        display(expand((1+v)**(N-j)*(1-v)**j))"
   ]
  },
  {
   "cell_type": "code",
   "execution_count": 58,
   "metadata": {
    "slideshow": {
     "slide_type": "slide"
    }
   },
   "outputs": [
    {
     "name": "stdout",
     "output_type": "stream",
     "text": [
      "N=3\n"
     ]
    },
    {
     "data": {
      "image/png": "[encoded data removed]",
      "text/latex": [
       "$\\displaystyle \\left[\\begin{matrix}1 & 1 & 1 & 1\\\\3 & 1 & -1 & -3\\\\3 & -1 & -1 & 3\\\\1 & -1 & 1 & -1\\end{matrix}\\right]$"
      ],
      "text/plain": [
       "⎡1  1   1   1 ⎤\n",
       "⎢             ⎥\n",
       "⎢3  1   -1  -3⎥\n",
       "⎢             ⎥\n",
       "⎢3  -1  -1  3 ⎥\n",
       "⎢             ⎥\n",
       "⎣1  -1  1   -1⎦"
      ]
     },
     "metadata": {},
     "output_type": "display_data"
    },
    {
     "data": {
      "text/latex": [
       "$\\displaystyle \\,$"
      ],
      "text/plain": [
       "<IPython.core.display.Math object>"
      ]
     },
     "metadata": {},
     "output_type": "display_data"
    },
    {
     "data": {
      "image/png": "[encoded data removed]",
      "text/latex": [
       "$\\displaystyle v^{3} + 3 v^{2} + 3 v + 1$"
      ],
      "text/plain": [
       " 3      2          \n",
       "v  + 3⋅v  + 3⋅v + 1"
      ]
     },
     "metadata": {},
     "output_type": "display_data"
    },
    {
     "data": {
      "image/png": "[encoded data removed]",
      "text/latex": [
       "$\\displaystyle - v^{3} - v^{2} + v + 1$"
      ],
      "text/plain": [
       "   3    2        \n",
       "- v  - v  + v + 1"
      ]
     },
     "metadata": {},
     "output_type": "display_data"
    },
    {
     "data": {
      "image/png": "[encoded data removed]",
      "text/latex": [
       "$\\displaystyle v^{3} - v^{2} - v + 1$"
      ],
      "text/plain": [
       " 3    2        \n",
       "v  - v  - v + 1"
      ]
     },
     "metadata": {},
     "output_type": "display_data"
    },
    {
     "data": {
      "image/png": "[encoded data removed]",
      "text/latex": [
       "$\\displaystyle - v^{3} + 3 v^{2} - 3 v + 1$"
      ],
      "text/plain": [
       "   3      2          \n",
       "- v  + 3⋅v  - 3⋅v + 1"
      ]
     },
     "metadata": {},
     "output_type": "display_data"
    }
   ],
   "source": [
    "N=3\n",
    "print('N='+str(N))\n",
    "display(krav(N))\n",
    "display(Math('\\,'))\n",
    "for j in range(N+1):\n",
    "        display(expand((1+v)**(N-j)*(1-v)**j))"
   ]
  },
  {
   "cell_type": "code",
   "execution_count": 59,
   "metadata": {
    "slideshow": {
     "slide_type": "slide"
    }
   },
   "outputs": [
    {
     "name": "stdout",
     "output_type": "stream",
     "text": [
      "N=4\n"
     ]
    },
    {
     "data": {
      "image/png": "[encoded data removed]",
      "text/latex": [
       "$\\displaystyle \\left[\\begin{matrix}1 & 1 & 1 & 1 & 1\\\\4 & 2 & 0 & -2 & -4\\\\6 & 0 & -2 & 0 & 6\\\\4 & -2 & 0 & 2 & -4\\\\1 & -1 & 1 & -1 & 1\\end{matrix}\\right]$"
      ],
      "text/plain": [
       "⎡1  1   1   1   1 ⎤\n",
       "⎢                 ⎥\n",
       "⎢4  2   0   -2  -4⎥\n",
       "⎢                 ⎥\n",
       "⎢6  0   -2  0   6 ⎥\n",
       "⎢                 ⎥\n",
       "⎢4  -2  0   2   -4⎥\n",
       "⎢                 ⎥\n",
       "⎣1  -1  1   -1  1 ⎦"
      ]
     },
     "metadata": {},
     "output_type": "display_data"
    },
    {
     "data": {
      "text/latex": [
       "$\\displaystyle \\,$"
      ],
      "text/plain": [
       "<IPython.core.display.Math object>"
      ]
     },
     "metadata": {},
     "output_type": "display_data"
    },
    {
     "data": {
      "image/png": "[encoded data removed]",
      "text/latex": [
       "$\\displaystyle v^{4} + 4 v^{3} + 6 v^{2} + 4 v + 1$"
      ],
      "text/plain": [
       " 4      3      2          \n",
       "v  + 4⋅v  + 6⋅v  + 4⋅v + 1"
      ]
     },
     "metadata": {},
     "output_type": "display_data"
    },
    {
     "data": {
      "image/png": "[encoded data removed]",
      "text/latex": [
       "$\\displaystyle - v^{4} - 2 v^{3} + 2 v + 1$"
      ],
      "text/plain": [
       "   4      3          \n",
       "- v  - 2⋅v  + 2⋅v + 1"
      ]
     },
     "metadata": {},
     "output_type": "display_data"
    },
    {
     "data": {
      "image/png": "[encoded data removed]",
      "text/latex": [
       "$\\displaystyle v^{4} - 2 v^{2} + 1$"
      ],
      "text/plain": [
       " 4      2    \n",
       "v  - 2⋅v  + 1"
      ]
     },
     "metadata": {},
     "output_type": "display_data"
    },
    {
     "data": {
      "image/png": "[encoded data removed]",
      "text/latex": [
       "$\\displaystyle - v^{4} + 2 v^{3} - 2 v + 1$"
      ],
      "text/plain": [
       "   4      3          \n",
       "- v  + 2⋅v  - 2⋅v + 1"
      ]
     },
     "metadata": {},
     "output_type": "display_data"
    },
    {
     "data": {
      "image/png": "[encoded data removed]",
      "text/latex": [
       "$\\displaystyle v^{4} - 4 v^{3} + 6 v^{2} - 4 v + 1$"
      ],
      "text/plain": [
       " 4      3      2          \n",
       "v  - 4⋅v  + 6⋅v  - 4⋅v + 1"
      ]
     },
     "metadata": {},
     "output_type": "display_data"
    }
   ],
   "source": [
    "N=4\n",
    "print('N='+str(N))\n",
    "display(krav(N))\n",
    "display(Math('\\,'))\n",
    "for j in range(N+1):\n",
    "        display(expand((1+v)**(N-j)*(1-v)**j))"
   ]
  },
  {
   "cell_type": "code",
   "execution_count": 60,
   "metadata": {
    "slideshow": {
     "slide_type": "subslide"
    }
   },
   "outputs": [
    {
     "name": "stdout",
     "output_type": "stream",
     "text": [
      "N=5\n"
     ]
    },
    {
     "data": {
      "image/png": "[encoded data removed]",
      "text/latex": [
       "$\\displaystyle \\left[\\begin{matrix}1 & 1 & 1 & 1 & 1 & 1\\\\5 & 3 & 1 & -1 & -3 & -5\\\\10 & 2 & -2 & -2 & 2 & 10\\\\10 & -2 & -2 & 2 & 2 & -10\\\\5 & -3 & 1 & 1 & -3 & 5\\\\1 & -1 & 1 & -1 & 1 & -1\\end{matrix}\\right]$"
      ],
      "text/plain": [
       "⎡1   1   1   1   1    1 ⎤\n",
       "⎢                       ⎥\n",
       "⎢5   3   1   -1  -3  -5 ⎥\n",
       "⎢                       ⎥\n",
       "⎢10  2   -2  -2  2   10 ⎥\n",
       "⎢                       ⎥\n",
       "⎢10  -2  -2  2   2   -10⎥\n",
       "⎢                       ⎥\n",
       "⎢5   -3  1   1   -3   5 ⎥\n",
       "⎢                       ⎥\n",
       "⎣1   -1  1   -1  1   -1 ⎦"
      ]
     },
     "metadata": {},
     "output_type": "display_data"
    },
    {
     "data": {
      "text/latex": [
       "$\\displaystyle \\,$"
      ],
      "text/plain": [
       "<IPython.core.display.Math object>"
      ]
     },
     "metadata": {},
     "output_type": "display_data"
    },
    {
     "data": {
      "image/png": "[encoded data removed]",
      "text/latex": [
       "$\\displaystyle v^{5} + 5 v^{4} + 10 v^{3} + 10 v^{2} + 5 v + 1$"
      ],
      "text/plain": [
       " 5      4       3       2          \n",
       "v  + 5⋅v  + 10⋅v  + 10⋅v  + 5⋅v + 1"
      ]
     },
     "metadata": {},
     "output_type": "display_data"
    },
    {
     "data": {
      "image/png": "[encoded data removed]",
      "text/latex": [
       "$\\displaystyle - v^{5} - 3 v^{4} - 2 v^{3} + 2 v^{2} + 3 v + 1$"
      ],
      "text/plain": [
       "   5      4      3      2          \n",
       "- v  - 3⋅v  - 2⋅v  + 2⋅v  + 3⋅v + 1"
      ]
     },
     "metadata": {},
     "output_type": "display_data"
    },
    {
     "data": {
      "image/png": "[encoded data removed]",
      "text/latex": [
       "$\\displaystyle v^{5} + v^{4} - 2 v^{3} - 2 v^{2} + v + 1$"
      ],
      "text/plain": [
       " 5    4      3      2        \n",
       "v  + v  - 2⋅v  - 2⋅v  + v + 1"
      ]
     },
     "metadata": {},
     "output_type": "display_data"
    },
    {
     "data": {
      "image/png": "[encoded data removed]",
      "text/latex": [
       "$\\displaystyle - v^{5} + v^{4} + 2 v^{3} - 2 v^{2} - v + 1$"
      ],
      "text/plain": [
       "   5    4      3      2        \n",
       "- v  + v  + 2⋅v  - 2⋅v  - v + 1"
      ]
     },
     "metadata": {},
     "output_type": "display_data"
    },
    {
     "data": {
      "image/png": "[encoded data removed]",
      "text/latex": [
       "$\\displaystyle v^{5} - 3 v^{4} + 2 v^{3} + 2 v^{2} - 3 v + 1$"
      ],
      "text/plain": [
       " 5      4      3      2          \n",
       "v  - 3⋅v  + 2⋅v  + 2⋅v  - 3⋅v + 1"
      ]
     },
     "metadata": {},
     "output_type": "display_data"
    },
    {
     "data": {
      "image/png": "[encoded data removed]",
      "text/latex": [
       "$\\displaystyle - v^{5} + 5 v^{4} - 10 v^{3} + 10 v^{2} - 5 v + 1$"
      ],
      "text/plain": [
       "   5      4       3       2          \n",
       "- v  + 5⋅v  - 10⋅v  + 10⋅v  - 5⋅v + 1"
      ]
     },
     "metadata": {},
     "output_type": "display_data"
    }
   ],
   "source": [
    "N=5\n",
    "print('N='+str(N))\n",
    "display(krav(N))\n",
    "display(Math('\\,'))\n",
    "for j in range(N+1):\n",
    "        display(expand((1+v)**(N-j)*(1-v)**j))"
   ]
  },
  {
   "cell_type": "code",
   "execution_count": null,
   "metadata": {},
   "outputs": [],
   "source": []
  }
 ],
 "metadata": {
  "kernelspec": {
   "display_name": "Python 3",
   "language": "python",
   "name": "python3"
  },
  "language_info": {
   "codemirror_mode": {
    "name": "ipython",
    "version": 3
   },
   "file_extension": ".py",
   "mimetype": "text/x-python",
   "name": "python",
   "nbconvert_exporter": "python",
   "pygments_lexer": "ipython3",
   "version": "3.7.3"
  }
 },
 "nbformat": 4,
 "nbformat_minor": 2
}
