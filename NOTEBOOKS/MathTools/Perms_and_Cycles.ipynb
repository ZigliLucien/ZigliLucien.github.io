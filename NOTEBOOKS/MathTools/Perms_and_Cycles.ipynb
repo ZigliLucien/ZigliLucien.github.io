{
 "cells": [
  {
   "cell_type": "code",
   "execution_count": 2,
   "metadata": {},
   "outputs": [
    {
     "data": {
      "image/png": "[encoded data removed]",
      "text/latex": [
       "$\\displaystyle \\left( a, \\  b, \\  c, \\  d, \\  e, \\  f, \\  g, \\  h, \\  i, \\  j, \\  k, \\  l, \\  m, \\  n, \\  o, \\  p, \\  q, \\  r, \\  s, \\  t, \\  u, \\  v, \\  w, \\  x, \\  y, \\  z\\right)$"
      ],
      "text/plain": [
       "(a, b, c, d, e, f, g, h, i, j, k, l, m, n, o, p, q, r, s, t, u, v, w, x, y, z)"
      ]
     },
     "execution_count": 2,
     "metadata": {},
     "output_type": "execute_result"
    }
   ],
   "source": [
    "from sympy import *\n",
    "from sympy.combinatorics import *\n",
    "from sympy.combinatorics.permutations import _af_rmul, Permutation\n",
    "from IPython.display import *\n",
    "init_printing()\n",
    "var('a:z')"
   ]
  },
  {
   "cell_type": "code",
   "execution_count": 3,
   "metadata": {},
   "outputs": [
    {
     "data": {
      "image/png": "[encoded data removed]",
      "text/latex": [
       "$\\displaystyle \\left[\\begin{matrix}1 & 1 & 1 & 1 & 1 & 1 & 1 & 1\\\\1 & 1 & 1 & 1 & 1 & 1 & 1 & 1\\\\1 & 1 & 1 & 1 & 1 & 1 & 1 & 1\\\\1 & 1 & 1 & 1 & 1 & 1 & 1 & 1\\\\1 & 1 & 1 & 1 & 1 & 1 & 1 & 1\\\\1 & 1 & 1 & 1 & 1 & 1 & 1 & 1\\end{matrix}\\right]$"
      ],
      "text/plain": [
       "⎡1  1  1  1  1  1  1  1⎤\n",
       "⎢                      ⎥\n",
       "⎢1  1  1  1  1  1  1  1⎥\n",
       "⎢                      ⎥\n",
       "⎢1  1  1  1  1  1  1  1⎥\n",
       "⎢                      ⎥\n",
       "⎢1  1  1  1  1  1  1  1⎥\n",
       "⎢                      ⎥\n",
       "⎢1  1  1  1  1  1  1  1⎥\n",
       "⎢                      ⎥\n",
       "⎣1  1  1  1  1  1  1  1⎦"
      ]
     },
     "execution_count": 3,
     "metadata": {},
     "output_type": "execute_result"
    }
   ],
   "source": [
    "ones(6,8)"
   ]
  },
  {
   "cell_type": "code",
   "execution_count": 4,
   "metadata": {},
   "outputs": [],
   "source": [
    "p=Permutation([3,1,0,2])"
   ]
  },
  {
   "cell_type": "code",
   "execution_count": 5,
   "metadata": {},
   "outputs": [
    {
     "data": {
      "image/png": "[encoded data removed]",
      "text/latex": [
       "$\\displaystyle \\left[ 3, \\  1, \\  0, \\  2\\right]$"
      ],
      "text/plain": [
       "[3, 1, 0, 2]"
      ]
     },
     "execution_count": 5,
     "metadata": {},
     "output_type": "execute_result"
    }
   ],
   "source": [
    "[i^p for i in range(p.size)]"
   ]
  },
  {
   "cell_type": "code",
   "execution_count": 6,
   "metadata": {},
   "outputs": [
    {
     "data": {
      "image/png": "[encoded data removed]",
      "text/latex": [
       "$\\displaystyle \\left( 0\\; 2\\; 3\\right)$"
      ],
      "text/plain": [
       "Permutation(0, 2, 3)"
      ]
     },
     "execution_count": 6,
     "metadata": {},
     "output_type": "execute_result"
    }
   ],
   "source": [
    "Permutation.rmul(p,p)"
   ]
  },
  {
   "cell_type": "code",
   "execution_count": 7,
   "metadata": {},
   "outputs": [],
   "source": [
    "p=Permutation(0)(1,3)(2,4)(5,7,6)"
   ]
  },
  {
   "cell_type": "code",
   "execution_count": 8,
   "metadata": {},
   "outputs": [
    {
     "data": {
      "image/png": "[encoded data removed]",
      "text/latex": [
       "$\\displaystyle \\left[ 0, \\  3, \\  4, \\  1, \\  2, \\  7, \\  5, \\  6\\right]$"
      ],
      "text/plain": [
       "[0, 3, 4, 1, 2, 7, 5, 6]"
      ]
     },
     "execution_count": 8,
     "metadata": {},
     "output_type": "execute_result"
    }
   ],
   "source": [
    "list(p)"
   ]
  },
  {
   "cell_type": "code",
   "execution_count": 9,
   "metadata": {},
   "outputs": [],
   "source": [
    "def F(i,j):\n",
    "    if j==i^p:\n",
    "        return 1\n",
    "    else:\n",
    "        return 0"
   ]
  },
  {
   "cell_type": "code",
   "execution_count": 10,
   "metadata": {},
   "outputs": [
    {
     "data": {
      "image/png": "[encoded data removed]",
      "text/latex": [
       "$\\displaystyle \\left[\\begin{matrix}1 & 0 & 0 & 0 & 0 & 0 & 0 & 0\\\\0 & 0 & 0 & 1 & 0 & 0 & 0 & 0\\\\0 & 0 & 0 & 0 & 1 & 0 & 0 & 0\\\\0 & 1 & 0 & 0 & 0 & 0 & 0 & 0\\\\0 & 0 & 1 & 0 & 0 & 0 & 0 & 0\\\\0 & 0 & 0 & 0 & 0 & 0 & 0 & 1\\\\0 & 0 & 0 & 0 & 0 & 1 & 0 & 0\\\\0 & 0 & 0 & 0 & 0 & 0 & 1 & 0\\end{matrix}\\right]$"
      ],
      "text/plain": [
       "⎡1  0  0  0  0  0  0  0⎤\n",
       "⎢                      ⎥\n",
       "⎢0  0  0  1  0  0  0  0⎥\n",
       "⎢                      ⎥\n",
       "⎢0  0  0  0  1  0  0  0⎥\n",
       "⎢                      ⎥\n",
       "⎢0  1  0  0  0  0  0  0⎥\n",
       "⎢                      ⎥\n",
       "⎢0  0  1  0  0  0  0  0⎥\n",
       "⎢                      ⎥\n",
       "⎢0  0  0  0  0  0  0  1⎥\n",
       "⎢                      ⎥\n",
       "⎢0  0  0  0  0  1  0  0⎥\n",
       "⎢                      ⎥\n",
       "⎣0  0  0  0  0  0  1  0⎦"
      ]
     },
     "execution_count": 10,
     "metadata": {},
     "output_type": "execute_result"
    }
   ],
   "source": [
    "n=p.size\n",
    "M=Matrix(n,n,F)\n",
    "M"
   ]
  },
  {
   "cell_type": "code",
   "execution_count": 11,
   "metadata": {},
   "outputs": [],
   "source": [
    "def perm(A):\n",
    "    if A.shape==(1,1):\n",
    "        return A[0,0]\n",
    "    else:\n",
    "        n=A.shape[0]\n",
    "        return sum([A[0,i]*perm(A.minorMatrix(0,i)) for i in range(n)])"
   ]
  },
  {
   "cell_type": "code",
   "execution_count": 12,
   "metadata": {},
   "outputs": [
    {
     "data": {
      "image/png": "[encoded data removed]",
      "text/latex": [
       "$\\displaystyle \\left(t + 1\\right) \\left(t^{3} + t^{2} \\left(t^{3} + 1\\right) + t \\left(t^{3} \\left(t^{3} + 1\\right) + t \\left(t^{3} + 1\\right)\\right) + 1\\right)$"
      ],
      "text/plain": [
       "        ⎛ 3    2 ⎛ 3    ⎞     ⎛ 3 ⎛ 3    ⎞     ⎛ 3    ⎞⎞    ⎞\n",
       "(t + 1)⋅⎝t  + t ⋅⎝t  + 1⎠ + t⋅⎝t ⋅⎝t  + 1⎠ + t⋅⎝t  + 1⎠⎠ + 1⎠"
      ]
     },
     "execution_count": 12,
     "metadata": {},
     "output_type": "execute_result"
    }
   ],
   "source": [
    "perm(eye(n)+t*M)"
   ]
  },
  {
   "cell_type": "code",
   "execution_count": 13,
   "metadata": {},
   "outputs": [],
   "source": [
    "f=simplify(_)"
   ]
  },
  {
   "cell_type": "code",
   "execution_count": 14,
   "metadata": {},
   "outputs": [
    {
     "data": {
      "image/png": "[encoded data removed]",
      "text/latex": [
       "$\\displaystyle \\left(t + 1\\right)^{2} \\left(t^{2} + 1\\right)^{2} \\left(t^{2} - t + 1\\right)$"
      ],
      "text/plain": [
       "                 2             \n",
       "       2 ⎛ 2    ⎞  ⎛ 2        ⎞\n",
       "(t + 1) ⋅⎝t  + 1⎠ ⋅⎝t  - t + 1⎠"
      ]
     },
     "execution_count": 14,
     "metadata": {},
     "output_type": "execute_result"
    }
   ],
   "source": [
    "factor(f)"
   ]
  },
  {
   "cell_type": "code",
   "execution_count": 15,
   "metadata": {},
   "outputs": [
    {
     "data": {
      "image/png": "[encoded data removed]",
      "text/latex": [
       "$\\displaystyle \\left( \\left(t + 1\\right) \\left(t^{2} + 1\\right)^{2} \\left(t^{3} + 1\\right), \\  0\\right)$"
      ],
      "text/plain": [
       "⎛                2            ⎞\n",
       "⎜        ⎛ 2    ⎞  ⎛ 3    ⎞   ⎟\n",
       "⎝(t + 1)⋅⎝t  + 1⎠ ⋅⎝t  + 1⎠, 0⎠"
      ]
     },
     "execution_count": 15,
     "metadata": {},
     "output_type": "execute_result"
    }
   ],
   "source": [
    "h=(1+t)*(1+t**2)**2*(1+t**3)\n",
    "h,simplify(h-f)"
   ]
  },
  {
   "cell_type": "code",
   "execution_count": 16,
   "metadata": {},
   "outputs": [
    {
     "data": {
      "image/png": "[encoded data removed]",
      "text/latex": [
       "$\\displaystyle PermutationGroup\\left(\\left( 0\\; 1\\; 2\\; 3\\right), \\left( 0\\; 1\\right)\\left( 3\\right)\\right)$"
      ],
      "text/plain": [
       "PermutationGroup([\n",
       "      (0 1 2 3),  \n",
       "      (3)(0 1)])  "
      ]
     },
     "execution_count": 16,
     "metadata": {},
     "output_type": "execute_result"
    }
   ],
   "source": [
    "g=SymmetricGroup(4)\n",
    "g"
   ]
  },
  {
   "cell_type": "code",
   "execution_count": 17,
   "metadata": {},
   "outputs": [
    {
     "data": {
      "image/png": "[encoded data removed]",
      "text/latex": [
       "$\\displaystyle \\left[ \\left( 3\\right), \\  \\left( 0\\; 1\\; 2\\; 3\\right), \\  \\left( 0\\; 2\\right)\\left( 1\\; 3\\right), \\  \\left( 0\\; 3\\right), \\  \\left( 1\\; 2\\; 3\\right), \\  \\left( 0\\; 1\\; 3\\; 2\\right), \\  \\left( 0\\; 2\\; 1\\right)\\left( 3\\right), \\  \\left( 0\\; 3\\; 1\\; 2\\right), \\  \\left( 1\\; 3\\; 2\\right), \\  \\left( 0\\; 1\\right)\\left( 3\\right), \\  \\left( 0\\; 2\\; 3\\right), \\  \\left( 0\\; 3\\; 2\\; 1\\right), \\  \\left( 2\\; 3\\right), \\  \\left( 0\\; 1\\; 2\\right)\\left( 3\\right), \\  \\left( 0\\; 2\\; 1\\; 3\\right), \\  \\left( 0\\; 3\\; 2\\right), \\  \\left( 1\\; 2\\right)\\left( 3\\right), \\  \\left( 0\\; 1\\; 3\\right), \\  \\left( 0\\; 2\\; 3\\; 1\\right), \\  \\left( 0\\; 3\\right)\\left( 1\\; 2\\right), \\  \\left( 1\\; 3\\right), \\  \\left( 0\\; 1\\right)\\left( 2\\; 3\\right), \\  \\left( 0\\; 2\\right)\\left( 3\\right), \\  \\left( 0\\; 3\\; 1\\right)\\right]$"
      ],
      "text/plain": [
       "[(3), (0 1 2 3), (0 2)(1 3), (0 3), (1 2 3), (0 1 3 2), (3)(0 2 1), (0 3 1 2),\n",
       " (1 3 2), (3)(0 1), (0 2 3), (0 3 2 1), (2 3), (3)(0 1 2), (0 2 1 3), (0 3 2),\n",
       " (3)(1 2), (0 1 3), (0 2 3 1), (0 3)(1 2), (1 3), (0 1)(2 3), (3)(0 2), (0 3 1\n",
       ")]"
      ]
     },
     "execution_count": 17,
     "metadata": {},
     "output_type": "execute_result"
    }
   ],
   "source": [
    "#[i.cycle_structure for i in g]\n",
    "eg=g._elements\n",
    "eg"
   ]
  },
  {
   "cell_type": "code",
   "execution_count": 18,
   "metadata": {},
   "outputs": [
    {
     "data": {
      "image/png": "[encoded data removed]",
      "text/latex": [
       "$\\displaystyle \\left( \\left\\{ 4 : 1\\right\\}, \\  1\\right)$"
      ],
      "text/plain": [
       "({4: 1}, 1)"
      ]
     },
     "execution_count": 18,
     "metadata": {},
     "output_type": "execute_result"
    }
   ],
   "source": [
    "i=1\n",
    "eg[i].cycle_structure,sum(eg[i].cycle_structure.values())"
   ]
  },
  {
   "cell_type": "code",
   "execution_count": null,
   "metadata": {},
   "outputs": [],
   "source": []
  }
 ],
 "metadata": {
  "kernelspec": {
   "display_name": "Python 3",
   "language": "python",
   "name": "python3"
  },
  "language_info": {
   "codemirror_mode": {
    "name": "ipython",
    "version": 3
   },
   "file_extension": ".py",
   "mimetype": "text/x-python",
   "name": "python",
   "nbconvert_exporter": "python",
   "pygments_lexer": "ipython3",
   "version": "3.7.3"
  }
 },
 "nbformat": 4,
 "nbformat_minor": 1
}
