{
 "cells": [
  {
   "cell_type": "code",
   "execution_count": 1,
   "metadata": {},
   "outputs": [],
   "source": [
    "from sympy import *\n",
    "from IPython.display import *\n",
    "init_printing()\n",
    "var('a:z')\n",
    "var('A:Z');"
   ]
  },
  {
   "cell_type": "code",
   "execution_count": 23,
   "metadata": {},
   "outputs": [
    {
     "data": {
      "image/png": "[encoded data removed]",
      "text/latex": [
       "$$\\left ( \\left[\\begin{matrix}- \\frac{z_{0}^{2}}{2} + z_{0} - \\frac{z_{1}^{2}}{2}\\\\- \\frac{z_{0}^{2}}{2} - \\frac{z_{1}^{2}}{2} + z_{1}\\end{matrix}\\right], \\quad \\left[\\begin{matrix}v_{0} & v_{1}\\end{matrix}\\right], \\quad \\left[\\begin{matrix}z_{0} & z_{1}\\end{matrix}\\right], \\quad \\left[\\begin{matrix}Z_{00} & Z_{01}\\\\Z_{10} & Z_{11}\\end{matrix}\\right]\\right )$$"
      ],
      "text/plain": [
       "⎛⎡    2          2⎤                                ⎞\n",
       "⎜⎢  z₀         z₁ ⎥                                ⎟\n",
       "⎜⎢- ─── + z₀ - ───⎥                                ⎟\n",
       "⎜⎢   2          2 ⎥                      ⎡Z₀₀  Z₀₁⎤⎟\n",
       "⎜⎢                ⎥, [v₀  v₁], [z₀  z₁], ⎢        ⎥⎟\n",
       "⎜⎢    2     2     ⎥                      ⎣Z₁₀  Z₁₁⎦⎟\n",
       "⎜⎢  z₀    z₁      ⎥                                ⎟\n",
       "⎜⎢- ─── - ─── + z₁⎥                                ⎟\n",
       "⎝⎣   2     2      ⎦                                ⎠"
      ]
     },
     "execution_count": 23,
     "metadata": {},
     "output_type": "execute_result"
    }
   ],
   "source": [
    "d=2\n",
    "V=Matrix(d,1,symbols('V:'+str(d)))\n",
    "v=Matrix(1,d,symbols('v:'+str(d)))\n",
    "z=Matrix(1,d,symbols('z:'+str(d)))\n",
    "Z=Matrix(d,d,symbols('Z:'+str(d)+':'+str(d)))\n",
    "for i in range(d):\n",
    "    V[i]=z[i]-Rational(1/2)*sum(z[i]**2 for i in range(d))\n",
    "V,v,z,Z"
   ]
  },
  {
   "cell_type": "code",
   "execution_count": 26,
   "metadata": {},
   "outputs": [
    {
     "data": {
      "image/png": "[encoded data removed]",
      "text/latex": [
       "$$\\left[\\begin{matrix}\\frac{v_{0}}{2} - \\frac{v_{1}}{2} - \\frac{\\sqrt{- v_{0}^{2} + 2 v_{0} v_{1} - 2 v_{0} - v_{1}^{2} - 2 v_{1} + 1}}{2} + \\frac{1}{2}\\\\- \\frac{v_{0}}{2} + \\frac{v_{1}}{2} - \\frac{\\sqrt{- v_{0}^{2} + 2 v_{0} v_{1} - 2 v_{0} - v_{1}^{2} - 2 v_{1} + 1}}{2} + \\frac{1}{2}\\end{matrix}\\right]$$"
      ],
      "text/plain": [
       "⎡              _________________________________________     ⎤\n",
       "⎢             ╱     2                      2                 ⎥\n",
       "⎢ v₀   v₁   ╲╱  - v₀  + 2⋅v₀⋅v₁ - 2⋅v₀ - v₁  - 2⋅v₁ + 1    1 ⎥\n",
       "⎢ ── - ── - ──────────────────────────────────────────── + ─ ⎥\n",
       "⎢ 2    2                         2                         2 ⎥\n",
       "⎢                                                            ⎥\n",
       "⎢               _________________________________________    ⎥\n",
       "⎢              ╱     2                      2                ⎥\n",
       "⎢  v₀   v₁   ╲╱  - v₀  + 2⋅v₀⋅v₁ - 2⋅v₀ - v₁  - 2⋅v₁ + 1    1⎥\n",
       "⎢- ── + ── - ──────────────────────────────────────────── + ─⎥\n",
       "⎣  2    2                         2                         2⎦"
      ]
     },
     "execution_count": 26,
     "metadata": {},
     "output_type": "execute_result"
    }
   ],
   "source": [
    "Z=Matrix(solve([V[i]-v[i] for i in range(d)],[z[i] for i in range(d)])[0])\n",
    "Z"
   ]
  },
  {
   "cell_type": "code",
   "execution_count": 27,
   "metadata": {},
   "outputs": [
    {
     "data": {
      "image/png": "[encoded data removed]",
      "text/latex": [
       "$$\\left[\\begin{matrix}- z_{0} + 1 & - z_{1}\\\\- z_{0} & - z_{1} + 1\\end{matrix}\\right]$$"
      ],
      "text/plain": [
       "⎡-z₀ + 1    -z₁  ⎤\n",
       "⎢                ⎥\n",
       "⎣  -z₀    -z₁ + 1⎦"
      ]
     },
     "execution_count": 27,
     "metadata": {},
     "output_type": "execute_result"
    }
   ],
   "source": [
    "VPrime=V.jacobian(z)\n",
    "VPrime"
   ]
  },
  {
   "cell_type": "code",
   "execution_count": 28,
   "metadata": {},
   "outputs": [
    {
     "data": {
      "image/png": "[encoded data removed]",
      "text/latex": [
       "$$\\left[\\begin{matrix}\\frac{z_{1} - 1}{z_{0} + z_{1} - 1} & - \\frac{z_{1}}{z_{0} + z_{1} - 1}\\\\- \\frac{z_{0}}{z_{0} + z_{1} - 1} & \\frac{z_{0} - 1}{z_{0} + z_{1} - 1}\\end{matrix}\\right]$$"
      ],
      "text/plain": [
       "⎡   z₁ - 1        -z₁    ⎤\n",
       "⎢───────────  ───────────⎥\n",
       "⎢z₀ + z₁ - 1  z₀ + z₁ - 1⎥\n",
       "⎢                        ⎥\n",
       "⎢    -z₀         z₀ - 1  ⎥\n",
       "⎢───────────  ───────────⎥\n",
       "⎣z₀ + z₁ - 1  z₀ + z₁ - 1⎦"
      ]
     },
     "execution_count": 28,
     "metadata": {},
     "output_type": "execute_result"
    }
   ],
   "source": [
    "W=simplify(VPrime.inv())\n",
    "W"
   ]
  },
  {
   "cell_type": "code",
   "execution_count": 29,
   "metadata": {},
   "outputs": [
    {
     "data": {
      "image/png": "[encoded data removed]",
      "text/latex": [
       "$$\\left [ x_{0} - \\frac{z_{0} \\left(x_{0} + x_{1}\\right)}{z_{0} + z_{1} - 1}, \\quad x_{1} - \\frac{z_{1} \\left(x_{0} + x_{1}\\right)}{z_{0} + z_{1} - 1}\\right ]$$"
      ],
      "text/plain": [
       "⎡     z₀⋅(x₀ + x₁)       z₁⋅(x₀ + x₁)⎤\n",
       "⎢x₀ - ────────────, x₁ - ────────────⎥\n",
       "⎣     z₀ + z₁ - 1        z₀ + z₁ - 1 ⎦"
      ]
     },
     "execution_count": 29,
     "metadata": {},
     "output_type": "execute_result"
    }
   ],
   "source": [
    "x=Matrix(1,d,symbols('x:'+str(d)))\n",
    "Y=x*W\n",
    "Y=[x[i]+simplify(Y[i]-x[i]) for i in range(2)]\n",
    "Y"
   ]
  },
  {
   "cell_type": "code",
   "execution_count": 30,
   "metadata": {},
   "outputs": [],
   "source": [
    "def goPolys(f,z,N):\n",
    "    C=zeros(N)\n",
    "    for i in range(N):\n",
    "        for j in range(N):\n",
    "             C[i,j]=(diff(f,z[0],i,z[1],j)).subs([(z[0],0),(z[1],0)]).factor()\n",
    "    return C   "
   ]
  },
  {
   "cell_type": "code",
   "execution_count": 31,
   "metadata": {},
   "outputs": [
    {
     "data": {
      "image/png": "[encoded data removed]",
      "text/latex": [
       "$$\\left[\\begin{matrix}1 & x_{1} & x_{0} + x_{1}^{2} + x_{1} & 3 x_{0} + x_{1}^{3} + 3 x_{1} \\left(x_{0} + x_{1}\\right) + 3 x_{1}\\\\x_{0} & x_{0} x_{1} & x_{0} x_{1}^{2} + x_{0} \\left(x_{0} + x_{1}\\right) + x_{0} + x_{1} & x_{0} x_{1}^{3} + 3 x_{0} x_{1} \\left(x_{0} + x_{1}\\right) + 3 x_{0} \\left(x_{0} + x_{1}\\right) + 6 x_{0} + 3 x_{1} \\left(x_{0} + x_{1}\\right) + 6 x_{1}\\\\x_{0}^{2} + x_{0} + x_{1} & x_{0}^{2} x_{1} + x_{0} + x_{1} \\left(x_{0} + x_{1}\\right) + x_{1} & x_{0}^{2} x_{1}^{2} + x_{0}^{2} \\left(x_{0} + x_{1}\\right) + 2 x_{0} \\left(x_{0} + x_{1}\\right) + 6 x_{0} + x_{1}^{2} \\left(x_{0} + x_{1}\\right) + 2 x_{1} \\left(x_{0} + x_{1}\\right) + 6 x_{1} + \\left(x_{0} + x_{1}\\right)^{2} & x_{0}^{2} x_{1}^{3} + 3 x_{0}^{2} x_{1} \\left(x_{0} + x_{1}\\right) + 3 x_{0}^{2} \\left(x_{0} + x_{1}\\right) + 6 x_{0} x_{1} \\left(x_{0} + x_{1}\\right) + 12 x_{0} \\left(x_{0} + x_{1}\\right) + 42 x_{0} + x_{1}^{3} \\left(x_{0} + x_{1}\\right) + 3 x_{1}^{2} \\left(x_{0} + x_{1}\\right) + 3 x_{1} \\left(x_{0} + x_{1}\\right)^{2} + 18 x_{1} \\left(x_{0} + x_{1}\\right) + 42 x_{1} + 6 \\left(x_{0} + x_{1}\\right)^{2}\\\\x_{0}^{3} + 3 x_{0} \\left(x_{0} + x_{1}\\right) + 3 x_{0} + 3 x_{1} & x_{0}^{3} x_{1} + 3 x_{0} x_{1} \\left(x_{0} + x_{1}\\right) + 3 x_{0} \\left(x_{0} + x_{1}\\right) + 6 x_{0} + 3 x_{1} \\left(x_{0} + x_{1}\\right) + 6 x_{1} & x_{0}^{3} x_{1}^{2} + x_{0}^{3} \\left(x_{0} + x_{1}\\right) + 3 x_{0}^{2} \\left(x_{0} + x_{1}\\right) + 3 x_{0} x_{1}^{2} \\left(x_{0} + x_{1}\\right) + 6 x_{0} x_{1} \\left(x_{0} + x_{1}\\right) + 3 x_{0} \\left(x_{0} + x_{1}\\right)^{2} + 18 x_{0} \\left(x_{0} + x_{1}\\right) + 42 x_{0} + 3 x_{1}^{2} \\left(x_{0} + x_{1}\\right) + 12 x_{1} \\left(x_{0} + x_{1}\\right) + 42 x_{1} + 6 \\left(x_{0} + x_{1}\\right)^{2} & x_{0}^{3} x_{1}^{3} + 3 x_{0}^{3} x_{1} \\left(x_{0} + x_{1}\\right) + 3 x_{0}^{3} \\left(x_{0} + x_{1}\\right) + 9 x_{0}^{2} x_{1} \\left(x_{0} + x_{1}\\right) + 18 x_{0}^{2} \\left(x_{0} + x_{1}\\right) + 3 x_{0} x_{1}^{3} \\left(x_{0} + x_{1}\\right) + 9 x_{0} x_{1}^{2} \\left(x_{0} + x_{1}\\right) + 9 x_{0} x_{1} \\left(x_{0} + x_{1}\\right)^{2} + 54 x_{0} x_{1} \\left(x_{0} + x_{1}\\right) + 18 x_{0} \\left(x_{0} + x_{1}\\right)^{2} + 126 x_{0} \\left(x_{0} + x_{1}\\right) + 360 x_{0} + 3 x_{1}^{3} \\left(x_{0} + x_{1}\\right) + 18 x_{1}^{2} \\left(x_{0} + x_{1}\\right) + 18 x_{1} \\left(x_{0} + x_{1}\\right)^{2} + 126 x_{1} \\left(x_{0} + x_{1}\\right) + 360 x_{1} + 54 \\left(x_{0} + x_{1}\\right)^{2}\\end{matrix}\\right]$$"
      ],
      "text/plain": [
       "⎡                                                                             \n",
       "⎢                1                                                       x₁   \n",
       "⎢                                                                             \n",
       "⎢                                                                             \n",
       "⎢                x₀                                                    x₀⋅x₁  \n",
       "⎢                                                                             \n",
       "⎢            2                                              2                 \n",
       "⎢          x₀  + x₀ + x₁                                  x₀ ⋅x₁ + x₀ + x₁⋅(x₀\n",
       "⎢                                                                             \n",
       "⎢  3                                   3                                      \n",
       "⎣x₀  + 3⋅x₀⋅(x₀ + x₁) + 3⋅x₀ + 3⋅x₁  x₀ ⋅x₁ + 3⋅x₀⋅x₁⋅(x₀ + x₁) + 3⋅x₀⋅(x₀ + x\n",
       "\n",
       "                                                                              \n",
       "                                                                              \n",
       "                                                                              \n",
       "                                                                              \n",
       "                                                                              \n",
       "                                                                              \n",
       "                                                                              \n",
       " + x₁) + x₁                                                                  x\n",
       "                                                                              \n",
       "                                     3   2     3                 2            \n",
       "₁) + 6⋅x₀ + 3⋅x₁⋅(x₀ + x₁) + 6⋅x₁  x₀ ⋅x₁  + x₀ ⋅(x₀ + x₁) + 3⋅x₀ ⋅(x₀ + x₁) +\n",
       "\n",
       "                                                  2                           \n",
       "                                           x₀ + x₁  + x₁                      \n",
       "                                                                              \n",
       "                                       2                                      \n",
       "                                  x₀⋅x₁  + x₀⋅(x₀ + x₁) + x₀ + x₁             \n",
       "                                                                              \n",
       " 2   2     2                                       2                          \n",
       "₀ ⋅x₁  + x₀ ⋅(x₀ + x₁) + 2⋅x₀⋅(x₀ + x₁) + 6⋅x₀ + x₁ ⋅(x₀ + x₁) + 2⋅x₁⋅(x₀ + x₁\n",
       "                                                                              \n",
       "        2                                               2                     \n",
       " 3⋅x₀⋅x₁ ⋅(x₀ + x₁) + 6⋅x₀⋅x₁⋅(x₀ + x₁) + 3⋅x₀⋅(x₀ + x₁)  + 18⋅x₀⋅(x₀ + x₁) + \n",
       "\n",
       "                                                                              \n",
       "                                                                              \n",
       "                                                                              \n",
       "                                                                              \n",
       "                                                                              \n",
       "                                                                              \n",
       "                    2                                                         \n",
       ") + 6⋅x₁ + (x₀ + x₁)                                                          \n",
       "                                                                              \n",
       "            2                                                  2    3   3     \n",
       "42⋅x₀ + 3⋅x₁ ⋅(x₀ + x₁) + 12⋅x₁⋅(x₀ + x₁) + 42⋅x₁ + 6⋅(x₀ + x₁)   x₀ ⋅x₁  + 3⋅\n",
       "\n",
       "                                                                              \n",
       "                                                                              \n",
       "                                                                              \n",
       "                                                                              \n",
       "                                                                              \n",
       "                                                                              \n",
       "                                                        2   3       2         \n",
       "                                                      x₀ ⋅x₁  + 3⋅x₀ ⋅x₁⋅(x₀ +\n",
       "                                                                              \n",
       "  3                    3                 2                     2              \n",
       "x₀ ⋅x₁⋅(x₀ + x₁) + 3⋅x₀ ⋅(x₀ + x₁) + 9⋅x₀ ⋅x₁⋅(x₀ + x₁) + 18⋅x₀ ⋅(x₀ + x₁) + 3\n",
       "\n",
       "                                                            3                 \n",
       "                                                   3⋅x₀ + x₁  + 3⋅x₁⋅(x₀ + x₁)\n",
       "                                                                              \n",
       "                                    3                                         \n",
       "                               x₀⋅x₁  + 3⋅x₀⋅x₁⋅(x₀ + x₁) + 3⋅x₀⋅(x₀ + x₁) + 6\n",
       "                                                                              \n",
       "           2                                                             3    \n",
       " x₁) + 3⋅x₀ ⋅(x₀ + x₁) + 6⋅x₀⋅x₁⋅(x₀ + x₁) + 12⋅x₀⋅(x₀ + x₁) + 42⋅x₀ + x₁ ⋅(x₀\n",
       "                                                                              \n",
       "      3                    2                              2                   \n",
       "⋅x₀⋅x₁ ⋅(x₀ + x₁) + 9⋅x₀⋅x₁ ⋅(x₀ + x₁) + 9⋅x₀⋅x₁⋅(x₀ + x₁)  + 54⋅x₀⋅x₁⋅(x₀ + x\n",
       "\n",
       "                                                                              \n",
       " + 3⋅x₁                                                                       \n",
       "                                                                              \n",
       "                                                                              \n",
       "⋅x₀ + 3⋅x₁⋅(x₀ + x₁) + 6⋅x₁                                                   \n",
       "                                                                              \n",
       "             2                           2                                    \n",
       " + x₁) + 3⋅x₁ ⋅(x₀ + x₁) + 3⋅x₁⋅(x₀ + x₁)  + 18⋅x₁⋅(x₀ + x₁) + 42⋅x₁ + 6⋅(x₀ +\n",
       "                                                                              \n",
       "                    2                                   3                  2  \n",
       "₁) + 18⋅x₀⋅(x₀ + x₁)  + 126⋅x₀⋅(x₀ + x₁) + 360⋅x₀ + 3⋅x₁ ⋅(x₀ + x₁) + 18⋅x₁ ⋅(\n",
       "\n",
       "                                                                       ⎤\n",
       "                                                                       ⎥\n",
       "                                                                       ⎥\n",
       "                                                                       ⎥\n",
       "                                                                       ⎥\n",
       "                                                                       ⎥\n",
       "    2                                                                  ⎥\n",
       " x₁)                                                                   ⎥\n",
       "                                                                       ⎥\n",
       "                          2                                           2⎥\n",
       "x₀ + x₁) + 18⋅x₁⋅(x₀ + x₁)  + 126⋅x₁⋅(x₀ + x₁) + 360⋅x₁ + 54⋅(x₀ + x₁) ⎦"
      ]
     },
     "execution_count": 31,
     "metadata": {},
     "output_type": "execute_result"
    }
   ],
   "source": [
    "p=goPolys(exp(x*Z),v,4)\n",
    "p"
   ]
  },
  {
   "cell_type": "code",
   "execution_count": 32,
   "metadata": {},
   "outputs": [
    {
     "data": {
      "image/png": "[encoded data removed]",
      "text/latex": [
       "$$\\left[\\begin{matrix}1 & y_{1} & - y_{0} + y_{1}^{2} - y_{1} & - y_{1} \\left(3 y_{0} - y_{1}^{2} + 3 y_{1}\\right)\\\\y_{0} & y_{0} y_{1} & - y_{0} \\left(y_{0} - y_{1}^{2} + y_{1}\\right) & y_{0} y_{1} \\left(- 3 y_{0} + y_{1}^{2} - 3 y_{1}\\right)\\\\y_{0}^{2} - y_{0} - y_{1} & - y_{1} \\left(- y_{0}^{2} + y_{0} + y_{1}\\right) & y_{0}^{2} y_{1}^{2} - y_{0}^{2} \\left(y_{0} + y_{1}\\right) - y_{1}^{2} \\left(y_{0} + y_{1}\\right) + \\left(y_{0} + y_{1}\\right)^{2} & - y_{1} \\left(- y_{0}^{2} y_{1}^{2} + 3 y_{0}^{2} \\left(y_{0} + y_{1}\\right) + y_{1}^{2} \\left(y_{0} + y_{1}\\right) - 3 \\left(y_{0} + y_{1}\\right)^{2}\\right)\\\\- y_{0} \\left(- y_{0}^{2} + 3 y_{0} + 3 y_{1}\\right) & y_{0} y_{1} \\left(y_{0}^{2} - 3 y_{0} - 3 y_{1}\\right) & - y_{0} \\left(- y_{0}^{2} y_{1}^{2} + y_{0}^{2} \\left(y_{0} + y_{1}\\right) + 3 y_{1}^{2} \\left(y_{0} + y_{1}\\right) - 3 \\left(y_{0} + y_{1}\\right)^{2}\\right) & y_{0} y_{1} \\left(y_{0}^{2} y_{1}^{2} - 3 y_{0}^{2} \\left(y_{0} + y_{1}\\right) - 3 y_{1}^{2} \\left(y_{0} + y_{1}\\right) + 9 \\left(y_{0} + y_{1}\\right)^{2}\\right)\\end{matrix}\\right]$$"
      ],
      "text/plain": [
       "⎡                                                                             \n",
       "⎢            1                         y₁                                     \n",
       "⎢                                                                             \n",
       "⎢                                                                             \n",
       "⎢           y₀                        y₀⋅y₁                                  -\n",
       "⎢                                                                             \n",
       "⎢        2                        ⎛    2          ⎞            2   2     2    \n",
       "⎢      y₀  - y₀ - y₁          -y₁⋅⎝- y₀  + y₀ + y₁⎠          y₀ ⋅y₁  - y₀ ⋅(y₀\n",
       "⎢                                                                             \n",
       "⎢    ⎛    2              ⎞        ⎛  2              ⎞      ⎛    2   2     2   \n",
       "⎣-y₀⋅⎝- y₀  + 3⋅y₀ + 3⋅y₁⎠  y₀⋅y₁⋅⎝y₀  - 3⋅y₀ - 3⋅y₁⎠  -y₀⋅⎝- y₀ ⋅y₁  + y₀ ⋅(y\n",
       "\n",
       "          2                                                         ⎛         \n",
       "  -y₀ + y₁  - y₁                                                -y₁⋅⎝3⋅y₀ - y₁\n",
       "                                                                              \n",
       "   ⎛       2     ⎞                                                   ⎛        \n",
       "y₀⋅⎝y₀ - y₁  + y₁⎠                                             y₀⋅y₁⋅⎝-3⋅y₀ + \n",
       "                                                                              \n",
       "           2                      2             ⎛    2   2       2            \n",
       " + y₁) - y₁ ⋅(y₀ + y₁) + (y₀ + y₁)          -y₁⋅⎝- y₀ ⋅y₁  + 3⋅y₀ ⋅(y₀ + y₁) +\n",
       "                                                                              \n",
       "              2                        2⎞        ⎛  2   2       2             \n",
       "₀ + y₁) + 3⋅y₁ ⋅(y₀ + y₁) - 3⋅(y₀ + y₁) ⎠  y₀⋅y₁⋅⎝y₀ ⋅y₁  - 3⋅y₀ ⋅(y₀ + y₁) - \n",
       "\n",
       "2       ⎞                      ⎤\n",
       "  + 3⋅y₁⎠                      ⎥\n",
       "                               ⎥\n",
       "  2       ⎞                    ⎥\n",
       "y₁  - 3⋅y₁⎠                    ⎥\n",
       "                               ⎥\n",
       "   2                        2⎞ ⎥\n",
       " y₁ ⋅(y₀ + y₁) - 3⋅(y₀ + y₁) ⎠ ⎥\n",
       "                               ⎥\n",
       "    2                        2⎞⎥\n",
       "3⋅y₁ ⋅(y₀ + y₁) + 9⋅(y₀ + y₁) ⎠⎦"
      ]
     },
     "execution_count": 32,
     "metadata": {},
     "output_type": "execute_result"
    }
   ],
   "source": [
    "y=Matrix(1,2,symbols('y:2'))\n",
    "q=goPolys(exp(y*V),z,4)\n",
    "q"
   ]
  },
  {
   "cell_type": "code",
   "execution_count": null,
   "metadata": {},
   "outputs": [],
   "source": []
  },
  {
   "cell_type": "code",
   "execution_count": null,
   "metadata": {},
   "outputs": [],
   "source": []
  }
 ],
 "metadata": {
  "kernelspec": {
   "display_name": "Python 3",
   "language": "python",
   "name": "python3"
  },
  "language_info": {
   "codemirror_mode": {
    "name": "ipython",
    "version": 3
   },
   "file_extension": ".py",
   "mimetype": "text/x-python",
   "name": "python",
   "nbconvert_exporter": "python",
   "pygments_lexer": "ipython3",
   "version": "3.7.3"
  }
 },
 "nbformat": 4,
 "nbformat_minor": 2
}
