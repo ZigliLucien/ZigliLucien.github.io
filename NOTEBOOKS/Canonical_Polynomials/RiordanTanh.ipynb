{
 "cells": [
  {
   "cell_type": "code",
   "execution_count": 1,
   "metadata": {},
   "outputs": [],
   "source": [
    "from sympy import *\n",
    "from IPython.display import *\n",
    "init_printing()\n",
    "var('a:z')\n",
    "var('A:Z');"
   ]
  },
  {
   "cell_type": "code",
   "execution_count": 2,
   "metadata": {},
   "outputs": [
    {
     "data": {
      "image/png": "[encoded data removed]",
      "text/latex": [
       "$$\\operatorname{atanh}{\\left (v \\right )}$$"
      ],
      "text/plain": [
       "atanh(v)"
      ]
     },
     "execution_count": 2,
     "metadata": {},
     "output_type": "execute_result"
    }
   ],
   "source": [
    "V=tanh(z)\n",
    "Z=solve(V-v,z)[0]\n",
    "Z=atanh(v)\n",
    "Z"
   ]
  },
  {
   "cell_type": "code",
   "execution_count": 44,
   "metadata": {},
   "outputs": [
    {
     "data": {
      "image/png": "[encoded data removed]",
      "text/latex": [
       "$$\\left [ 1, \\quad x, \\quad x^{2}, \\quad x^{3} + 2 x, \\quad x^{4} + 8 x^{2}, \\quad x^{5} + 20 x^{3} + 24 x, \\quad x^{6} + 40 x^{4} + 184 x^{2}, \\quad x^{7} + 70 x^{5} + 784 x^{3} + 720 x, \\quad x^{8} + 112 x^{6} + 2464 x^{4} + 8448 x^{2}\\right ]$$"
      ],
      "text/plain": [
       "⎡       2   3         4      2   5       3          6       4        2   7    \n",
       "⎣1, x, x , x  + 2⋅x, x  + 8⋅x , x  + 20⋅x  + 24⋅x, x  + 40⋅x  + 184⋅x , x  + 7\n",
       "\n",
       "   5        3           8        6         4         2⎤\n",
       "0⋅x  + 784⋅x  + 720⋅x, x  + 112⋅x  + 2464⋅x  + 8448⋅x ⎦"
      ]
     },
     "execution_count": 44,
     "metadata": {},
     "output_type": "execute_result"
    }
   ],
   "source": [
    "N=9\n",
    "p=[]\n",
    "f=series(exp(x*Z),v,0,N)\n",
    "for i in range(N):\n",
    "    p.append(factorial(i)*f.coeff(v,i))\n",
    "p"
   ]
  },
  {
   "cell_type": "code",
   "execution_count": 4,
   "metadata": {},
   "outputs": [
    {
     "data": {
      "image/png": "[encoded data removed]",
      "text/latex": [
       "$$\\left [ 1, \\quad y, \\quad y^{2}, \\quad y^{3} - 2 y, \\quad y^{4} - 8 y^{2}, \\quad y^{5} - 20 y^{3} + 16 y, \\quad y^{6} - 40 y^{4} + 136 y^{2}, \\quad y^{7} - 70 y^{5} + 616 y^{3} - 272 y, \\quad y^{8} - 112 y^{6} + 2016 y^{4} - 3968 y^{2}\\right ]$$"
      ],
      "text/plain": [
       "⎡       2   3         4      2   5       3          6       4        2   7    \n",
       "⎣1, y, y , y  - 2⋅y, y  - 8⋅y , y  - 20⋅y  + 16⋅y, y  - 40⋅y  + 136⋅y , y  - 7\n",
       "\n",
       "   5        3           8        6         4         2⎤\n",
       "0⋅y  + 616⋅y  - 272⋅y, y  - 112⋅y  + 2016⋅y  - 3968⋅y ⎦"
      ]
     },
     "execution_count": 4,
     "metadata": {},
     "output_type": "execute_result"
    }
   ],
   "source": [
    "N=9\n",
    "q=[]\n",
    "f=series(exp(y*V),z,0,N)\n",
    "for i in range(N):\n",
    "    q.append(factorial(i)*f.coeff(z,i))\n",
    "q"
   ]
  },
  {
   "cell_type": "code",
   "execution_count": 5,
   "metadata": {},
   "outputs": [
    {
     "data": {
      "image/png": "[encoded data removed]",
      "text/latex": [
       "$$\\left ( \\left[\\begin{matrix}1 & 0 & 0 & 0 & 0 & 0 & 0 & 0 & 0\\\\0 & 1 & 0 & 0 & 0 & 0 & 0 & 0 & 0\\\\0 & 0 & 1 & 0 & 0 & 0 & 0 & 0 & 0\\\\0 & 2 & 0 & 1 & 0 & 0 & 0 & 0 & 0\\\\0 & 0 & 8 & 0 & 1 & 0 & 0 & 0 & 0\\\\0 & 24 & 0 & 20 & 0 & 1 & 0 & 0 & 0\\\\0 & 0 & 184 & 0 & 40 & 0 & 1 & 0 & 0\\\\0 & 720 & 0 & 784 & 0 & 70 & 0 & 1 & 0\\\\0 & 0 & 8448 & 0 & 2464 & 0 & 112 & 0 & 1\\end{matrix}\\right], \\quad \\left[\\begin{matrix}1 & 0 & 0 & 0 & 0 & 0 & 0 & 0 & 0\\\\0 & 1 & 0 & 0 & 0 & 0 & 0 & 0 & 0\\\\0 & 0 & 1 & 0 & 0 & 0 & 0 & 0 & 0\\\\0 & -2 & 0 & 1 & 0 & 0 & 0 & 0 & 0\\\\0 & 0 & -8 & 0 & 1 & 0 & 0 & 0 & 0\\\\0 & 16 & 0 & -20 & 0 & 1 & 0 & 0 & 0\\\\0 & 0 & 136 & 0 & -40 & 0 & 1 & 0 & 0\\\\0 & -272 & 0 & 616 & 0 & -70 & 0 & 1 & 0\\\\0 & 0 & -3968 & 0 & 2016 & 0 & -112 & 0 & 1\\end{matrix}\\right], \\quad \\left[\\begin{matrix}1 & 0 & 0 & 0 & 0 & 0 & 0 & 0 & 0\\\\0 & 1 & 0 & 0 & 0 & 0 & 0 & 0 & 0\\\\0 & 0 & 1 & 0 & 0 & 0 & 0 & 0 & 0\\\\0 & 0 & 0 & 1 & 0 & 0 & 0 & 0 & 0\\\\0 & 0 & 0 & 0 & 1 & 0 & 0 & 0 & 0\\\\0 & 0 & 0 & 0 & 0 & 1 & 0 & 0 & 0\\\\0 & 0 & 0 & 0 & 0 & 0 & 1 & 0 & 0\\\\0 & 0 & 0 & 0 & 0 & 0 & 0 & 1 & 0\\\\0 & 0 & 0 & 0 & 0 & 0 & 0 & 0 & 1\\end{matrix}\\right]\\right )$$"
      ],
      "text/plain": [
       "⎛⎡1   0    0     0    0    0    0   0  0⎤  ⎡1   0      0     0    0     0    0\n",
       "⎜⎢                                      ⎥  ⎢                                  \n",
       "⎜⎢0   1    0     0    0    0    0   0  0⎥  ⎢0   1      0     0    0     0    0\n",
       "⎜⎢                                      ⎥  ⎢                                  \n",
       "⎜⎢0   0    1     0    0    0    0   0  0⎥  ⎢0   0      1     0    0     0    0\n",
       "⎜⎢                                      ⎥  ⎢                                  \n",
       "⎜⎢0   2    0     1    0    0    0   0  0⎥  ⎢0   -2     0     1    0     0    0\n",
       "⎜⎢                                      ⎥  ⎢                                  \n",
       "⎜⎢0   0    8     0    1    0    0   0  0⎥, ⎢0   0     -8     0    1     0    0\n",
       "⎜⎢                                      ⎥  ⎢                                  \n",
       "⎜⎢0  24    0    20    0    1    0   0  0⎥  ⎢0   16     0    -20   0     1    0\n",
       "⎜⎢                                      ⎥  ⎢                                  \n",
       "⎜⎢0   0   184    0    40   0    1   0  0⎥  ⎢0   0     136    0   -40    0    1\n",
       "⎜⎢                                      ⎥  ⎢                                  \n",
       "⎜⎢0  720   0    784   0    70   0   1  0⎥  ⎢0  -272    0    616   0    -70   0\n",
       "⎜⎢                                      ⎥  ⎢                                  \n",
       "⎝⎣0   0   8448   0   2464  0   112  0  1⎦  ⎣0   0    -3968   0   2016   0   -1\n",
       "\n",
       "    0  0⎤  ⎡1  0  0  0  0  0  0  0  0⎤⎞\n",
       "        ⎥  ⎢                         ⎥⎟\n",
       "    0  0⎥  ⎢0  1  0  0  0  0  0  0  0⎥⎟\n",
       "        ⎥  ⎢                         ⎥⎟\n",
       "    0  0⎥  ⎢0  0  1  0  0  0  0  0  0⎥⎟\n",
       "        ⎥  ⎢                         ⎥⎟\n",
       "    0  0⎥  ⎢0  0  0  1  0  0  0  0  0⎥⎟\n",
       "        ⎥  ⎢                         ⎥⎟\n",
       "    0  0⎥, ⎢0  0  0  0  1  0  0  0  0⎥⎟\n",
       "        ⎥  ⎢                         ⎥⎟\n",
       "    0  0⎥  ⎢0  0  0  0  0  1  0  0  0⎥⎟\n",
       "        ⎥  ⎢                         ⎥⎟\n",
       "    0  0⎥  ⎢0  0  0  0  0  0  1  0  0⎥⎟\n",
       "        ⎥  ⎢                         ⎥⎟\n",
       "    1  0⎥  ⎢0  0  0  0  0  0  0  1  0⎥⎟\n",
       "        ⎥  ⎢                         ⎥⎟\n",
       "12  0  1⎦  ⎣0  0  0  0  0  0  0  0  1⎦⎠"
      ]
     },
     "execution_count": 5,
     "metadata": {},
     "output_type": "execute_result"
    }
   ],
   "source": [
    "PCF=Matrix(N,N,lambda n,k: p[n].coeff(x,k))\n",
    "QCF=Matrix(N,N,lambda n,k: q[n].coeff(y,k))\n",
    "PCF,QCF,simplify(PCF*QCF)"
   ]
  },
  {
   "cell_type": "code",
   "execution_count": 6,
   "metadata": {},
   "outputs": [
    {
     "data": {
      "text/plain": [
       "[True, True, True, True, True, True, True, True, True]"
      ]
     },
     "execution_count": 6,
     "metadata": {},
     "output_type": "execute_result"
    }
   ],
   "source": [
    "qa=[]\n",
    "for n in range(N):\n",
    "    qa.append(bool(sum(p[n-k]*p[k].subs(x,y)*binomial(n,k) for k in range(n+1)).expand()-p[n].subs(x,x+y).expand()==0))\n",
    "qa    "
   ]
  },
  {
   "cell_type": "code",
   "execution_count": 7,
   "metadata": {},
   "outputs": [
    {
     "data": {
      "text/plain": [
       "[True, True, True, True, True, True, True, True, True]"
      ]
     },
     "execution_count": 7,
     "metadata": {},
     "output_type": "execute_result"
    }
   ],
   "source": [
    "W=[]\n",
    "WW=[]\n",
    "for n in range(N):\n",
    "    W.append(zeros(N,N))\n",
    "    WW.append(zeros(N,N))\n",
    "    for k in range(floor(N/2)):\n",
    "        for l in range(floor(N/2)):\n",
    "            W[n][k,l]=sum(binomial(n,j)*PCF[n-j,k]*PCF[j,l] for j in range(n+1))\n",
    "            WW[n][k,l]=PCF[n,k+l]*binomial(k+l,l)\n",
    "[(W[a]-WW[a]).is_zero for a in range(N)]"
   ]
  },
  {
   "cell_type": "code",
   "execution_count": 12,
   "metadata": {},
   "outputs": [
    {
     "data": {
      "image/png": "[encoded data removed]",
      "text/latex": [
       "$$\\left [ 1, \\quad 1\\right ]$$"
      ],
      "text/plain": [
       "[1, 1]"
      ]
     },
     "metadata": {},
     "output_type": "display_data"
    },
    {
     "data": {
      "image/png": "[encoded data removed]",
      "text/latex": [
       "$$\\left [ x, \\quad y\\right ]$$"
      ],
      "text/plain": [
       "[x, y]"
      ]
     },
     "metadata": {},
     "output_type": "display_data"
    },
    {
     "data": {
      "image/png": "[encoded data removed]",
      "text/latex": [
       "$$\\left [ x^{2}, \\quad y^{2}\\right ]$$"
      ],
      "text/plain": [
       "⎡ 2   2⎤\n",
       "⎣x , y ⎦"
      ]
     },
     "metadata": {},
     "output_type": "display_data"
    },
    {
     "data": {
      "image/png": "[encoded data removed]",
      "text/latex": [
       "$$\\left [ x^{3} + 2 x, \\quad y^{3} - 2 y\\right ]$$"
      ],
      "text/plain": [
       "⎡ 3         3      ⎤\n",
       "⎣x  + 2⋅x, y  - 2⋅y⎦"
      ]
     },
     "metadata": {},
     "output_type": "display_data"
    },
    {
     "data": {
      "image/png": "[encoded data removed]",
      "text/latex": [
       "$$\\left [ x^{4} + 8 x^{2}, \\quad y^{4} - 8 y^{2}\\right ]$$"
      ],
      "text/plain": [
       "⎡ 4      2   4      2⎤\n",
       "⎣x  + 8⋅x , y  - 8⋅y ⎦"
      ]
     },
     "metadata": {},
     "output_type": "display_data"
    },
    {
     "data": {
      "image/png": "[encoded data removed]",
      "text/latex": [
       "$$\\left [ x^{5} + 20 x^{3} + 24 x, \\quad y^{5} - 20 y^{3} + 16 y\\right ]$$"
      ],
      "text/plain": [
       "⎡ 5       3          5       3       ⎤\n",
       "⎣x  + 20⋅x  + 24⋅x, y  - 20⋅y  + 16⋅y⎦"
      ]
     },
     "metadata": {},
     "output_type": "display_data"
    },
    {
     "data": {
      "image/png": "[encoded data removed]",
      "text/latex": [
       "$$\\left [ x^{6} + 40 x^{4} + 184 x^{2}, \\quad y^{6} - 40 y^{4} + 136 y^{2}\\right ]$$"
      ],
      "text/plain": [
       "⎡ 6       4        2   6       4        2⎤\n",
       "⎣x  + 40⋅x  + 184⋅x , y  - 40⋅y  + 136⋅y ⎦"
      ]
     },
     "metadata": {},
     "output_type": "display_data"
    },
    {
     "data": {
      "image/png": "[encoded data removed]",
      "text/latex": [
       "$$\\left [ x^{7} + 70 x^{5} + 784 x^{3} + 720 x, \\quad y^{7} - 70 y^{5} + 616 y^{3} - 272 y\\right ]$$"
      ],
      "text/plain": [
       "⎡ 7       5        3           7       5        3        ⎤\n",
       "⎣x  + 70⋅x  + 784⋅x  + 720⋅x, y  - 70⋅y  + 616⋅y  - 272⋅y⎦"
      ]
     },
     "metadata": {},
     "output_type": "display_data"
    },
    {
     "data": {
      "image/png": "[encoded data removed]",
      "text/latex": [
       "$$\\left [ x^{8} + 112 x^{6} + 2464 x^{4} + 8448 x^{2}, \\quad y^{8} - 112 y^{6} + 2016 y^{4} - 3968 y^{2}\\right ]$$"
      ],
      "text/plain": [
       "⎡ 8        6         4         2   8        6         4         2⎤\n",
       "⎣x  + 112⋅x  + 2464⋅x  + 8448⋅x , y  - 112⋅y  + 2016⋅y  - 3968⋅y ⎦"
      ]
     },
     "metadata": {},
     "output_type": "display_data"
    }
   ],
   "source": [
    "for i in range(N):\n",
    "    display([p[i],q[i]])"
   ]
  },
  {
   "cell_type": "code",
   "execution_count": 9,
   "metadata": {},
   "outputs": [
    {
     "data": {
      "image/png": "[encoded data removed]",
      "text/latex": [
       "$$\\left [ 1, \\quad y, \\quad y^{2}, \\quad y^{3}, \\quad y^{4}, \\quad y^{5}, \\quad y^{6}, \\quad y^{7}, \\quad y^{8}\\right ]$$"
      ],
      "text/plain": [
       "⎡       2   3   4   5   6   7   8⎤\n",
       "⎣1, y, y , y , y , y , y , y , y ⎦"
      ]
     },
     "metadata": {},
     "output_type": "display_data"
    },
    {
     "data": {
      "image/png": "[encoded data removed]",
      "text/latex": [
       "$$\\left [ 1, \\quad x, \\quad x^{2}, \\quad x^{3}, \\quad x^{4}, \\quad x^{5}, \\quad x^{6}, \\quad x^{7}, \\quad x^{8}\\right ]$$"
      ],
      "text/plain": [
       "⎡       2   3   4   5   6   7   8⎤\n",
       "⎣1, x, x , x , x , x , x , x , x ⎦"
      ]
     },
     "metadata": {},
     "output_type": "display_data"
    }
   ],
   "source": [
    "yy=[]\n",
    "for m in range(N):\n",
    "    g=0\n",
    "    for i in range(m+1):\n",
    "       g=g+p[m].coeff(x,i)*q[i]\n",
    "    yy.append(simplify(g))    \n",
    "\n",
    "display(yy)\n",
    "    \n",
    "xx=[]    \n",
    "for m in range(N):\n",
    "    g=0\n",
    "    for i in range(m+1):\n",
    "       g=g+q[m].coeff(y,i)*p[i] \n",
    "    xx.append(simplify(g))\n",
    "    \n",
    "display(xx)    "
   ]
  },
  {
   "cell_type": "code",
   "execution_count": 10,
   "metadata": {},
   "outputs": [
    {
     "data": {
      "image/png": "[encoded data removed]",
      "text/latex": [
       "$$\\left [ 0, \\quad 0, \\quad 0, \\quad 0, \\quad 0, \\quad 0, \\quad 0, \\quad 0, \\quad 0\\right ]$$"
      ],
      "text/plain": [
       "[0, 0, 0, 0, 0, 0, 0, 0, 0]"
      ]
     },
     "metadata": {},
     "output_type": "display_data"
    },
    {
     "data": {
      "image/png": "[encoded data removed]",
      "text/latex": [
       "$$\\left [ 0, \\quad 0, \\quad 0, \\quad 0, \\quad 0, \\quad 0, \\quad 0, \\quad 0\\right ]$$"
      ],
      "text/plain": [
       "[0, 0, 0, 0, 0, 0, 0, 0]"
      ]
     },
     "metadata": {},
     "output_type": "display_data"
    }
   ],
   "source": [
    "display([expand(sum(binomial(n,k)*(-1)**k*ff(x/2,n-k)*ff(-x/2,k) for k in range(n+1)))-p[n] for n in range(N) ])\n",
    "from sympy.functions.combinatorial.numbers import stirling\n",
    "%store -r L\n",
    "display([simplify(sum(stirling(n,m)*2**(n-m)*(L[m].subs(x,y)) for m in range(1,n+1))-q[n]) for n in range(1,N)])\n"
   ]
  },
  {
   "cell_type": "markdown",
   "metadata": {},
   "source": [
    "\"Time-zero\" Krawtchouk polynomials:\n",
    "$$p_n(x)=K_n(x/2;1/2,0)=\\sum_{k=0}^n {n\\choose k}(-1)^k\\left(\\frac{x}{2}\\right)^{(n-k)}\\left(-\\frac{x}{2}\\right)^{(k)}$$\n",
    "referring to [DLMF](http://dlmf.nist.gov/), 18.23.3 .\n",
    "\n",
    "For the tanh-polynomials, we have\n",
    "$$q_n(y)=\\sum_{m=1}^n S(n,m) 2^{n-m}p_m^{\\rm Laguerre}(y)$$\n"
   ]
  },
  {
   "cell_type": "code",
   "execution_count": 52,
   "metadata": {},
   "outputs": [
    {
     "data": {
      "image/png": "[encoded data removed]",
      "text/latex": [
       "$$0$$"
      ],
      "text/plain": [
       "0"
      ]
     },
     "metadata": {},
     "output_type": "display_data"
    },
    {
     "data": {
      "image/png": "[encoded data removed]",
      "text/latex": [
       "$$0$$"
      ],
      "text/plain": [
       "0"
      ]
     },
     "metadata": {},
     "output_type": "display_data"
    },
    {
     "data": {
      "image/png": "[encoded data removed]",
      "text/latex": [
       "$$0$$"
      ],
      "text/plain": [
       "0"
      ]
     },
     "metadata": {},
     "output_type": "display_data"
    },
    {
     "data": {
      "image/png": "[encoded data removed]",
      "text/latex": [
       "$$0$$"
      ],
      "text/plain": [
       "0"
      ]
     },
     "metadata": {},
     "output_type": "display_data"
    }
   ],
   "source": [
    "for n in range(0,N-1,2):\n",
    "    display(expand(y*q[n]-sum(binomial(n,2*j)*2**(2*j-1)*q[n+1-2*j] for j in range(1,1+Rational(n/2))))-q[n+1])"
   ]
  },
  {
   "cell_type": "code",
   "execution_count": 53,
   "metadata": {},
   "outputs": [
    {
     "data": {
      "image/png": "[encoded data removed]",
      "text/latex": [
       "$$0$$"
      ],
      "text/plain": [
       "0"
      ]
     },
     "metadata": {},
     "output_type": "display_data"
    },
    {
     "data": {
      "image/png": "[encoded data removed]",
      "text/latex": [
       "$$0$$"
      ],
      "text/plain": [
       "0"
      ]
     },
     "metadata": {},
     "output_type": "display_data"
    },
    {
     "data": {
      "image/png": "[encoded data removed]",
      "text/latex": [
       "$$0$$"
      ],
      "text/plain": [
       "0"
      ]
     },
     "metadata": {},
     "output_type": "display_data"
    },
    {
     "data": {
      "image/png": "[encoded data removed]",
      "text/latex": [
       "$$0$$"
      ],
      "text/plain": [
       "0"
      ]
     },
     "metadata": {},
     "output_type": "display_data"
    }
   ],
   "source": [
    "for n in range(1,N,2):\n",
    "        display(expand(y*q[n]-sum(binomial(n,2*j)*2**(2*j-1)*q[n+1-2*j] for j in range(1,1+Rational((n-1)/2))))-q[n+1])"
   ]
  },
  {
   "cell_type": "code",
   "execution_count": null,
   "metadata": {},
   "outputs": [],
   "source": []
  }
 ],
 "metadata": {
  "kernelspec": {
   "display_name": "Python 3",
   "language": "python",
   "name": "python3"
  },
  "language_info": {
   "codemirror_mode": {
    "name": "ipython",
    "version": 3
   },
   "file_extension": ".py",
   "mimetype": "text/x-python",
   "name": "python",
   "nbconvert_exporter": "python",
   "pygments_lexer": "ipython3",
   "version": "3.7.3"
  }
 },
 "nbformat": 4,
 "nbformat_minor": 2
}
