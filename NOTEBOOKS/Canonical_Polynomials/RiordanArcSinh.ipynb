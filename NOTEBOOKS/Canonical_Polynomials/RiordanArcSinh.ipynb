{
 "cells": [
  {
   "cell_type": "code",
   "execution_count": 1,
   "metadata": {},
   "outputs": [],
   "source": [
    "from sympy import *\n",
    "from IPython.display import *\n",
    "init_printing()\n",
    "var('a:z')\n",
    "var('A:Z');"
   ]
  },
  {
   "cell_type": "code",
   "execution_count": 2,
   "metadata": {},
   "outputs": [
    {
     "data": {
      "image/png": "[encoded data removed]",
      "text/latex": [
       "$$\\sinh{\\left (v \\right )}$$"
      ],
      "text/plain": [
       "sinh(v)"
      ]
     },
     "execution_count": 2,
     "metadata": {},
     "output_type": "execute_result"
    }
   ],
   "source": [
    "V=asinh(z)\n",
    "Z=solve(V-v,z)[0]\n",
    "Z"
   ]
  },
  {
   "cell_type": "code",
   "execution_count": 3,
   "metadata": {},
   "outputs": [
    {
     "data": {
      "image/png": "[encoded data removed]",
      "text/latex": [
       "$$\\left [ 1, \\quad x, \\quad x^{2}, \\quad x^{3} + x, \\quad x^{4} + 4 x^{2}, \\quad x^{5} + 10 x^{3} + x, \\quad x^{6} + 20 x^{4} + 16 x^{2}, \\quad x^{7} + 35 x^{5} + 91 x^{3} + x, \\quad x^{8} + 56 x^{6} + 336 x^{4} + 64 x^{2}\\right ]$$"
      ],
      "text/plain": [
       "⎡       2   3       4      2   5       3       6       4       2   7       5  \n",
       "⎣1, x, x , x  + x, x  + 4⋅x , x  + 10⋅x  + x, x  + 20⋅x  + 16⋅x , x  + 35⋅x  +\n",
       "\n",
       "     3       8       6        4       2⎤\n",
       " 91⋅x  + x, x  + 56⋅x  + 336⋅x  + 64⋅x ⎦"
      ]
     },
     "execution_count": 3,
     "metadata": {},
     "output_type": "execute_result"
    }
   ],
   "source": [
    "N=9\n",
    "p=[]\n",
    "f=series(exp(x*Z),v,0,N)\n",
    "for i in range(N):\n",
    "    p.append(factorial(i)*f.coeff(v,i))\n",
    "p"
   ]
  },
  {
   "cell_type": "code",
   "execution_count": 4,
   "metadata": {},
   "outputs": [
    {
     "data": {
      "image/png": "[encoded data removed]",
      "text/latex": [
       "$$\\left [ 1, \\quad y, \\quad y^{2}, \\quad y^{3} - y, \\quad y^{4} - 4 y^{2}, \\quad y^{5} - 10 y^{3} + 9 y, \\quad y^{6} - 20 y^{4} + 64 y^{2}, \\quad y^{7} - 35 y^{5} + 259 y^{3} - 225 y, \\quad y^{8} - 56 y^{6} + 784 y^{4} - 2304 y^{2}\\right ]$$"
      ],
      "text/plain": [
       "⎡       2   3       4      2   5       3         6       4       2   7       5\n",
       "⎣1, y, y , y  - y, y  - 4⋅y , y  - 10⋅y  + 9⋅y, y  - 20⋅y  + 64⋅y , y  - 35⋅y \n",
       "\n",
       "        3           8       6        4         2⎤\n",
       " + 259⋅y  - 225⋅y, y  - 56⋅y  + 784⋅y  - 2304⋅y ⎦"
      ]
     },
     "execution_count": 4,
     "metadata": {},
     "output_type": "execute_result"
    }
   ],
   "source": [
    "#N=8\n",
    "q=[]\n",
    "f=series(exp(y*V),z,0,N)\n",
    "for i in range(N):\n",
    "    q.append(factorial(i)*f.coeff(z,i))\n",
    "q"
   ]
  },
  {
   "cell_type": "code",
   "execution_count": 5,
   "metadata": {},
   "outputs": [
    {
     "data": {
      "image/png": "[encoded data removed]",
      "text/latex": [
       "$$\\left ( \\left[\\begin{matrix}1 & 0 & 0 & 0 & 0 & 0 & 0 & 0 & 0\\\\0 & 1 & 0 & 0 & 0 & 0 & 0 & 0 & 0\\\\0 & 0 & 1 & 0 & 0 & 0 & 0 & 0 & 0\\\\0 & 1 & 0 & 1 & 0 & 0 & 0 & 0 & 0\\\\0 & 0 & 4 & 0 & 1 & 0 & 0 & 0 & 0\\\\0 & 1 & 0 & 10 & 0 & 1 & 0 & 0 & 0\\\\0 & 0 & 16 & 0 & 20 & 0 & 1 & 0 & 0\\\\0 & 1 & 0 & 91 & 0 & 35 & 0 & 1 & 0\\\\0 & 0 & 64 & 0 & 336 & 0 & 56 & 0 & 1\\end{matrix}\\right], \\quad \\left[\\begin{matrix}1 & 0 & 0 & 0 & 0 & 0 & 0 & 0 & 0\\\\0 & 1 & 0 & 0 & 0 & 0 & 0 & 0 & 0\\\\0 & 0 & 1 & 0 & 0 & 0 & 0 & 0 & 0\\\\0 & -1 & 0 & 1 & 0 & 0 & 0 & 0 & 0\\\\0 & 0 & -4 & 0 & 1 & 0 & 0 & 0 & 0\\\\0 & 9 & 0 & -10 & 0 & 1 & 0 & 0 & 0\\\\0 & 0 & 64 & 0 & -20 & 0 & 1 & 0 & 0\\\\0 & -225 & 0 & 259 & 0 & -35 & 0 & 1 & 0\\\\0 & 0 & -2304 & 0 & 784 & 0 & -56 & 0 & 1\\end{matrix}\\right], \\quad \\left[\\begin{matrix}1 & 0 & 0 & 0 & 0 & 0 & 0 & 0 & 0\\\\0 & 1 & 0 & 0 & 0 & 0 & 0 & 0 & 0\\\\0 & 0 & 1 & 0 & 0 & 0 & 0 & 0 & 0\\\\0 & 0 & 0 & 1 & 0 & 0 & 0 & 0 & 0\\\\0 & 0 & 0 & 0 & 1 & 0 & 0 & 0 & 0\\\\0 & 0 & 0 & 0 & 0 & 1 & 0 & 0 & 0\\\\0 & 0 & 0 & 0 & 0 & 0 & 1 & 0 & 0\\\\0 & 0 & 0 & 0 & 0 & 0 & 0 & 1 & 0\\\\0 & 0 & 0 & 0 & 0 & 0 & 0 & 0 & 1\\end{matrix}\\right]\\right )$$"
      ],
      "text/plain": [
       "⎛⎡1  0  0   0    0   0   0   0  0⎤  ⎡1   0      0     0    0    0    0   0  0⎤\n",
       "⎜⎢                               ⎥  ⎢                                        ⎥\n",
       "⎜⎢0  1  0   0    0   0   0   0  0⎥  ⎢0   1      0     0    0    0    0   0  0⎥\n",
       "⎜⎢                               ⎥  ⎢                                        ⎥\n",
       "⎜⎢0  0  1   0    0   0   0   0  0⎥  ⎢0   0      1     0    0    0    0   0  0⎥\n",
       "⎜⎢                               ⎥  ⎢                                        ⎥\n",
       "⎜⎢0  1  0   1    0   0   0   0  0⎥  ⎢0   -1     0     1    0    0    0   0  0⎥\n",
       "⎜⎢                               ⎥  ⎢                                        ⎥\n",
       "⎜⎢0  0  4   0    1   0   0   0  0⎥, ⎢0   0     -4     0    1    0    0   0  0⎥\n",
       "⎜⎢                               ⎥  ⎢                                        ⎥\n",
       "⎜⎢0  1  0   10   0   1   0   0  0⎥  ⎢0   9      0    -10   0    1    0   0  0⎥\n",
       "⎜⎢                               ⎥  ⎢                                        ⎥\n",
       "⎜⎢0  0  16  0   20   0   1   0  0⎥  ⎢0   0     64     0   -20   0    1   0  0⎥\n",
       "⎜⎢                               ⎥  ⎢                                        ⎥\n",
       "⎜⎢0  1  0   91   0   35  0   1  0⎥  ⎢0  -225    0    259   0   -35   0   1  0⎥\n",
       "⎜⎢                               ⎥  ⎢                                        ⎥\n",
       "⎝⎣0  0  64  0   336  0   56  0  1⎦  ⎣0   0    -2304   0   784   0   -56  0  1⎦\n",
       "\n",
       "  ⎡1  0  0  0  0  0  0  0  0⎤⎞\n",
       "  ⎢                         ⎥⎟\n",
       "  ⎢0  1  0  0  0  0  0  0  0⎥⎟\n",
       "  ⎢                         ⎥⎟\n",
       "  ⎢0  0  1  0  0  0  0  0  0⎥⎟\n",
       "  ⎢                         ⎥⎟\n",
       "  ⎢0  0  0  1  0  0  0  0  0⎥⎟\n",
       "  ⎢                         ⎥⎟\n",
       ", ⎢0  0  0  0  1  0  0  0  0⎥⎟\n",
       "  ⎢                         ⎥⎟\n",
       "  ⎢0  0  0  0  0  1  0  0  0⎥⎟\n",
       "  ⎢                         ⎥⎟\n",
       "  ⎢0  0  0  0  0  0  1  0  0⎥⎟\n",
       "  ⎢                         ⎥⎟\n",
       "  ⎢0  0  0  0  0  0  0  1  0⎥⎟\n",
       "  ⎢                         ⎥⎟\n",
       "  ⎣0  0  0  0  0  0  0  0  1⎦⎠"
      ]
     },
     "execution_count": 5,
     "metadata": {},
     "output_type": "execute_result"
    }
   ],
   "source": [
    "PCF=Matrix(N,N,lambda n,k: p[n].coeff(x,k))\n",
    "QCF=Matrix(N,N,lambda n,k: q[n].coeff(y,k))\n",
    "PCF,QCF,simplify(PCF*QCF)"
   ]
  },
  {
   "cell_type": "code",
   "execution_count": 6,
   "metadata": {},
   "outputs": [
    {
     "data": {
      "text/plain": [
       "[True, True, True, True, True, True, True, True, True]"
      ]
     },
     "execution_count": 6,
     "metadata": {},
     "output_type": "execute_result"
    }
   ],
   "source": [
    "qa=[]\n",
    "for n in range(N):\n",
    "    qa.append(bool(sum(p[n-k]*p[k].subs(x,y)*binomial(n,k) for k in range(n+1)).expand()-p[n].subs(x,x+y).expand()==0))\n",
    "qa    "
   ]
  },
  {
   "cell_type": "code",
   "execution_count": 7,
   "metadata": {},
   "outputs": [
    {
     "data": {
      "text/plain": [
       "[True, True, True, True, True, True, True, True, True]"
      ]
     },
     "execution_count": 7,
     "metadata": {},
     "output_type": "execute_result"
    }
   ],
   "source": [
    "W=[]\n",
    "WW=[]\n",
    "for n in range(N):\n",
    "    W.append(zeros(N,N))\n",
    "    WW.append(zeros(N,N))\n",
    "    for k in range(floor(N/2)):\n",
    "        for l in range(floor(N/2)):\n",
    "            W[n][k,l]=sum(binomial(n,j)*PCF[n-j,k]*PCF[j,l] for j in range(n+1))\n",
    "            WW[n][k,l]=PCF[n,k+l]*binomial(k+l,l)\n",
    "[(W[a]-WW[a]).is_zero for a in range(N)]"
   ]
  },
  {
   "cell_type": "code",
   "execution_count": 12,
   "metadata": {},
   "outputs": [
    {
     "data": {
      "image/png": "[encoded data removed]",
      "text/latex": [
       "$$\\left [ 1, \\quad 1\\right ]$$"
      ],
      "text/plain": [
       "[1, 1]"
      ]
     },
     "metadata": {},
     "output_type": "display_data"
    },
    {
     "data": {
      "image/png": "[encoded data removed]",
      "text/latex": [
       "$$\\left [ x, \\quad y\\right ]$$"
      ],
      "text/plain": [
       "[x, y]"
      ]
     },
     "metadata": {},
     "output_type": "display_data"
    },
    {
     "data": {
      "image/png": "[encoded data removed]",
      "text/latex": [
       "$$\\left [ x^{2}, \\quad y^{2}\\right ]$$"
      ],
      "text/plain": [
       "⎡ 2   2⎤\n",
       "⎣x , y ⎦"
      ]
     },
     "metadata": {},
     "output_type": "display_data"
    },
    {
     "data": {
      "image/png": "[encoded data removed]",
      "text/latex": [
       "$$\\left [ x \\left(x^{2} + 1\\right), \\quad y \\left(y - 1\\right) \\left(y + 1\\right)\\right ]$$"
      ],
      "text/plain": [
       "⎡  ⎛ 2    ⎞                   ⎤\n",
       "⎣x⋅⎝x  + 1⎠, y⋅(y - 1)⋅(y + 1)⎦"
      ]
     },
     "metadata": {},
     "output_type": "display_data"
    },
    {
     "data": {
      "image/png": "[encoded data removed]",
      "text/latex": [
       "$$\\left [ x^{2} \\left(x^{2} + 4\\right), \\quad y^{2} \\left(y - 2\\right) \\left(y + 2\\right)\\right ]$$"
      ],
      "text/plain": [
       "⎡ 2 ⎛ 2    ⎞   2                ⎤\n",
       "⎣x ⋅⎝x  + 4⎠, y ⋅(y - 2)⋅(y + 2)⎦"
      ]
     },
     "metadata": {},
     "output_type": "display_data"
    },
    {
     "data": {
      "image/png": "[encoded data removed]",
      "text/latex": [
       "$$\\left [ x \\left(x^{4} + 10 x^{2} + 1\\right), \\quad y \\left(y - 3\\right) \\left(y - 1\\right) \\left(y + 1\\right) \\left(y + 3\\right)\\right ]$$"
      ],
      "text/plain": [
       "⎡  ⎛ 4       2    ⎞                                   ⎤\n",
       "⎣x⋅⎝x  + 10⋅x  + 1⎠, y⋅(y - 3)⋅(y - 1)⋅(y + 1)⋅(y + 3)⎦"
      ]
     },
     "metadata": {},
     "output_type": "display_data"
    },
    {
     "data": {
      "image/png": "[encoded data removed]",
      "text/latex": [
       "$$\\left [ x^{2} \\left(x^{4} + 20 x^{2} + 16\\right), \\quad y^{2} \\left(y - 4\\right) \\left(y - 2\\right) \\left(y + 2\\right) \\left(y + 4\\right)\\right ]$$"
      ],
      "text/plain": [
       "⎡ 2 ⎛ 4       2     ⎞   2                                ⎤\n",
       "⎣x ⋅⎝x  + 20⋅x  + 16⎠, y ⋅(y - 4)⋅(y - 2)⋅(y + 2)⋅(y + 4)⎦"
      ]
     },
     "metadata": {},
     "output_type": "display_data"
    },
    {
     "data": {
      "image/png": "[encoded data removed]",
      "text/latex": [
       "$$\\left [ x \\left(x^{6} + 35 x^{4} + 91 x^{2} + 1\\right), \\quad y \\left(y - 5\\right) \\left(y - 3\\right) \\left(y - 1\\right) \\left(y + 1\\right) \\left(y + 3\\right) \\left(y + 5\\right)\\right ]$$"
      ],
      "text/plain": [
       "⎡  ⎛ 6       4       2    ⎞                                                   \n",
       "⎣x⋅⎝x  + 35⋅x  + 91⋅x  + 1⎠, y⋅(y - 5)⋅(y - 3)⋅(y - 1)⋅(y + 1)⋅(y + 3)⋅(y + 5)\n",
       "\n",
       "⎤\n",
       "⎦"
      ]
     },
     "metadata": {},
     "output_type": "display_data"
    },
    {
     "data": {
      "image/png": "[encoded data removed]",
      "text/latex": [
       "$$\\left [ x^{2} \\left(x^{6} + 56 x^{4} + 336 x^{2} + 64\\right), \\quad y^{2} \\left(y - 6\\right) \\left(y - 4\\right) \\left(y - 2\\right) \\left(y + 2\\right) \\left(y + 4\\right) \\left(y + 6\\right)\\right ]$$"
      ],
      "text/plain": [
       "⎡ 2 ⎛ 6       4        2     ⎞   2                                            \n",
       "⎣x ⋅⎝x  + 56⋅x  + 336⋅x  + 64⎠, y ⋅(y - 6)⋅(y - 4)⋅(y - 2)⋅(y + 2)⋅(y + 4)⋅(y \n",
       "\n",
       "    ⎤\n",
       "+ 6)⎦"
      ]
     },
     "metadata": {},
     "output_type": "display_data"
    }
   ],
   "source": [
    "for i in range(N):\n",
    "    display([p[i].factor(),q[i].factor()])"
   ]
  },
  {
   "cell_type": "code",
   "execution_count": 13,
   "metadata": {},
   "outputs": [
    {
     "data": {
      "image/png": "[encoded data removed]",
      "text/latex": [
       "$$\\left [ 1, \\quad y, \\quad y^{2}, \\quad y^{3}, \\quad y^{4}, \\quad y^{5}, \\quad y^{6}, \\quad y^{7}, \\quad y^{8}\\right ]$$"
      ],
      "text/plain": [
       "⎡       2   3   4   5   6   7   8⎤\n",
       "⎣1, y, y , y , y , y , y , y , y ⎦"
      ]
     },
     "metadata": {},
     "output_type": "display_data"
    },
    {
     "data": {
      "image/png": "[encoded data removed]",
      "text/latex": [
       "$$\\left [ 1, \\quad x, \\quad x^{2}, \\quad x^{3}, \\quad x^{4}, \\quad x^{5}, \\quad x^{6}, \\quad x^{7}, \\quad x^{8}\\right ]$$"
      ],
      "text/plain": [
       "⎡       2   3   4   5   6   7   8⎤\n",
       "⎣1, x, x , x , x , x , x , x , x ⎦"
      ]
     },
     "metadata": {},
     "output_type": "display_data"
    }
   ],
   "source": [
    "yy=[]\n",
    "for m in range(N):\n",
    "    g=0\n",
    "    for i in range(m+1):\n",
    "       g=g+p[m].coeff(x,i)*q[i]\n",
    "    yy.append(g)    \n",
    "\n",
    "display(yy)\n",
    "    \n",
    "xx=[]    \n",
    "for m in range(N):\n",
    "    g=0\n",
    "    for i in range(m+1):\n",
    "       g=g+q[m].coeff(y,i)*p[i] \n",
    "    xx.append(g)\n",
    "    \n",
    "display(xx)    "
   ]
  },
  {
   "cell_type": "code",
   "execution_count": 10,
   "metadata": {},
   "outputs": [
    {
     "data": {
      "image/png": "[encoded data removed]",
      "text/latex": [
       "$$\\left [ 0, \\quad 0, \\quad 0, \\quad 0, \\quad 0, \\quad 0, \\quad 0, \\quad 0, \\quad 0\\right ]$$"
      ],
      "text/plain": [
       "[0, 0, 0, 0, 0, 0, 0, 0, 0]"
      ]
     },
     "execution_count": 10,
     "metadata": {},
     "output_type": "execute_result"
    }
   ],
   "source": [
    "%store -r T\n",
    "[simplify(sum(binomial(n,k)*(-1)**k*T[n-k].subs(y,x/2)*T[k].subs(y,-x/2) for k in range(0,n+1))-p[n]) for n in range(0,N)]"
   ]
  },
  {
   "cell_type": "code",
   "execution_count": 11,
   "metadata": {},
   "outputs": [
    {
     "data": {
      "image/png": "[encoded data removed]",
      "text/latex": [
       "$$\\left [ 0, \\quad 0, \\quad 0, \\quad 0\\right ]$$"
      ],
      "text/plain": [
       "[0, 0, 0, 0]"
      ]
     },
     "metadata": {},
     "output_type": "display_data"
    },
    {
     "data": {
      "image/png": "[encoded data removed]",
      "text/latex": [
       "$$\\left [ 0, \\quad 0, \\quad 0, \\quad 0, \\quad 0\\right ]$$"
      ],
      "text/plain": [
       "[0, 0, 0, 0, 0]"
      ]
     },
     "execution_count": 11,
     "metadata": {},
     "output_type": "execute_result"
    }
   ],
   "source": [
    "display([simplify(y*prod(y**2-(2*k+1)**2 for k in range(1+Rational((n-3)/2)))-q[n]) for n in range(1,N,2)])\n",
    "[simplify(prod(y**2-(2*k)**2 for k in range(1+Rational((n-2)/2)))-q[n]) for n in range(0,N,2)]"
   ]
  },
  {
   "cell_type": "markdown",
   "metadata": {},
   "source": [
    "P-polynomials:\n",
    "$$p_n(x)=\\sum_j{n\\choose j}(-1)^j \\mathcal{T}_{n-j}(x/2)\\,\\mathcal{T}_j(-x/2)$$\n",
    "where $\\mathcal{T}$ denote Touchard polynomials.\n",
    "\n",
    "Q-polynomials:\n",
    "$$q_n(y)=\\cases{y\\,\\prod\\limits_{k=0}^{(n-3)/2} \\left(y^2-(2k+1)^2 \\right), & $n\\ $ odd\\\\\n",
    "\\phantom{|} \\\\\n",
    "\\prod\\limits_{k=0}^{(n-2)/2} \\left(y^2-(2k)^2 \\right), & $n\\ $ even }$$\n"
   ]
  },
  {
   "cell_type": "code",
   "execution_count": 21,
   "metadata": {},
   "outputs": [
    {
     "data": {
      "text/latex": [
       "$$p_{0} = 1\\\\ p_{1} = x\\\\ p_{2} = x^{2}\\\\ p_{3} = x^{3} + x\\\\ p_{4} = x^{4} + 4 x^{2}\\\\ p_{5} = x^{5} + 10 x^{3} + x\\\\ p_{6} = x^{6} + 20 x^{4} + 16 x^{2}\\\\ p_{7} = x^{7} + 35 x^{5} + 91 x^{3} + x\\\\ p_{8} = x^{8} + 56 x^{6} + 336 x^{4} + 64 x^{2}\\\\ $$"
      ],
      "text/plain": [
       "<IPython.core.display.Math object>"
      ]
     },
     "execution_count": 21,
     "metadata": {},
     "output_type": "execute_result"
    }
   ],
   "source": [
    "y=\"\"\n",
    "for n in range(N):\n",
    "    y=y+\"p_{\"+latex(n)+ \"} = \"+latex(p[n])+\"\\\\\\\\ \"\n",
    "Math(y)"
   ]
  },
  {
   "cell_type": "code",
   "execution_count": 22,
   "metadata": {},
   "outputs": [
    {
     "name": "stdout",
     "output_type": "stream",
     "text": [
      "Writing 'y' (str) to file 'P.tex'.\n"
     ]
    }
   ],
   "source": [
    "%store y > P.tex"
   ]
  },
  {
   "cell_type": "code",
   "execution_count": 17,
   "metadata": {},
   "outputs": [
    {
     "data": {
      "text/latex": [
       "$$\\  q_{0} = 1\\  q_{1} = y\\  q_{2} = y^{2}\\  q_{3} = y^{3} - y\\  q_{4} = y^{4} - 4 y^{2}\\  q_{5} = y^{5} - 10 y^{3} + 9 y\\  q_{6} = y^{6} - 20 y^{4} + 64 y^{2}\\  q_{7} = y^{7} - 35 y^{5} + 259 y^{3} - 225 y\\  q_{8} = y^{8} - 56 y^{6} + 784 y^{4} - 2304 y^{2}$$"
      ],
      "text/plain": [
       "<IPython.core.display.Math object>"
      ]
     },
     "execution_count": 17,
     "metadata": {},
     "output_type": "execute_result"
    }
   ],
   "source": [
    "y=\"\"\n",
    "for n in range(N):\n",
    "    y=y+\"\\  q_{\"+latex(n)+ \"} = \"+latex(q[n])\n",
    "Math(y)"
   ]
  },
  {
   "cell_type": "code",
   "execution_count": 18,
   "metadata": {},
   "outputs": [
    {
     "name": "stdout",
     "output_type": "stream",
     "text": [
      "Writing 'y' (str) to file 'Q.tex'.\n"
     ]
    }
   ],
   "source": [
    "%store y > Q.tex"
   ]
  },
  {
   "cell_type": "code",
   "execution_count": null,
   "metadata": {},
   "outputs": [],
   "source": []
  }
 ],
 "metadata": {
  "kernelspec": {
   "display_name": "Python 3",
   "language": "python",
   "name": "python3"
  },
  "language_info": {
   "codemirror_mode": {
    "name": "ipython",
    "version": 3
   },
   "file_extension": ".py",
   "mimetype": "text/x-python",
   "name": "python",
   "nbconvert_exporter": "python",
   "pygments_lexer": "ipython3",
   "version": "3.7.3"
  }
 },
 "nbformat": 4,
 "nbformat_minor": 2
}
