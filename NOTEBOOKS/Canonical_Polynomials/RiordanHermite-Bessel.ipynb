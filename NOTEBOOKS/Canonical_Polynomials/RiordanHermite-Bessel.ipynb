{
 "cells": [
  {
   "cell_type": "code",
   "execution_count": 10,
   "metadata": {},
   "outputs": [],
   "source": [
    "from sympy import *\n",
    "from IPython.display import *\n",
    "init_printing()\n",
    "var('a:z')\n",
    "var('A:Z');"
   ]
  },
  {
   "cell_type": "code",
   "execution_count": 11,
   "metadata": {},
   "outputs": [
    {
     "data": {
      "image/png": "[encoded data removed]",
      "text/latex": [
       "$$- \\sqrt{- 2 v + 1} + 1$$"
      ],
      "text/plain": [
       "    __________    \n",
       "- ╲╱ -2⋅v + 1  + 1"
      ]
     },
     "execution_count": 11,
     "metadata": {},
     "output_type": "execute_result"
    }
   ],
   "source": [
    "V=z-z**2/2\n",
    "Z=solve(V-v,z)[0]\n",
    "Z"
   ]
  },
  {
   "cell_type": "code",
   "execution_count": 12,
   "metadata": {},
   "outputs": [
    {
     "data": {
      "image/png": "[encoded data removed]",
      "text/latex": [
       "$$\\left [ 1, \\quad x, \\quad x^{2} + x, \\quad x^{3} + 3 x^{2} + 3 x, \\quad x^{4} + 6 x^{3} + 15 x^{2} + 15 x, \\quad x^{5} + 10 x^{4} + 45 x^{3} + 105 x^{2} + 105 x, \\quad x^{6} + 15 x^{5} + 105 x^{4} + 420 x^{3} + 945 x^{2} + 945 x, \\quad x^{7} + 21 x^{6} + 210 x^{5} + 1260 x^{4} + 4725 x^{3} + 10395 x^{2} + 10395 x\\right ]$$"
      ],
      "text/plain": [
       "⎡       2       3      2         4      3       2          5       4       3  \n",
       "⎣1, x, x  + x, x  + 3⋅x  + 3⋅x, x  + 6⋅x  + 15⋅x  + 15⋅x, x  + 10⋅x  + 45⋅x  +\n",
       "\n",
       "      2           6       5        4        3        2           7       6    \n",
       " 105⋅x  + 105⋅x, x  + 15⋅x  + 105⋅x  + 420⋅x  + 945⋅x  + 945⋅x, x  + 21⋅x  + 2\n",
       "\n",
       "    5         4         3          2          ⎤\n",
       "10⋅x  + 1260⋅x  + 4725⋅x  + 10395⋅x  + 10395⋅x⎦"
      ]
     },
     "execution_count": 12,
     "metadata": {},
     "output_type": "execute_result"
    }
   ],
   "source": [
    "N=8\n",
    "p=[]\n",
    "f=series(exp(x*Z),v,0,N)\n",
    "for i in range(N):\n",
    "    p.append(factorial(i)*f.coeff(v,i))\n",
    "p"
   ]
  },
  {
   "cell_type": "code",
   "execution_count": 13,
   "metadata": {},
   "outputs": [
    {
     "data": {
      "image/png": "[encoded data removed]",
      "text/latex": [
       "$$\\left [ 1, \\quad y, \\quad y^{2} - y, \\quad y^{3} - 3 y^{2}, \\quad y^{4} - 6 y^{3} + 3 y^{2}, \\quad y^{5} - 10 y^{4} + 15 y^{3}, \\quad y^{6} - 15 y^{5} + 45 y^{4} - 15 y^{3}, \\quad y^{7} - 21 y^{6} + 105 y^{5} - 105 y^{4}\\right ]$$"
      ],
      "text/plain": [
       "⎡       2       3      2   4      3      2   5       4       3   6       5    \n",
       "⎣1, y, y  - y, y  - 3⋅y , y  - 6⋅y  + 3⋅y , y  - 10⋅y  + 15⋅y , y  - 15⋅y  + 4\n",
       "\n",
       "   4       3   7       6        5        4⎤\n",
       "5⋅y  - 15⋅y , y  - 21⋅y  + 105⋅y  - 105⋅y ⎦"
      ]
     },
     "execution_count": 13,
     "metadata": {},
     "output_type": "execute_result"
    }
   ],
   "source": [
    "N=8\n",
    "q=[]\n",
    "f=series(exp(y*V),z,0,N)\n",
    "for i in range(N):\n",
    "    q.append(factorial(i)*f.coeff(z,i))\n",
    "q"
   ]
  },
  {
   "cell_type": "code",
   "execution_count": 14,
   "metadata": {},
   "outputs": [
    {
     "data": {
      "image/png": "[encoded data removed]",
      "text/latex": [
       "$$\\left ( \\left[\\begin{matrix}1 & 0 & 0 & 0 & 0 & 0 & 0 & 0\\\\0 & 1 & 0 & 0 & 0 & 0 & 0 & 0\\\\0 & 1 & 1 & 0 & 0 & 0 & 0 & 0\\\\0 & 3 & 3 & 1 & 0 & 0 & 0 & 0\\\\0 & 15 & 15 & 6 & 1 & 0 & 0 & 0\\\\0 & 105 & 105 & 45 & 10 & 1 & 0 & 0\\\\0 & 945 & 945 & 420 & 105 & 15 & 1 & 0\\\\0 & 10395 & 10395 & 4725 & 1260 & 210 & 21 & 1\\end{matrix}\\right], \\quad \\left[\\begin{matrix}1 & 0 & 0 & 0 & 0 & 0 & 0 & 0\\\\0 & 1 & 0 & 0 & 0 & 0 & 0 & 0\\\\0 & -1 & 1 & 0 & 0 & 0 & 0 & 0\\\\0 & 0 & -3 & 1 & 0 & 0 & 0 & 0\\\\0 & 0 & 3 & -6 & 1 & 0 & 0 & 0\\\\0 & 0 & 0 & 15 & -10 & 1 & 0 & 0\\\\0 & 0 & 0 & -15 & 45 & -15 & 1 & 0\\\\0 & 0 & 0 & 0 & -105 & 105 & -21 & 1\\end{matrix}\\right], \\quad \\left[\\begin{matrix}1 & 0 & 0 & 0 & 0 & 0 & 0 & 0\\\\0 & 1 & 0 & 0 & 0 & 0 & 0 & 0\\\\0 & 0 & 1 & 0 & 0 & 0 & 0 & 0\\\\0 & 0 & 0 & 1 & 0 & 0 & 0 & 0\\\\0 & 0 & 0 & 0 & 1 & 0 & 0 & 0\\\\0 & 0 & 0 & 0 & 0 & 1 & 0 & 0\\\\0 & 0 & 0 & 0 & 0 & 0 & 1 & 0\\\\0 & 0 & 0 & 0 & 0 & 0 & 0 & 1\\end{matrix}\\right]\\right )$$"
      ],
      "text/plain": [
       "⎛⎡1    0      0     0     0     0   0   0⎤  ⎡1  0   0    0    0     0    0   0\n",
       "⎜⎢                                       ⎥  ⎢                                 \n",
       "⎜⎢0    1      0     0     0     0   0   0⎥  ⎢0  1   0    0    0     0    0   0\n",
       "⎜⎢                                       ⎥  ⎢                                 \n",
       "⎜⎢0    1      1     0     0     0   0   0⎥  ⎢0  -1  1    0    0     0    0   0\n",
       "⎜⎢                                       ⎥  ⎢                                 \n",
       "⎜⎢0    3      3     1     0     0   0   0⎥  ⎢0  0   -3   1    0     0    0   0\n",
       "⎜⎢                                       ⎥, ⎢                                 \n",
       "⎜⎢0   15     15     6     1     0   0   0⎥  ⎢0  0   3   -6    1     0    0   0\n",
       "⎜⎢                                       ⎥  ⎢                                 \n",
       "⎜⎢0   105    105    45    10    1   0   0⎥  ⎢0  0   0   15   -10    1    0   0\n",
       "⎜⎢                                       ⎥  ⎢                                 \n",
       "⎜⎢0   945    945   420   105   15   1   0⎥  ⎢0  0   0   -15   45   -15   1   0\n",
       "⎜⎢                                       ⎥  ⎢                                 \n",
       "⎝⎣0  10395  10395  4725  1260  210  21  1⎦  ⎣0  0   0    0   -105  105  -21  1\n",
       "\n",
       "⎤  ⎡1  0  0  0  0  0  0  0⎤⎞\n",
       "⎥  ⎢                      ⎥⎟\n",
       "⎥  ⎢0  1  0  0  0  0  0  0⎥⎟\n",
       "⎥  ⎢                      ⎥⎟\n",
       "⎥  ⎢0  0  1  0  0  0  0  0⎥⎟\n",
       "⎥  ⎢                      ⎥⎟\n",
       "⎥  ⎢0  0  0  1  0  0  0  0⎥⎟\n",
       "⎥, ⎢                      ⎥⎟\n",
       "⎥  ⎢0  0  0  0  1  0  0  0⎥⎟\n",
       "⎥  ⎢                      ⎥⎟\n",
       "⎥  ⎢0  0  0  0  0  1  0  0⎥⎟\n",
       "⎥  ⎢                      ⎥⎟\n",
       "⎥  ⎢0  0  0  0  0  0  1  0⎥⎟\n",
       "⎥  ⎢                      ⎥⎟\n",
       "⎦  ⎣0  0  0  0  0  0  0  1⎦⎠"
      ]
     },
     "execution_count": 14,
     "metadata": {},
     "output_type": "execute_result"
    }
   ],
   "source": [
    "PCF=Matrix(N,N,lambda n,k: p[n].coeff(x,k))\n",
    "QCF=Matrix(N,N,lambda n,k: q[n].coeff(y,k))\n",
    "PCF,QCF,simplify(PCF*QCF)"
   ]
  },
  {
   "cell_type": "code",
   "execution_count": 15,
   "metadata": {},
   "outputs": [
    {
     "data": {
      "text/plain": [
       "[True, True, True, True, True, True, True, True]"
      ]
     },
     "execution_count": 15,
     "metadata": {},
     "output_type": "execute_result"
    }
   ],
   "source": [
    "qa=[]\n",
    "for n in range(N):\n",
    "    qa.append(bool(sum(p[n-k]*p[k].subs(x,y)*binomial(n,k) for k in range(n+1)).expand()-p[n].subs(x,x+y).expand()==0))\n",
    "qa    "
   ]
  },
  {
   "cell_type": "code",
   "execution_count": 16,
   "metadata": {},
   "outputs": [
    {
     "data": {
      "text/plain": [
       "[True, True, True, True, True, True, True, True]"
      ]
     },
     "execution_count": 16,
     "metadata": {},
     "output_type": "execute_result"
    }
   ],
   "source": [
    "W=[]\n",
    "WW=[]\n",
    "for n in range(N):\n",
    "    W.append(zeros(N,N))\n",
    "    WW.append(zeros(N,N))\n",
    "    for k in range(floor(N/2)):\n",
    "        for l in range(floor(N/2)):\n",
    "            W[n][k,l]=sum(binomial(n,j)*PCF[n-j,k]*PCF[j,l] for j in range(n+1))\n",
    "            WW[n][k,l]=PCF[n,k+l]*binomial(k+l,l)\n",
    "[(W[a]-WW[a]).is_zero for a in range(N)]"
   ]
  },
  {
   "cell_type": "code",
   "execution_count": 17,
   "metadata": {},
   "outputs": [
    {
     "data": {
      "image/png": "[encoded data removed]",
      "text/latex": [
       "$$\\left [ 1, \\quad 1\\right ]$$"
      ],
      "text/plain": [
       "[1, 1]"
      ]
     },
     "metadata": {},
     "output_type": "display_data"
    },
    {
     "data": {
      "image/png": "[encoded data removed]",
      "text/latex": [
       "$$\\left [ x, \\quad y\\right ]$$"
      ],
      "text/plain": [
       "[x, y]"
      ]
     },
     "metadata": {},
     "output_type": "display_data"
    },
    {
     "data": {
      "image/png": "[encoded data removed]",
      "text/latex": [
       "$$\\left [ x^{2} + x, \\quad y^{2} - y\\right ]$$"
      ],
      "text/plain": [
       "⎡ 2       2    ⎤\n",
       "⎣x  + x, y  - y⎦"
      ]
     },
     "metadata": {},
     "output_type": "display_data"
    },
    {
     "data": {
      "image/png": "[encoded data removed]",
      "text/latex": [
       "$$\\left [ x^{3} + 3 x^{2} + 3 x, \\quad y^{3} - 3 y^{2}\\right ]$$"
      ],
      "text/plain": [
       "⎡ 3      2         3      2⎤\n",
       "⎣x  + 3⋅x  + 3⋅x, y  - 3⋅y ⎦"
      ]
     },
     "metadata": {},
     "output_type": "display_data"
    },
    {
     "data": {
      "image/png": "[encoded data removed]",
      "text/latex": [
       "$$\\left [ x^{4} + 6 x^{3} + 15 x^{2} + 15 x, \\quad y^{4} - 6 y^{3} + 3 y^{2}\\right ]$$"
      ],
      "text/plain": [
       "⎡ 4      3       2          4      3      2⎤\n",
       "⎣x  + 6⋅x  + 15⋅x  + 15⋅x, y  - 6⋅y  + 3⋅y ⎦"
      ]
     },
     "metadata": {},
     "output_type": "display_data"
    },
    {
     "data": {
      "image/png": "[encoded data removed]",
      "text/latex": [
       "$$\\left [ x^{5} + 10 x^{4} + 45 x^{3} + 105 x^{2} + 105 x, \\quad y^{5} - 10 y^{4} + 15 y^{3}\\right ]$$"
      ],
      "text/plain": [
       "⎡ 5       4       3        2           5       4       3⎤\n",
       "⎣x  + 10⋅x  + 45⋅x  + 105⋅x  + 105⋅x, y  - 10⋅y  + 15⋅y ⎦"
      ]
     },
     "metadata": {},
     "output_type": "display_data"
    },
    {
     "data": {
      "image/png": "[encoded data removed]",
      "text/latex": [
       "$$\\left [ x^{6} + 15 x^{5} + 105 x^{4} + 420 x^{3} + 945 x^{2} + 945 x, \\quad y^{6} - 15 y^{5} + 45 y^{4} - 15 y^{3}\\right ]$$"
      ],
      "text/plain": [
       "⎡ 6       5        4        3        2           6       5       4       3⎤\n",
       "⎣x  + 15⋅x  + 105⋅x  + 420⋅x  + 945⋅x  + 945⋅x, y  - 15⋅y  + 45⋅y  - 15⋅y ⎦"
      ]
     },
     "metadata": {},
     "output_type": "display_data"
    },
    {
     "data": {
      "image/png": "[encoded data removed]",
      "text/latex": [
       "$$\\left [ x^{7} + 21 x^{6} + 210 x^{5} + 1260 x^{4} + 4725 x^{3} + 10395 x^{2} + 10395 x, \\quad y^{7} - 21 y^{6} + 105 y^{5} - 105 y^{4}\\right ]$$"
      ],
      "text/plain": [
       "⎡ 7       6        5         4         3          2             7       6     \n",
       "⎣x  + 21⋅x  + 210⋅x  + 1260⋅x  + 4725⋅x  + 10395⋅x  + 10395⋅x, y  - 21⋅y  + 10\n",
       "\n",
       "   5        4⎤\n",
       "5⋅y  - 105⋅y ⎦"
      ]
     },
     "metadata": {},
     "output_type": "display_data"
    }
   ],
   "source": [
    "for i in range(N):\n",
    "    display([p[i],q[i]])"
   ]
  },
  {
   "cell_type": "code",
   "execution_count": 18,
   "metadata": {},
   "outputs": [
    {
     "data": {
      "image/png": "[encoded data removed]",
      "text/latex": [
       "$$\\left [ 1, \\quad y, \\quad y^{2}, \\quad y^{3}, \\quad y^{4}, \\quad y^{5}, \\quad y^{6}, \\quad y^{7}\\right ]$$"
      ],
      "text/plain": [
       "⎡       2   3   4   5   6   7⎤\n",
       "⎣1, y, y , y , y , y , y , y ⎦"
      ]
     },
     "metadata": {},
     "output_type": "display_data"
    },
    {
     "data": {
      "image/png": "[encoded data removed]",
      "text/latex": [
       "$$\\left [ 1, \\quad x, \\quad x^{2}, \\quad x^{3}, \\quad x^{4}, \\quad x^{5}, \\quad x^{6}, \\quad x^{7}\\right ]$$"
      ],
      "text/plain": [
       "⎡       2   3   4   5   6   7⎤\n",
       "⎣1, x, x , x , x , x , x , x ⎦"
      ]
     },
     "metadata": {},
     "output_type": "display_data"
    }
   ],
   "source": [
    "yy=[]\n",
    "for m in range(N):\n",
    "    g=0\n",
    "    for i in range(m+1):\n",
    "       g=g+p[m].coeff(x,i)*q[i]\n",
    "    yy.append(simplify(g))    \n",
    "\n",
    "display(yy)\n",
    "    \n",
    "xx=[]    \n",
    "for m in range(N):\n",
    "    g=0\n",
    "    for i in range(m+1):\n",
    "       g=g+q[m].coeff(y,i)*p[i] \n",
    "    xx.append(simplify(g))\n",
    "    \n",
    "display(xx)    "
   ]
  },
  {
   "cell_type": "code",
   "execution_count": 39,
   "metadata": {},
   "outputs": [
    {
     "data": {
      "image/png": "[encoded data removed]",
      "text/latex": [
       "$$\\left [ 0, \\quad 0, \\quad 0, \\quad 0, \\quad 0, \\quad 0, \\quad 0\\right ]$$"
      ],
      "text/plain": [
       "[0, 0, 0, 0, 0, 0, 0]"
      ]
     },
     "metadata": {},
     "output_type": "display_data"
    },
    {
     "data": {
      "image/png": "[encoded data removed]",
      "text/latex": [
       "$$\\left [ 0, \\quad 0, \\quad 0, \\quad 0, \\quad 0, \\quad 0, \\quad 0, \\quad 0\\right ]$$"
      ],
      "text/plain": [
       "[0, 0, 0, 0, 0, 0, 0, 0]"
      ]
     },
     "execution_count": 39,
     "metadata": {},
     "output_type": "execute_result"
    }
   ],
   "source": [
    "display([(sum(gamma(n+k)/gamma(n-k)/2**k/factorial(k)*x**(n-k) for k in range(n+1))-p[n]) for n in range(1,N)])\n",
    "[simplify(sum(binomial(n,2*j)*factorial(2*j)/2**j/factorial(j)*(-1)**j*y**(n-j) for j in range(n+1))-q[n]) for n in range(N)]"
   ]
  },
  {
   "cell_type": "markdown",
   "metadata": {},
   "source": [
    "Bessel polynomials\n",
    "$$ x\\theta_{n-1}(x)=\\sum_{k=0}^{n-1} \\frac{\\Gamma(n+k)\\hphantom{kk}}{\\Gamma(n-k)\\,k!}\\frac{x^{n-k}}{2^k}$$\n",
    "\n",
    "Hermite polynomials\n",
    "$$ He_n(x,xt)=\\sum_{k=0}^{\\lfloor n/2 \\rfloor} \\binom{n}{2k}\\,\\frac{(2k)!}{2^k\\,k!}(-1)^k x^{n-k}t^k$$"
   ]
  },
  {
   "cell_type": "code",
   "execution_count": 56,
   "metadata": {},
   "outputs": [
    {
     "name": "stdout",
     "output_type": "stream",
     "text": [
      "Stored 'B' (list)\n"
     ]
    }
   ],
   "source": [
    "B=p\n",
    "%store B"
   ]
  },
  {
   "cell_type": "code",
   "execution_count": null,
   "metadata": {},
   "outputs": [],
   "source": []
  }
 ],
 "metadata": {
  "kernelspec": {
   "display_name": "Python 3",
   "language": "python",
   "name": "python3"
  },
  "language_info": {
   "codemirror_mode": {
    "name": "ipython",
    "version": 3
   },
   "file_extension": ".py",
   "mimetype": "text/x-python",
   "name": "python",
   "nbconvert_exporter": "python",
   "pygments_lexer": "ipython3",
   "version": "3.7.3"
  }
 },
 "nbformat": 4,
 "nbformat_minor": 2
}
