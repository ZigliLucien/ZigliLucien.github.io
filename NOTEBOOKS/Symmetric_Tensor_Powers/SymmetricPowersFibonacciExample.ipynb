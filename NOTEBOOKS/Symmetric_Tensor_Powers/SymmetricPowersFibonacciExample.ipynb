{
 "cells": [
  {
   "cell_type": "code",
   "execution_count": 1,
   "metadata": {
    "collapsed": false
   },
   "outputs": [],
   "source": [
    "from IPython.display import *"
   ]
  },
  {
   "cell_type": "code",
   "execution_count": 29,
   "metadata": {
    "collapsed": false
   },
   "outputs": [
    {
     "data": {
      "text/latex": [
       "$$A=$$"
      ],
      "text/plain": [
       "<IPython.core.display.Math object>"
      ]
     },
     "metadata": {},
     "output_type": "display_data"
    },
    {
     "data": {
      "image/png": "[encoded data removed]",
      "text/latex": [
       "$$\\left[\\begin{matrix}1 & 1\\\\1 & 0\\end{matrix}\\right]$$"
      ],
      "text/plain": [
       "⎡1  1⎤\n",
       "⎢    ⎥\n",
       "⎣1  0⎦"
      ]
     },
     "metadata": {},
     "output_type": "display_data"
    }
   ],
   "source": [
    "var('a:z')\n",
    "V=Matrix(2,1,[u,v])\n",
    "A=Matrix(2,2,[1,1,1,0])\n",
    "B=A*V\n",
    "display(Math(\"A=\"),A)"
   ]
  },
  {
   "cell_type": "code",
   "execution_count": 3,
   "metadata": {
    "collapsed": false
   },
   "outputs": [],
   "source": [
    "N=5\n",
    "mm=Poly((u+v)**N).monoms()"
   ]
  },
  {
   "cell_type": "code",
   "execution_count": 4,
   "metadata": {
    "collapsed": false
   },
   "outputs": [],
   "source": [
    "dd=len(mm)\n",
    "xx=eye(dd)\n",
    "X=[]\n",
    "\n",
    "for i in range(dd):\n",
    "    F=x**mm[i][0]*y**mm[i][1]\n",
    "    GG=F.subs(x,B[0]).subs(y,B[1]);FF=expand(GG)\n",
    "    X.append([FF.coeff(u**mm[i][0]*v**mm[i][1]) for i in range(dd)])\n",
    " \n",
    "#display(X)"
   ]
  },
  {
   "cell_type": "code",
   "execution_count": 5,
   "metadata": {
    "collapsed": false
   },
   "outputs": [
    {
     "data": {
      "image/png": "[encoded data removed]",
      "text/latex": [
       "$$\\left[\\begin{matrix}1 & 5 & 10 & 10 & 5 & 1\\\\1 & 4 & 6 & 4 & 1 & 0\\\\1 & 3 & 3 & 1 & 0 & 0\\\\1 & 2 & 1 & 0 & 0 & 0\\\\1 & 1 & 0 & 0 & 0 & 0\\\\1 & 0 & 0 & 0 & 0 & 0\\end{matrix}\\right]$$"
      ],
      "text/plain": [
       "⎡1  5  10  10  5  1⎤\n",
       "⎢                  ⎥\n",
       "⎢1  4  6   4   1  0⎥\n",
       "⎢                  ⎥\n",
       "⎢1  3  3   1   0  0⎥\n",
       "⎢                  ⎥\n",
       "⎢1  2  1   0   0  0⎥\n",
       "⎢                  ⎥\n",
       "⎢1  1  0   0   0  0⎥\n",
       "⎢                  ⎥\n",
       "⎣1  0  0   0   0  0⎦"
      ]
     },
     "execution_count": 5,
     "metadata": {},
     "output_type": "execute_result"
    }
   ],
   "source": [
    "MX=Matrix(1,dd,X[0])\n",
    "for i in range(1,dd):\n",
    "    XM=Matrix(1,dd,X[i])\n",
    "    MX=MX.col_join(XM)\n",
    "    \n",
    "\n",
    "MX\n",
    "    \n",
    "    "
   ]
  },
  {
   "cell_type": "markdown",
   "metadata": {},
   "source": [
    "The matrix with binomial coefficients is the symmetric tensor power of the Fibonacci matrix A."
   ]
  },
  {
   "cell_type": "code",
   "execution_count": 20,
   "metadata": {
    "collapsed": false
   },
   "outputs": [
    {
     "data": {
      "text/latex": [
       "$$F_{1} = 1$$"
      ],
      "text/plain": [
       "<IPython.core.display.Math object>"
      ]
     },
     "metadata": {},
     "output_type": "display_data"
    },
    {
     "data": {
      "text/latex": [
       "$$F_{2} = 1$$"
      ],
      "text/plain": [
       "<IPython.core.display.Math object>"
      ]
     },
     "metadata": {},
     "output_type": "display_data"
    },
    {
     "data": {
      "text/latex": [
       "$$F_{3} = 2$$"
      ],
      "text/plain": [
       "<IPython.core.display.Math object>"
      ]
     },
     "metadata": {},
     "output_type": "display_data"
    },
    {
     "data": {
      "text/latex": [
       "$$F_{4} = 3$$"
      ],
      "text/plain": [
       "<IPython.core.display.Math object>"
      ]
     },
     "metadata": {},
     "output_type": "display_data"
    },
    {
     "data": {
      "text/latex": [
       "$$F_{5} = 5$$"
      ],
      "text/plain": [
       "<IPython.core.display.Math object>"
      ]
     },
     "metadata": {},
     "output_type": "display_data"
    },
    {
     "data": {
      "text/latex": [
       "$$F_{6} = 8$$"
      ],
      "text/plain": [
       "<IPython.core.display.Math object>"
      ]
     },
     "metadata": {},
     "output_type": "display_data"
    },
    {
     "data": {
      "text/latex": [
       "$$F_{7} = 13$$"
      ],
      "text/plain": [
       "<IPython.core.display.Math object>"
      ]
     },
     "metadata": {},
     "output_type": "display_data"
    },
    {
     "data": {
      "text/latex": [
       "$$F_{8} = 21$$"
      ],
      "text/plain": [
       "<IPython.core.display.Math object>"
      ]
     },
     "metadata": {},
     "output_type": "display_data"
    },
    {
     "data": {
      "text/latex": [
       "$$F_{9} = 34$$"
      ],
      "text/plain": [
       "<IPython.core.display.Math object>"
      ]
     },
     "metadata": {},
     "output_type": "display_data"
    },
    {
     "data": {
      "text/latex": [
       "$$F_{10} = 55$$"
      ],
      "text/plain": [
       "<IPython.core.display.Math object>"
      ]
     },
     "metadata": {},
     "output_type": "display_data"
    }
   ],
   "source": [
    "IX=eye(A.shape[0])\n",
    "delta=series(((IX-t*A).det())**(-1),t,0,10)\n",
    "for i in range(10):\n",
    "    display(Math(\"F_{\"+str(i+1)+ \"} = \"+str(delta.coeff(t,i))))\n",
    "    "
   ]
  },
  {
   "cell_type": "markdown",
   "metadata": {},
   "source": [
    "The Fibonacci numbers are the traces of the matrices formed from the binomial coefficients."
   ]
  },
  {
   "cell_type": "code",
   "execution_count": 7,
   "metadata": {
    "collapsed": false
   },
   "outputs": [],
   "source": [
    "MXX=MX.eigenvals()\n",
    "MXE=list(MXX.keys())"
   ]
  },
  {
   "cell_type": "code",
   "execution_count": 8,
   "metadata": {
    "collapsed": true
   },
   "outputs": [],
   "source": [
    "var('phi')\n",
    "phi=GoldenRatio"
   ]
  },
  {
   "cell_type": "code",
   "execution_count": 9,
   "metadata": {
    "collapsed": false
   },
   "outputs": [
    {
     "data": {
      "image/png": "[encoded data removed]",
      "text/latex": [
       "$$\\left [ - 5 \\phi + 8, \\quad 3 + 5 \\phi, \\quad - \\phi + 1, \\quad \\phi, \\quad -3 + 2 \\phi, \\quad - 2 \\phi - 1\\right ]$$"
      ],
      "text/plain": [
       "[-5⋅GoldenRatio + 8, 3 + 5⋅GoldenRatio, -GoldenRatio + 1, GoldenRatio, -3 + 2⋅\n",
       "GoldenRatio, -2⋅GoldenRatio - 1]"
      ]
     },
     "execution_count": 9,
     "metadata": {},
     "output_type": "execute_result"
    }
   ],
   "source": [
    "[nsimplify(MXE[i],[GoldenRatio]) for i in range(len(MXE))]"
   ]
  },
  {
   "cell_type": "code",
   "execution_count": 10,
   "metadata": {
    "collapsed": false
   },
   "outputs": [
    {
     "data": {
      "image/png": "[encoded data removed]",
      "text/latex": [
       "$$\\left [ \\phi^{5}, \\quad - \\phi^{3}, \\quad \\phi, \\quad - \\frac{1}{\\phi}, \\quad \\frac{1}{\\phi^{3}}, \\quad - \\frac{1}{\\phi^{5}}\\right ]$$"
      ],
      "text/plain": [
       "⎡           5              3                   -1            1            -1  \n",
       "⎢GoldenRatio , -GoldenRatio , GoldenRatio, ───────────, ────────────, ────────\n",
       "⎢                                          GoldenRatio             3          \n",
       "⎣                                                       GoldenRatio   GoldenRa\n",
       "\n",
       "    ⎤\n",
       "────⎥\n",
       "   5⎥\n",
       "tio ⎦"
      ]
     },
     "execution_count": 10,
     "metadata": {},
     "output_type": "execute_result"
    }
   ],
   "source": [
    "[(phi**(N-i)*(-phi)**(-i)) for i in range(N+1)]"
   ]
  },
  {
   "cell_type": "code",
   "execution_count": 11,
   "metadata": {
    "collapsed": false
   },
   "outputs": [
    {
     "data": {
      "image/png": "[encoded data removed]",
      "text/latex": [
       "$$\\left [ 3 + 5 \\phi, \\quad - 2 \\phi - 1, \\quad \\phi, \\quad - \\phi + 1, \\quad -3 + 2 \\phi, \\quad - 5 \\phi + 8\\right ]$$"
      ],
      "text/plain": [
       "[3 + 5⋅GoldenRatio, -2⋅GoldenRatio - 1, GoldenRatio, -GoldenRatio + 1, -3 + 2⋅\n",
       "GoldenRatio, -5⋅GoldenRatio + 8]"
      ]
     },
     "execution_count": 11,
     "metadata": {},
     "output_type": "execute_result"
    }
   ],
   "source": [
    "[nsimplify(phi**(N-i)*(-phi)**(-i),[GoldenRatio]) for i in range(N+1)]"
   ]
  },
  {
   "cell_type": "markdown",
   "metadata": {},
   "source": [
    "The eigenvalues are the monomials $(\\phi)^{N-i}(-\\phi)^{-i}$ in the eigenvalues of A."
   ]
  },
  {
   "cell_type": "code",
   "execution_count": 19,
   "metadata": {
    "collapsed": false
   },
   "outputs": [
    {
     "data": {
      "text/latex": [
       "$$L_{0} = 2$$"
      ],
      "text/plain": [
       "<IPython.core.display.Math object>"
      ]
     },
     "metadata": {},
     "output_type": "display_data"
    },
    {
     "data": {
      "text/latex": [
       "$$L_{1} = 1$$"
      ],
      "text/plain": [
       "<IPython.core.display.Math object>"
      ]
     },
     "metadata": {},
     "output_type": "display_data"
    },
    {
     "data": {
      "text/latex": [
       "$$L_{2} = 3$$"
      ],
      "text/plain": [
       "<IPython.core.display.Math object>"
      ]
     },
     "metadata": {},
     "output_type": "display_data"
    },
    {
     "data": {
      "text/latex": [
       "$$L_{3} = 4$$"
      ],
      "text/plain": [
       "<IPython.core.display.Math object>"
      ]
     },
     "metadata": {},
     "output_type": "display_data"
    },
    {
     "data": {
      "text/latex": [
       "$$L_{4} = 7$$"
      ],
      "text/plain": [
       "<IPython.core.display.Math object>"
      ]
     },
     "metadata": {},
     "output_type": "display_data"
    },
    {
     "data": {
      "text/latex": [
       "$$L_{5} = 11$$"
      ],
      "text/plain": [
       "<IPython.core.display.Math object>"
      ]
     },
     "metadata": {},
     "output_type": "display_data"
    },
    {
     "data": {
      "text/latex": [
       "$$L_{6} = 18$$"
      ],
      "text/plain": [
       "<IPython.core.display.Math object>"
      ]
     },
     "metadata": {},
     "output_type": "display_data"
    },
    {
     "data": {
      "text/latex": [
       "$$L_{7} = 29$$"
      ],
      "text/plain": [
       "<IPython.core.display.Math object>"
      ]
     },
     "metadata": {},
     "output_type": "display_data"
    },
    {
     "data": {
      "text/latex": [
       "$$L_{8} = 47$$"
      ],
      "text/plain": [
       "<IPython.core.display.Math object>"
      ]
     },
     "metadata": {},
     "output_type": "display_data"
    },
    {
     "data": {
      "text/latex": [
       "$$L_{9} = 76$$"
      ],
      "text/plain": [
       "<IPython.core.display.Math object>"
      ]
     },
     "metadata": {},
     "output_type": "display_data"
    }
   ],
   "source": [
    "Res=series(trace((IX-t*A).inv()),t,0,10)\n",
    "for i in range(10):\n",
    "    display(Math(\"L_{\"+str(i)+ \"} = \"+str(Res.coeff(t,i))))"
   ]
  },
  {
   "cell_type": "markdown",
   "metadata": {},
   "source": [
    "This is the beginning of the sequence of Lucas numbers. Traces of the powers of A."
   ]
  }
 ],
 "metadata": {
  "kernelspec": {
   "display_name": "Python 3",
   "language": "python",
   "name": "python3"
  },
  "language_info": {
   "codemirror_mode": {
    "name": "ipython",
    "version": 3
   },
   "file_extension": ".py",
   "mimetype": "text/x-python",
   "name": "python",
   "nbconvert_exporter": "python",
   "pygments_lexer": "ipython3",
   "version": "3.4.3"
  }
 },
 "nbformat": 4,
 "nbformat_minor": 0
}
