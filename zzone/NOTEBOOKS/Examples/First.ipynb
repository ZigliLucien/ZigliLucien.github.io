{
 "cells": [
  {
   "cell_type": "code",
   "execution_count": 1,
   "metadata": {
    "collapsed": false,
    "slideshow": {
     "slide_type": "slide"
    }
   },
   "outputs": [
    {
     "name": "stdout",
     "output_type": "stream",
     "text": [
      "This provides macros for symmetric tensor powers.\n",
      "\n",
      "SymPower(A,N): a matrix A and degree N\n",
      "SymmTraces(A,n): matrix A and order of the series\n",
      "PowerTraces(A,n): matrix A and order of the series\n",
      "GAM(A,N): Lie map for matrix A in degree N\n"
     ]
    }
   ],
   "source": [
    "%run sympowers.py"
   ]
  },
  {
   "cell_type": "code",
   "execution_count": 2,
   "metadata": {
    "collapsed": false,
    "slideshow": {
     "slide_type": "slide"
    }
   },
   "outputs": [
    {
     "data": {
      "image/png": "[encoded data removed]",
      "text/latex": [
       "$$\\left ( \\left [ x_{0}^{3}, \\quad x_{0}^{2} x_{1}, \\quad x_{0}^{2} x_{2}, \\quad x_{0}^{2} x_{3}, \\quad x_{0} x_{1}^{2}, \\quad x_{0} x_{1} x_{2}, \\quad x_{0} x_{1} x_{3}, \\quad x_{0} x_{2}^{2}, \\quad x_{0} x_{2} x_{3}, \\quad x_{0} x_{3}^{2}, \\quad x_{1}^{3}, \\quad x_{1}^{2} x_{2}, \\quad x_{1}^{2} x_{3}, \\quad x_{1} x_{2}^{2}, \\quad x_{1} x_{2} x_{3}, \\quad x_{1} x_{3}^{2}, \\quad x_{2}^{3}, \\quad x_{2}^{2} x_{3}, \\quad x_{2} x_{3}^{2}, \\quad x_{3}^{3}\\right ], \\quad \\left [ x_{0}, \\quad x_{1}, \\quad x_{2}, \\quad x_{3}\\right ]\\right )$$"
      ],
      "text/plain": [
       "⎛⎡  3    2       2       2          2                           2             \n",
       "⎝⎣x₀ , x₀ ⋅x₁, x₀ ⋅x₂, x₀ ⋅x₃, x₀⋅x₁ , x₀⋅x₁⋅x₂, x₀⋅x₁⋅x₃, x₀⋅x₂ , x₀⋅x₂⋅x₃, x\n",
       "\n",
       "    2    3    2       2          2                 2    3    2          2    3\n",
       "₀⋅x₃ , x₁ , x₁ ⋅x₂, x₁ ⋅x₃, x₁⋅x₂ , x₁⋅x₂⋅x₃, x₁⋅x₃ , x₂ , x₂ ⋅x₃, x₂⋅x₃ , x₃ \n",
       "\n",
       "⎤                  ⎞\n",
       "⎦, [x₀, x₁, x₂, x₃]⎠"
      ]
     },
     "execution_count": 2,
     "metadata": {},
     "output_type": "execute_result"
    }
   ],
   "source": [
    "X=XVAR(\"x\",3);\n",
    "N=3;d=4\n",
    "X.reverse()\n",
    "IT=sorted(itermonomials(X,N),key=monomial_key('grevlex', X))\n",
    "nd=binomial(N+d-1,N)\n",
    "L=IT[-nd:]\n",
    "X.reverse()\n",
    "L,X"
   ]
  },
  {
   "cell_type": "code",
   "execution_count": 3,
   "metadata": {
    "collapsed": false,
    "slideshow": {
     "slide_type": "slide"
    }
   },
   "outputs": [
    {
     "data": {
      "image/png": "[encoded data removed]",
      "text/latex": [
       "$$\\left ( \\left[\\begin{matrix}0 & 1\\\\1 & 1\\end{matrix}\\right], \\quad \\left[\\begin{matrix}1 & 1\\\\1 & 2\\end{matrix}\\right], \\quad \\left[\\begin{matrix}1 & -1\\\\-1 & 0\\end{matrix}\\right]\\right )$$"
      ],
      "text/plain": [
       "⎛⎡0  1⎤, ⎡1  1⎤, ⎡1   -1⎤⎞\n",
       "⎜⎢    ⎥  ⎢    ⎥  ⎢      ⎥⎟\n",
       "⎝⎣1  1⎦  ⎣1  2⎦  ⎣-1  0 ⎦⎠"
      ]
     },
     "execution_count": 3,
     "metadata": {},
     "output_type": "execute_result"
    }
   ],
   "source": [
    "#A=Matrix(2,2,[1,x,Rational(1,2),Rational(1,2)])\n",
    "A=Matrix(2,2,[0,1,1,1])\n",
    "B=A**2\n",
    "C=A.adjugate()\n",
    "A,B,C\n"
   ]
  },
  {
   "cell_type": "code",
   "execution_count": 4,
   "metadata": {
    "collapsed": false,
    "slideshow": {
     "slide_type": "subslide"
    }
   },
   "outputs": [
    {
     "data": {
      "image/png": "[encoded data removed]",
      "text/latex": [
       "$$5$$"
      ],
      "text/plain": [
       "5"
      ]
     },
     "execution_count": 4,
     "metadata": {},
     "output_type": "execute_result"
    }
   ],
   "source": [
    "trace(SymPower(A,4))"
   ]
  },
  {
   "cell_type": "code",
   "execution_count": 5,
   "metadata": {
    "collapsed": false,
    "slideshow": {
     "slide_type": "slide"
    }
   },
   "outputs": [
    {
     "data": {
      "image/png": "[encoded data removed]",
      "text/latex": [
       "$$\\left[\\begin{matrix}1 & 4 t & 6 t^{2} & 4 t^{3} & t^{4}\\\\t & 3 t^{2} + t + 1 & 3 t^{3} + 3 t^{2} + 3 t & t^{4} + 3 t^{3} + 3 t^{2} & t^{4} + t^{3}\\\\t^{2} & 2 t^{3} + 2 t^{2} + 2 t & t^{4} + 4 t^{3} + 5 t^{2} + 2 t + 1 & 2 t^{4} + 4 t^{3} + 4 t^{2} + 2 t & t^{4} + 2 t^{3} + t^{2}\\\\t^{3} & t^{4} + 3 t^{3} + 3 t^{2} & 3 t^{4} + 6 t^{3} + 6 t^{2} + 3 t & 3 t^{4} + 7 t^{3} + 6 t^{2} + 3 t + 1 & t^{4} + 3 t^{3} + 3 t^{2} + t\\\\t^{4} & 4 t^{4} + 4 t^{3} & 6 t^{4} + 12 t^{3} + 6 t^{2} & 4 t^{4} + 12 t^{3} + 12 t^{2} + 4 t & t^{4} + 4 t^{3} + 6 t^{2} + 4 t + 1\\end{matrix}\\right]$$"
      ],
      "text/plain": [
       "⎡                                     2                            3          \n",
       "⎢1          4⋅t                    6⋅t                          4⋅t           \n",
       "⎢                                                                             \n",
       "⎢         2                    3      2                    4      3      2    \n",
       "⎢t     3⋅t  + t + 1         3⋅t  + 3⋅t  + 3⋅t             t  + 3⋅t  + 3⋅t     \n",
       "⎢                                                                             \n",
       "⎢ 2     3      2         4      3      2                 4      3      2      \n",
       "⎢t   2⋅t  + 2⋅t  + 2⋅t  t  + 4⋅t  + 5⋅t  + 2⋅t + 1    2⋅t  + 4⋅t  + 4⋅t  + 2⋅t\n",
       "⎢                                                                             \n",
       "⎢ 3   4      3      2       4      3      2            4      3      2        \n",
       "⎢t   t  + 3⋅t  + 3⋅t     3⋅t  + 6⋅t  + 6⋅t  + 3⋅t   3⋅t  + 7⋅t  + 6⋅t  + 3⋅t +\n",
       "⎢                                                                             \n",
       "⎢ 4        4      3           4       3      2          4       3       2     \n",
       "⎣t      4⋅t  + 4⋅t         6⋅t  + 12⋅t  + 6⋅t        4⋅t  + 12⋅t  + 12⋅t  + 4⋅\n",
       "\n",
       "                 4            ⎤\n",
       "                t             ⎥\n",
       "                              ⎥\n",
       "              4    3          ⎥\n",
       "             t  + t           ⎥\n",
       "                              ⎥\n",
       "           4      3    2      ⎥\n",
       "          t  + 2⋅t  + t       ⎥\n",
       "                              ⎥\n",
       "        4      3      2       ⎥\n",
       " 1     t  + 3⋅t  + 3⋅t  + t   ⎥\n",
       "                              ⎥\n",
       "     4      3      2          ⎥\n",
       "t   t  + 4⋅t  + 6⋅t  + 4⋅t + 1⎦"
      ]
     },
     "execution_count": 5,
     "metadata": {},
     "output_type": "execute_result"
    }
   ],
   "source": [
    "S=SymPower(eye(2)+t*A,4);\n",
    "S2=SymPower(eye(2)+t*B,4)\n",
    "S3=SymPower(eye(2)+t*C,4)\n",
    "S"
   ]
  },
  {
   "cell_type": "code",
   "execution_count": 6,
   "metadata": {
    "collapsed": false,
    "slideshow": {
     "slide_type": "slide"
    }
   },
   "outputs": [
    {
     "name": "stdout",
     "output_type": "stream",
     "text": [
      "Matrix([[0, 4, 0, 0, 0], [1, 1, 3, 0, 0], [0, 2, 2, 2, 0], [0, 0, 3, 3, 1], [0, 0, 0, 4, 4]]) Matrix([[4, 4, 0, 0, 0], [1, 5, 3, 0, 0], [0, 2, 6, 2, 0], [0, 0, 3, 7, 1], [0, 0, 0, 4, 8]]) Matrix([[4, -4, 0, 0, 0], [-1, 3, -3, 0, 0], [0, -2, 2, -2, 0], [0, 0, -3, 1, -1], [0, 0, 0, -4, 0]]) Matrix([[0, 0, 0, 0, 0], [0, 0, 0, 0, 0], [0, 0, 0, 0, 0], [0, 0, 0, 0, 0], [0, 0, 0, 0, 0]])\n"
     ]
    },
    {
     "data": {
      "image/png": "[encoded data removed]",
      "text/latex": [
       "$$\\left ( \\left[\\begin{matrix}0 & 4 & 0 & 0 & 0\\\\1 & 1 & 3 & 0 & 0\\\\0 & 2 & 2 & 2 & 0\\\\0 & 0 & 3 & 3 & 1\\\\0 & 0 & 0 & 4 & 4\\end{matrix}\\right], \\quad \\left[\\begin{matrix}4 & 4 & 0 & 0 & 0\\\\1 & 5 & 3 & 0 & 0\\\\0 & 2 & 6 & 2 & 0\\\\0 & 0 & 3 & 7 & 1\\\\0 & 0 & 0 & 4 & 8\\end{matrix}\\right], \\quad \\left[\\begin{matrix}4 & -4 & 0 & 0 & 0\\\\-1 & 3 & -3 & 0 & 0\\\\0 & -2 & 2 & -2 & 0\\\\0 & 0 & -3 & 1 & -1\\\\0 & 0 & 0 & -4 & 0\\end{matrix}\\right], \\quad \\left[\\begin{matrix}0 & 0 & 0 & 0 & 0\\\\0 & 0 & 0 & 0 & 0\\\\0 & 0 & 0 & 0 & 0\\\\0 & 0 & 0 & 0 & 0\\\\0 & 0 & 0 & 0 & 0\\end{matrix}\\right]\\right )$$"
      ],
      "text/plain": [
       "⎛⎡0  4  0  0  0⎤, ⎡4  4  0  0  0⎤, ⎡4   -4  0   0   0 ⎤, ⎡0  0  0  0  0⎤⎞\n",
       "⎜⎢             ⎥  ⎢             ⎥  ⎢                  ⎥  ⎢             ⎥⎟\n",
       "⎜⎢1  1  3  0  0⎥  ⎢1  5  3  0  0⎥  ⎢-1  3   -3  0   0 ⎥  ⎢0  0  0  0  0⎥⎟\n",
       "⎜⎢             ⎥  ⎢             ⎥  ⎢                  ⎥  ⎢             ⎥⎟\n",
       "⎜⎢0  2  2  2  0⎥  ⎢0  2  6  2  0⎥  ⎢0   -2  2   -2  0 ⎥  ⎢0  0  0  0  0⎥⎟\n",
       "⎜⎢             ⎥  ⎢             ⎥  ⎢                  ⎥  ⎢             ⎥⎟\n",
       "⎜⎢0  0  3  3  1⎥  ⎢0  0  3  7  1⎥  ⎢0   0   -3  1   -1⎥  ⎢0  0  0  0  0⎥⎟\n",
       "⎜⎢             ⎥  ⎢             ⎥  ⎢                  ⎥  ⎢             ⎥⎟\n",
       "⎝⎣0  0  0  4  4⎦  ⎣0  0  0  4  8⎦  ⎣0   0   0   -4  0 ⎦  ⎣0  0  0  0  0⎦⎠"
      ]
     },
     "execution_count": 6,
     "metadata": {},
     "output_type": "execute_result"
    }
   ],
   "source": [
    "GS=S.diff(t).subs(t,0)\n",
    "GS2=S2.diff(t).subs(t,0)\n",
    "GS3=S3.diff(t).subs(t,0)\n",
    "print(GS,GS2,GS3,GS*GS2-GS2*GS)\n",
    "GAM(A,4),GAM(B,4),GAM(C,4),GAM(A,4)*GAM(B,4)-GAM(B,4)*GAM(A,4)"
   ]
  },
  {
   "cell_type": "code",
   "execution_count": 7,
   "metadata": {
    "collapsed": false,
    "slideshow": {
     "slide_type": "slide"
    }
   },
   "outputs": [
    {
     "data": {
      "image/png": "[encoded data removed]",
      "text/latex": [
       "$$\\left[\\begin{matrix}1\\end{matrix}\\right]$$"
      ],
      "text/plain": [
       "[1]"
      ]
     },
     "metadata": {},
     "output_type": "display_data"
    },
    {
     "data": {
      "image/png": "[encoded data removed]",
      "text/latex": [
       "$$\\left[\\begin{matrix}0 & 1\\\\1 & 1\\end{matrix}\\right]$$"
      ],
      "text/plain": [
       "⎡0  1⎤\n",
       "⎢    ⎥\n",
       "⎣1  1⎦"
      ]
     },
     "metadata": {},
     "output_type": "display_data"
    },
    {
     "data": {
      "image/png": "[encoded data removed]",
      "text/latex": [
       "$$\\left[\\begin{matrix}0 & 0 & 1\\\\0 & 1 & 1\\\\1 & 2 & 1\\end{matrix}\\right]$$"
      ],
      "text/plain": [
       "⎡0  0  1⎤\n",
       "⎢       ⎥\n",
       "⎢0  1  1⎥\n",
       "⎢       ⎥\n",
       "⎣1  2  1⎦"
      ]
     },
     "metadata": {},
     "output_type": "display_data"
    },
    {
     "data": {
      "image/png": "[encoded data removed]",
      "text/latex": [
       "$$\\left[\\begin{matrix}0 & 0 & 0 & 1\\\\0 & 0 & 1 & 1\\\\0 & 1 & 2 & 1\\\\1 & 3 & 3 & 1\\end{matrix}\\right]$$"
      ],
      "text/plain": [
       "⎡0  0  0  1⎤\n",
       "⎢          ⎥\n",
       "⎢0  0  1  1⎥\n",
       "⎢          ⎥\n",
       "⎢0  1  2  1⎥\n",
       "⎢          ⎥\n",
       "⎣1  3  3  1⎦"
      ]
     },
     "metadata": {},
     "output_type": "display_data"
    },
    {
     "data": {
      "image/png": "[encoded data removed]",
      "text/latex": [
       "$$\\left[\\begin{matrix}0 & 0 & 0 & 0 & 1\\\\0 & 0 & 0 & 1 & 1\\\\0 & 0 & 1 & 2 & 1\\\\0 & 1 & 3 & 3 & 1\\\\1 & 4 & 6 & 4 & 1\\end{matrix}\\right]$$"
      ],
      "text/plain": [
       "⎡0  0  0  0  1⎤\n",
       "⎢             ⎥\n",
       "⎢0  0  0  1  1⎥\n",
       "⎢             ⎥\n",
       "⎢0  0  1  2  1⎥\n",
       "⎢             ⎥\n",
       "⎢0  1  3  3  1⎥\n",
       "⎢             ⎥\n",
       "⎣1  4  6  4  1⎦"
      ]
     },
     "metadata": {},
     "output_type": "display_data"
    },
    {
     "data": {
      "image/png": "[encoded data removed]",
      "text/latex": [
       "$$\\left[\\begin{matrix}0 & 0 & 0 & 0 & 0 & 1\\\\0 & 0 & 0 & 0 & 1 & 1\\\\0 & 0 & 0 & 1 & 2 & 1\\\\0 & 0 & 1 & 3 & 3 & 1\\\\0 & 1 & 4 & 6 & 4 & 1\\\\1 & 5 & 10 & 10 & 5 & 1\\end{matrix}\\right]$$"
      ],
      "text/plain": [
       "⎡0  0  0   0   0  1⎤\n",
       "⎢                  ⎥\n",
       "⎢0  0  0   0   1  1⎥\n",
       "⎢                  ⎥\n",
       "⎢0  0  0   1   2  1⎥\n",
       "⎢                  ⎥\n",
       "⎢0  0  1   3   3  1⎥\n",
       "⎢                  ⎥\n",
       "⎢0  1  4   6   4  1⎥\n",
       "⎢                  ⎥\n",
       "⎣1  5  10  10  5  1⎦"
      ]
     },
     "metadata": {},
     "output_type": "display_data"
    }
   ],
   "source": [
    "for i in range(6):\n",
    "    display(SymPower(A,i))"
   ]
  },
  {
   "cell_type": "code",
   "execution_count": 8,
   "metadata": {
    "collapsed": false
   },
   "outputs": [],
   "source": [
    "#help(commutator)"
   ]
  },
  {
   "cell_type": "code",
   "execution_count": 9,
   "metadata": {
    "collapsed": true
   },
   "outputs": [],
   "source": [
    "from sympy.physics.quantum import *"
   ]
  },
  {
   "cell_type": "code",
   "execution_count": 10,
   "metadata": {
    "collapsed": false,
    "slideshow": {
     "slide_type": "slide"
    }
   },
   "outputs": [
    {
     "data": {
      "image/png": "[encoded data removed]",
      "text/latex": [
       "$$\\left[\\begin{matrix}1 & 0\\\\1 & -1\\end{matrix}\\right]$$"
      ],
      "text/plain": [
       "⎡1  0 ⎤\n",
       "⎢     ⎥\n",
       "⎣1  -1⎦"
      ]
     },
     "execution_count": 10,
     "metadata": {},
     "output_type": "execute_result"
    }
   ],
   "source": [
    "A=Matrix(2,2,[0,1,1,1])\n",
    "B=Matrix(2,2,[1,0,1,1])\n",
    "\n",
    "C=A*B-B*A\n",
    "C"
   ]
  },
  {
   "cell_type": "code",
   "execution_count": 11,
   "metadata": {
    "collapsed": false,
    "slideshow": {
     "slide_type": "subslide"
    }
   },
   "outputs": [
    {
     "data": {
      "image/png": "[encoded data removed]",
      "text/latex": [
       "$$\\Gamma{\\left (\\left[\\begin{matrix}0 & 1\\\\1 & 1\\end{matrix}\\right],4 \\right )}$$"
      ],
      "text/plain": [
       "Γ⎛⎡0  1⎤, 4⎞\n",
       " ⎜⎢    ⎥   ⎟\n",
       " ⎝⎣1  1⎦   ⎠"
      ]
     },
     "execution_count": 11,
     "metadata": {},
     "output_type": "execute_result"
    }
   ],
   "source": [
    "var('Gamma')\n",
    "Gamma(A,4)"
   ]
  },
  {
   "cell_type": "code",
   "execution_count": 12,
   "metadata": {
    "collapsed": false,
    "slideshow": {
     "slide_type": "skip"
    }
   },
   "outputs": [],
   "source": [
    "A=diag(x,y,z)\n",
    "#B=TensorProduct(TensorProduct(A,A),A)\n",
    "#B,factor(trace(B))"
   ]
  },
  {
   "cell_type": "code",
   "execution_count": 13,
   "metadata": {
    "collapsed": false,
    "slideshow": {
     "slide_type": "slide"
    }
   },
   "outputs": [
    {
     "data": {
      "image/png": "[encoded data removed]",
      "text/latex": [
       "$$\\left ( \\left[\\begin{matrix}x^{2} & 0 & 0 & 0 & 0 & 0\\\\0 & x y & 0 & 0 & 0 & 0\\\\0 & 0 & x z & 0 & 0 & 0\\\\0 & 0 & 0 & y^{2} & 0 & 0\\\\0 & 0 & 0 & 0 & y z & 0\\\\0 & 0 & 0 & 0 & 0 & z^{2}\\end{matrix}\\right], \\quad x^{2} + x y + x z + y^{2} + y z + z^{2}\\right )$$"
      ],
      "text/plain": [
       "⎛⎡ 2                       ⎤   2                2          2⎞\n",
       "⎜⎢x    0    0   0    0   0 ⎥, x  + x⋅y + x⋅z + y  + y⋅z + z ⎟\n",
       "⎜⎢                         ⎥                                ⎟\n",
       "⎜⎢0   x⋅y   0   0    0   0 ⎥                                ⎟\n",
       "⎜⎢                         ⎥                                ⎟\n",
       "⎜⎢0    0   x⋅z  0    0   0 ⎥                                ⎟\n",
       "⎜⎢                         ⎥                                ⎟\n",
       "⎜⎢               2         ⎥                                ⎟\n",
       "⎜⎢0    0    0   y    0   0 ⎥                                ⎟\n",
       "⎜⎢                         ⎥                                ⎟\n",
       "⎜⎢0    0    0   0   y⋅z  0 ⎥                                ⎟\n",
       "⎜⎢                         ⎥                                ⎟\n",
       "⎜⎢                        2⎥                                ⎟\n",
       "⎝⎣0    0    0   0    0   z ⎦                                ⎠"
      ]
     },
     "execution_count": 13,
     "metadata": {},
     "output_type": "execute_result"
    }
   ],
   "source": [
    "X=SymPower(A,2)\n",
    "X,trace(X)"
   ]
  },
  {
   "cell_type": "code",
   "execution_count": 14,
   "metadata": {
    "collapsed": false,
    "slideshow": {
     "slide_type": "skip"
    }
   },
   "outputs": [
    {
     "data": {
      "image/png": "[encoded data removed]",
      "text/latex": [
       "$$\\left ( \\left[\\begin{matrix}\\frac{1}{3} & \\frac{1}{3} & \\frac{1}{3}\\\\\\frac{1}{2} & 0 & \\frac{1}{2}\\\\0 & 1 & 0\\end{matrix}\\right], \\quad \\left[\\begin{matrix}\\frac{1}{2} & \\frac{2}{3} & \\frac{1}{2}\\\\\\frac{1}{2} & \\frac{2}{3} & \\frac{1}{2}\\\\\\frac{1}{2} & \\frac{2}{3} & \\frac{1}{2}\\end{matrix}\\right]\\right )$$"
      ],
      "text/plain": [
       "⎛⎡1/3  1/3  1/3⎤, ⎡1/2  2/3  1/2⎤⎞\n",
       "⎜⎢             ⎥  ⎢             ⎥⎟\n",
       "⎜⎢1/2   0   1/2⎥  ⎢1/2  2/3  1/2⎥⎟\n",
       "⎜⎢             ⎥  ⎢             ⎥⎟\n",
       "⎝⎣ 0    1    0 ⎦  ⎣1/2  2/3  1/2⎦⎠"
      ]
     },
     "execution_count": 14,
     "metadata": {},
     "output_type": "execute_result"
    }
   ],
   "source": [
    "A=Matrix(3,3,[Rational(1,3),Rational(1,3),Rational(1,3),Rational(1,2),0,Rational(1,2),0,1,0])\n",
    "B=A-eye(A.shape[0])\n",
    "A,B.adjugate()"
   ]
  },
  {
   "cell_type": "code",
   "execution_count": 15,
   "metadata": {
    "collapsed": false,
    "slideshow": {
     "slide_type": "skip"
    }
   },
   "outputs": [
    {
     "name": "stdout",
     "output_type": "stream",
     "text": [
      "1 : 1 1\n",
      "2 : 3 3\n",
      "3 : 4 4\n",
      "4 : 7 7\n",
      "5 : 11 11\n",
      "6 : 18 18\n",
      "7 : 29 29\n",
      "8 : 47 47\n",
      "9 : 76 76\n",
      "10 : 123 123\n",
      "11 : 199 199\n",
      "12 : 322 322\n",
      "13 : 521 521\n",
      "14 : 843 843\n",
      "15 : 1364 1364\n",
      "16 : 2207 2207\n",
      "17 : 3571 3571\n"
     ]
    }
   ],
   "source": [
    "for n in range(1,18):\n",
    "    print(n,\":\",summation(binomial(n-k,k)*n/(n-k),(k,0,floor(n/2))),lucas(n))\n",
    "    "
   ]
  },
  {
   "cell_type": "code",
   "execution_count": 16,
   "metadata": {
    "collapsed": true,
    "slideshow": {
     "slide_type": "skip"
    }
   },
   "outputs": [],
   "source": [
    "A=Matrix(2,2,[1,1,1,0]);"
   ]
  },
  {
   "cell_type": "code",
   "execution_count": 17,
   "metadata": {
    "collapsed": false,
    "slideshow": {
     "slide_type": "skip"
    }
   },
   "outputs": [
    {
     "data": {
      "image/png": "[encoded data removed]",
      "text/latex": [
       "$$\\left \\{ -1 : 1, \\quad - \\frac{\\sqrt{5}}{2} + \\frac{3}{2} : 1, \\quad \\frac{\\sqrt{5}}{2} + \\frac{3}{2} : 1\\right \\}$$"
      ],
      "text/plain": [
       "⎧         √5   3     √5   3   ⎫\n",
       "⎨-1: 1, - ── + ─: 1, ── + ─: 1⎬\n",
       "⎩         2    2     2    2   ⎭"
      ]
     },
     "execution_count": 17,
     "metadata": {},
     "output_type": "execute_result"
    }
   ],
   "source": [
    "B=SymPower(A,2)\n",
    "B.eigenvals()"
   ]
  },
  {
   "cell_type": "code",
   "execution_count": 18,
   "metadata": {
    "collapsed": true
   },
   "outputs": [],
   "source": [
    "C=A"
   ]
  },
  {
   "cell_type": "code",
   "execution_count": 19,
   "metadata": {
    "collapsed": false
   },
   "outputs": [
    {
     "data": {
      "image/png": "[encoded data removed]",
      "text/latex": [
       "$$\\left ( \\alpha, \\quad \\gamma, \\quad \\beta\\right )$$"
      ],
      "text/plain": [
       "(α, γ, β)"
      ]
     },
     "execution_count": 19,
     "metadata": {},
     "output_type": "execute_result"
    }
   ],
   "source": [
    "var('alpha,gamma,beta')"
   ]
  },
  {
   "cell_type": "code",
   "execution_count": 20,
   "metadata": {
    "collapsed": false,
    "slideshow": {
     "slide_type": "skip"
    }
   },
   "outputs": [
    {
     "data": {
      "text/plain": [
       "'a^{3} m'"
      ]
     },
     "execution_count": 20,
     "metadata": {},
     "output_type": "execute_result"
    }
   ],
   "source": [
    "ax=m*a**3\n",
    "cc=latex(ax)\n",
    "cc "
   ]
  },
  {
   "cell_type": "code",
   "execution_count": 21,
   "metadata": {
    "collapsed": false,
    "slideshow": {
     "slide_type": "skip"
    }
   },
   "outputs": [
    {
     "name": "stdout",
     "output_type": "stream",
     "text": [
      "Writing 'cc' (str) to file 'scratch.tex'.\n"
     ]
    }
   ],
   "source": [
    "%store cc > scratch.tex"
   ]
  },
  {
   "cell_type": "code",
   "execution_count": 22,
   "metadata": {
    "collapsed": false,
    "slideshow": {
     "slide_type": "slide"
    }
   },
   "outputs": [
    {
     "data": {
      "image/png": "[encoded data removed]",
      "text/latex": [
       "$$\\left ( \\left[\\begin{matrix}0 & 0\\\\1 & 0\\end{matrix}\\right], \\quad \\left[\\begin{matrix}0 & 1\\\\0 & 0\\end{matrix}\\right], \\quad \\left[\\begin{matrix}1 & 0\\\\1 & 1\\end{matrix}\\right], \\quad \\left[\\begin{matrix}1 & 1\\\\0 & 1\\end{matrix}\\right], \\quad \\left[\\begin{matrix}1 & 1\\\\1 & 2\\end{matrix}\\right], \\quad \\left[\\begin{matrix}1 & 1\\\\1 & 2\\end{matrix}\\right]\\right )$$"
      ],
      "text/plain": [
       "⎛⎡0  0⎤, ⎡0  1⎤, ⎡1  0⎤, ⎡1  1⎤, ⎡1  1⎤, ⎡1  1⎤⎞\n",
       "⎜⎢    ⎥  ⎢    ⎥  ⎢    ⎥  ⎢    ⎥  ⎢    ⎥  ⎢    ⎥⎟\n",
       "⎝⎣1  0⎦  ⎣0  0⎦  ⎣1  1⎦  ⎣0  1⎦  ⎣1  2⎦  ⎣1  2⎦⎠"
      ]
     },
     "execution_count": 22,
     "metadata": {},
     "output_type": "execute_result"
    }
   ],
   "source": [
    "R=Matrix(2,2,[0,0,1,0])\n",
    "L=Matrix(2,2,[0,1,0,0])\n",
    "\n",
    "ER=Matrix(2,2,[1,0,1,1])\n",
    "EL=Matrix(2,2,[1,1,0,1])\n",
    "F=Matrix(2,2,[0,1,1,1])\n",
    "FF=F**2\n",
    "R,L,ER,EL,ER*EL,FF"
   ]
  },
  {
   "cell_type": "code",
   "execution_count": 23,
   "metadata": {
    "collapsed": false,
    "slideshow": {
     "slide_type": "subslide"
    }
   },
   "outputs": [
    {
     "data": {
      "text/plain": [
       "True"
      ]
     },
     "metadata": {},
     "output_type": "display_data"
    },
    {
     "data": {
      "image/png": "[encoded data removed]",
      "text/latex": [
       "$$\\left ( \\left[\\begin{matrix}0 & 0 & 0 & 0 & 0\\\\1 & 0 & 0 & 0 & 0\\\\0 & 2 & 0 & 0 & 0\\\\0 & 0 & 3 & 0 & 0\\\\0 & 0 & 0 & 4 & 0\\end{matrix}\\right], \\quad \\left[\\begin{matrix}0 & 4 & 0 & 0 & 0\\\\0 & 0 & 3 & 0 & 0\\\\0 & 0 & 0 & 2 & 0\\\\0 & 0 & 0 & 0 & 1\\\\0 & 0 & 0 & 0 & 0\\end{matrix}\\right], \\quad \\left[\\begin{matrix}1 & 0 & 0 & 0 & 0\\\\1 & 1 & 0 & 0 & 0\\\\1 & 2 & 1 & 0 & 0\\\\1 & 3 & 3 & 1 & 0\\\\1 & 4 & 6 & 4 & 1\\end{matrix}\\right], \\quad \\left[\\begin{matrix}1 & 4 & 6 & 4 & 1\\\\0 & 1 & 3 & 3 & 1\\\\0 & 0 & 1 & 2 & 1\\\\0 & 0 & 0 & 1 & 1\\\\0 & 0 & 0 & 0 & 1\\end{matrix}\\right], \\quad \\left[\\begin{matrix}1 & 4 & 6 & 4 & 1\\\\1 & 5 & 9 & 7 & 2\\\\1 & 6 & 13 & 12 & 4\\\\1 & 7 & 18 & 20 & 8\\\\1 & 8 & 24 & 32 & 16\\end{matrix}\\right]\\right )$$"
      ],
      "text/plain": [
       "⎛⎡0  0  0  0  0⎤, ⎡0  4  0  0  0⎤, ⎡1  0  0  0  0⎤, ⎡1  4  6  4  1⎤, ⎡1  4  6 \n",
       "⎜⎢             ⎥  ⎢             ⎥  ⎢             ⎥  ⎢             ⎥  ⎢        \n",
       "⎜⎢1  0  0  0  0⎥  ⎢0  0  3  0  0⎥  ⎢1  1  0  0  0⎥  ⎢0  1  3  3  1⎥  ⎢1  5  9 \n",
       "⎜⎢             ⎥  ⎢             ⎥  ⎢             ⎥  ⎢             ⎥  ⎢        \n",
       "⎜⎢0  2  0  0  0⎥  ⎢0  0  0  2  0⎥  ⎢1  2  1  0  0⎥  ⎢0  0  1  2  1⎥  ⎢1  6  13\n",
       "⎜⎢             ⎥  ⎢             ⎥  ⎢             ⎥  ⎢             ⎥  ⎢        \n",
       "⎜⎢0  0  3  0  0⎥  ⎢0  0  0  0  1⎥  ⎢1  3  3  1  0⎥  ⎢0  0  0  1  1⎥  ⎢1  7  18\n",
       "⎜⎢             ⎥  ⎢             ⎥  ⎢             ⎥  ⎢             ⎥  ⎢        \n",
       "⎝⎣0  0  0  4  0⎦  ⎣0  0  0  0  0⎦  ⎣1  4  6  4  1⎦  ⎣0  0  0  0  1⎦  ⎣1  8  24\n",
       "\n",
       "  4   1 ⎤⎞\n",
       "        ⎥⎟\n",
       "  7   2 ⎥⎟\n",
       "        ⎥⎟\n",
       "  12  4 ⎥⎟\n",
       "        ⎥⎟\n",
       "  20  8 ⎥⎟\n",
       "        ⎥⎟\n",
       "  32  16⎦⎠"
      ]
     },
     "execution_count": 23,
     "metadata": {},
     "output_type": "execute_result"
    }
   ],
   "source": [
    "N=4\n",
    "display(not any(SymPower(ER,N)*SymPower(EL,N)-SymPower(FF,N)))\n",
    "GAM(R,N),GAM(L,N),SymPower(ER,N),SymPower(EL,N),SymPower(FF,N)"
   ]
  },
  {
   "cell_type": "code",
   "execution_count": 24,
   "metadata": {
    "collapsed": false,
    "slideshow": {
     "slide_type": "subslide"
    }
   },
   "outputs": [
    {
     "data": {
      "image/png": "[encoded data removed]",
      "text/latex": [
       "$$\\left ( \\left[\\begin{matrix}1 & 4 & 6 & 4 & 1\\\\1 & 5 & 9 & 7 & 2\\\\1 & 6 & 13 & 12 & 4\\\\1 & 7 & 18 & 20 & 8\\\\1 & 8 & 24 & 32 & 16\\end{matrix}\\right], \\quad \\left[\\begin{matrix}1 & 4 & 6 & 4 & 1\\\\1 & 5 & 9 & 7 & 2\\\\1 & 6 & 13 & 12 & 4\\\\1 & 7 & 18 & 20 & 8\\\\1 & 8 & 24 & 32 & 16\\end{matrix}\\right]\\right )$$"
      ],
      "text/plain": [
       "⎛⎡1  4  6   4   1 ⎤, ⎡1  4  6   4   1 ⎤⎞\n",
       "⎜⎢                ⎥  ⎢                ⎥⎟\n",
       "⎜⎢1  5  9   7   2 ⎥  ⎢1  5  9   7   2 ⎥⎟\n",
       "⎜⎢                ⎥  ⎢                ⎥⎟\n",
       "⎜⎢1  6  13  12  4 ⎥  ⎢1  6  13  12  4 ⎥⎟\n",
       "⎜⎢                ⎥  ⎢                ⎥⎟\n",
       "⎜⎢1  7  18  20  8 ⎥  ⎢1  7  18  20  8 ⎥⎟\n",
       "⎜⎢                ⎥  ⎢                ⎥⎟\n",
       "⎝⎣1  8  24  32  16⎦  ⎣1  8  24  32  16⎦⎠"
      ]
     },
     "execution_count": 24,
     "metadata": {},
     "output_type": "execute_result"
    }
   ],
   "source": [
    "N=4\n",
    "x=[];y=[]\n",
    "for k in range(N+1):\n",
    "    for n in range(N+1):\n",
    "       x.append(summation(binomial(N-k,n-j)*binomial(k,j)*2**j,(j,0,k)))\n",
    "       y.append(summation(binomial(N-j,n-j)*binomial(k,j),(j,0,k)))\n",
    "Matrix(N+1,N+1,x),Matrix(N+1,N+1,y)"
   ]
  },
  {
   "cell_type": "code",
   "execution_count": 25,
   "metadata": {
    "collapsed": false,
    "slideshow": {
     "slide_type": "slide"
    }
   },
   "outputs": [
    {
     "data": {
      "image/png": "[encoded data removed]",
      "text/latex": [
       "$$\\left [ 0, \\quad 1, \\quad 2, \\quad 3\\right ]$$"
      ],
      "text/plain": [
       "[0, 1, 2, 3]"
      ]
     },
     "execution_count": 25,
     "metadata": {},
     "output_type": "execute_result"
    }
   ],
   "source": [
    "[k for k in range(N)]"
   ]
  },
  {
   "cell_type": "code",
   "execution_count": 26,
   "metadata": {
    "collapsed": false,
    "slideshow": {
     "slide_type": "slide"
    }
   },
   "outputs": [
    {
     "data": {
      "image/png": "[encoded data removed]",
      "text/latex": [
       "$$\\left[\\begin{matrix}0 & 0 & 0 & 0 & 1\\\\0 & 0 & 0 & 1 & 0\\\\0 & 0 & 1 & 0 & 0\\\\0 & 1 & 0 & 0 & 0\\\\1 & 0 & 0 & 0 & 0\\end{matrix}\\right]$$"
      ],
      "text/plain": [
       "⎡0  0  0  0  1⎤\n",
       "⎢             ⎥\n",
       "⎢0  0  0  1  0⎥\n",
       "⎢             ⎥\n",
       "⎢0  0  1  0  0⎥\n",
       "⎢             ⎥\n",
       "⎢0  1  0  0  0⎥\n",
       "⎢             ⎥\n",
       "⎣1  0  0  0  0⎦"
      ]
     },
     "execution_count": 26,
     "metadata": {},
     "output_type": "execute_result"
    }
   ],
   "source": [
    "SER=SymPower(ER,N)\n",
    "d=SER.shape[0]\n",
    "jj=Matrix(2,2,[0,1,1,0])\n",
    "J=SymPower(jj,N)\n",
    "J"
   ]
  },
  {
   "cell_type": "code",
   "execution_count": 27,
   "metadata": {
    "collapsed": true,
    "slideshow": {
     "slide_type": "slide"
    }
   },
   "outputs": [],
   "source": [
    "def GR(E):\n",
    "    dx=E.shape[0]\n",
    "    return Matrix(dx,dx,lambda i,j: nsimplify(E[i,j],[GoldenRatio]))"
   ]
  },
  {
   "cell_type": "code",
   "execution_count": 28,
   "metadata": {
    "collapsed": false,
    "slideshow": {
     "slide_type": "subslide"
    }
   },
   "outputs": [
    {
     "data": {
      "image/png": "[encoded data removed]",
      "text/latex": [
       "$$\\left ( \\left[\\begin{matrix}0 & 0 & 0 & 0 & 1\\\\0 & 0 & 0 & 1 & 1\\\\0 & 0 & 1 & 2 & 1\\\\0 & 1 & 3 & 3 & 1\\\\1 & 4 & 6 & 4 & 1\\end{matrix}\\right], \\quad \\left[\\begin{matrix}6 & -16 + 8 \\phi & - 8 \\phi - 8 & 12 + 18 \\phi & - 18 \\phi + 30\\\\3 & - 2 \\phi & -2 + 2 \\phi & - 12 \\phi - 6 & -18 + 12 \\phi\\\\-1 & - 4 \\phi + 4 & 4 \\phi & 6 + 6 \\phi & - 6 \\phi + 12\\\\-3 & -6 + 4 \\phi & - 4 \\phi - 2 & - 6 \\phi & -6 + 6 \\phi\\\\6 & 8 & 8 & 6 & 6\\end{matrix}\\right], \\quad \\left[\\begin{matrix}1 & 0 & 0 & 0 & 0\\\\0 & - \\phi - 1 & 0 & 0 & 0\\\\0 & 0 & -2 + \\phi & 0 & 0\\\\0 & 0 & 0 & - 3 \\phi + 5 & 0\\\\0 & 0 & 0 & 0 & 2 + 3 \\phi\\end{matrix}\\right]\\right )$$"
      ],
      "text/plain": [
       "⎛⎡0  0  0  0  1⎤, ⎡6   -16 + 8⋅GoldenRatio  -8⋅GoldenRatio - 8  12 + 18⋅Golden\n",
       "⎜⎢             ⎥  ⎢                                                           \n",
       "⎜⎢0  0  0  1  1⎥  ⎢3     -2⋅GoldenRatio     -2 + 2⋅GoldenRatio  -12⋅GoldenRati\n",
       "⎜⎢             ⎥  ⎢                                                           \n",
       "⎜⎢0  0  1  2  1⎥  ⎢-1  -4⋅GoldenRatio + 4     4⋅GoldenRatio      6 + 6⋅GoldenR\n",
       "⎜⎢             ⎥  ⎢                                                           \n",
       "⎜⎢0  1  3  3  1⎥  ⎢-3  -6 + 4⋅GoldenRatio   -4⋅GoldenRatio - 2    -6⋅GoldenRat\n",
       "⎜⎢             ⎥  ⎢                                                           \n",
       "⎝⎣1  4  6  4  1⎦  ⎣6            8                   8                    6    \n",
       "\n",
       "Ratio  -18⋅GoldenRatio + 30⎤, ⎡1         0                 0                  \n",
       "                           ⎥  ⎢                                               \n",
       "o - 6  -18 + 12⋅GoldenRatio⎥  ⎢0  -GoldenRatio - 1         0                  \n",
       "                           ⎥  ⎢                                               \n",
       "atio   -6⋅GoldenRatio + 12 ⎥  ⎢0         0          -2 + GoldenRatio          \n",
       "                           ⎥  ⎢                                               \n",
       "io      -6 + 6⋅GoldenRatio ⎥  ⎢0         0                 0          -3⋅Golde\n",
       "                           ⎥  ⎢                                               \n",
       "                6          ⎦  ⎣0         0                 0                  \n",
       "\n",
       "0                   0        ⎤⎞\n",
       "                             ⎥⎟\n",
       "0                   0        ⎥⎟\n",
       "                             ⎥⎟\n",
       "0                   0        ⎥⎟\n",
       "                             ⎥⎟\n",
       "nRatio + 5          0        ⎥⎟\n",
       "                             ⎥⎟\n",
       "0           2 + 3⋅GoldenRatio⎦⎠"
      ]
     },
     "execution_count": 28,
     "metadata": {},
     "output_type": "execute_result"
    }
   ],
   "source": [
    "JER=SER*J\n",
    "KER=JER.diagonalize()\n",
    "JER,GR(KER[0]),GR(KER[1])"
   ]
  },
  {
   "cell_type": "code",
   "execution_count": 29,
   "metadata": {
    "collapsed": false
   },
   "outputs": [
    {
     "data": {
      "image/png": "[encoded data removed]",
      "text/latex": [
       "$$\\left ( \\left[\\begin{matrix}0 & 1\\\\1 & 1\\end{matrix}\\right], \\quad \\left[\\begin{matrix}0 & 0 & 0 & 0 & 1\\\\0 & 0 & 0 & 1 & 1\\\\0 & 0 & 1 & 2 & 1\\\\0 & 1 & 3 & 3 & 1\\\\1 & 4 & 6 & 4 & 1\\end{matrix}\\right], \\quad \\left[\\begin{matrix}0 & 4 & 0 & 0 & 0\\\\1 & 1 & 3 & 0 & 0\\\\0 & 2 & 2 & 2 & 0\\\\0 & 0 & 3 & 3 & 1\\\\0 & 0 & 0 & 4 & 4\\end{matrix}\\right]\\right )$$"
      ],
      "text/plain": [
       "⎛⎡0  1⎤, ⎡0  0  0  0  1⎤, ⎡0  4  0  0  0⎤⎞\n",
       "⎜⎢    ⎥  ⎢             ⎥  ⎢             ⎥⎟\n",
       "⎜⎣1  1⎦  ⎢0  0  0  1  1⎥  ⎢1  1  3  0  0⎥⎟\n",
       "⎜        ⎢             ⎥  ⎢             ⎥⎟\n",
       "⎜        ⎢0  0  1  2  1⎥  ⎢0  2  2  2  0⎥⎟\n",
       "⎜        ⎢             ⎥  ⎢             ⎥⎟\n",
       "⎜        ⎢0  1  3  3  1⎥  ⎢0  0  3  3  1⎥⎟\n",
       "⎜        ⎢             ⎥  ⎢             ⎥⎟\n",
       "⎝        ⎣1  4  6  4  1⎦  ⎣0  0  0  4  4⎦⎠"
      ]
     },
     "execution_count": 29,
     "metadata": {},
     "output_type": "execute_result"
    }
   ],
   "source": [
    "F,SymPower(F,N),GAM(F,N)"
   ]
  },
  {
   "cell_type": "code",
   "execution_count": 30,
   "metadata": {
    "collapsed": false,
    "slideshow": {
     "slide_type": "slide"
    }
   },
   "outputs": [
    {
     "data": {
      "image/png": "[encoded data removed]",
      "text/latex": [
       "$$\\left ( \\left[\\begin{matrix}0 & 0 & 0 & 0 & 0\\\\0 & 0 & 0 & 0 & 0\\\\0 & 0 & 0 & 0 & 0\\\\0 & 0 & 0 & 0 & 0\\\\0 & 0 & 0 & 0 & 1\\end{matrix}\\right], \\quad \\left[\\begin{matrix}0 & 0 & 0 & 0 & 0\\\\0 & 1 & 0 & 0 & 0\\\\0 & 0 & 2 & 0 & 0\\\\0 & 0 & 0 & 3 & 0\\\\0 & 0 & 0 & 0 & 4\\end{matrix}\\right]\\right )$$"
      ],
      "text/plain": [
       "⎛⎡0  0  0  0  0⎤, ⎡0  0  0  0  0⎤⎞\n",
       "⎜⎢             ⎥  ⎢             ⎥⎟\n",
       "⎜⎢0  0  0  0  0⎥  ⎢0  1  0  0  0⎥⎟\n",
       "⎜⎢             ⎥  ⎢             ⎥⎟\n",
       "⎜⎢0  0  0  0  0⎥  ⎢0  0  2  0  0⎥⎟\n",
       "⎜⎢             ⎥  ⎢             ⎥⎟\n",
       "⎜⎢0  0  0  0  0⎥  ⎢0  0  0  3  0⎥⎟\n",
       "⎜⎢             ⎥  ⎢             ⎥⎟\n",
       "⎝⎣0  0  0  0  1⎦  ⎣0  0  0  0  4⎦⎠"
      ]
     },
     "execution_count": 30,
     "metadata": {},
     "output_type": "execute_result"
    }
   ],
   "source": [
    "dd=Matrix(2,2,[0,0,0,1])\n",
    "SymPower(dd,N),GAM(dd,N)"
   ]
  },
  {
   "cell_type": "code",
   "execution_count": 31,
   "metadata": {
    "collapsed": false
   },
   "outputs": [
    {
     "data": {
      "image/png": "[encoded data removed]",
      "text/latex": [
       "$$\\left ( 15873, \\quad \\left \\{ 3 : 1, \\quad 11 : 1, \\quad 13 : 1, \\quad 37 : 1\\right \\}\\right )$$"
      ],
      "text/plain": [
       "(15873, {3: 1, 11: 1, 13: 1, 37: 1})"
      ]
     },
     "execution_count": 31,
     "metadata": {},
     "output_type": "execute_result"
    }
   ],
   "source": [
    "n=int(142857/9)\n",
    "n,factorint(n)"
   ]
  },
  {
   "cell_type": "code",
   "execution_count": 32,
   "metadata": {
    "collapsed": false
   },
   "outputs": [
    {
     "data": {
      "image/png": "[encoded data removed]",
      "text/latex": [
       "$$15873$$"
      ],
      "text/plain": [
       "15873"
      ]
     },
     "execution_count": 32,
     "metadata": {},
     "output_type": "execute_result"
    }
   ],
   "source": [
    "3*11*13*37"
   ]
  },
  {
   "cell_type": "code",
   "execution_count": 33,
   "metadata": {
    "collapsed": false
   },
   "outputs": [
    {
     "data": {
      "image/png": "[encoded data removed]",
      "text/latex": [
       "$$\\left \\{ 3 : 2, \\quad 7 : 1, \\quad 11 : 1, \\quad 13 : 1, \\quad 37 : 1, \\quad 52579 : 1, \\quad 333667 : 1\\right \\}$$"
      ],
      "text/plain": [
       "{3: 2, 7: 1, 11: 1, 13: 1, 37: 1, 52579: 1, 333667: 1}"
      ]
     },
     "execution_count": 33,
     "metadata": {},
     "output_type": "execute_result"
    }
   ],
   "source": [
    "factorint(int(52631578947368421/9))"
   ]
  },
  {
   "cell_type": "code",
   "execution_count": 34,
   "metadata": {
    "collapsed": false
   },
   "outputs": [
    {
     "data": {
      "image/png": "[encoded data removed]",
      "text/latex": [
       "$$\\left \\{ 11 : 1, \\quad 73 : 1, \\quad 101 : 1, \\quad 137 : 1, \\quad 5882353 : 1\\right \\}$$"
      ],
      "text/plain": [
       "{11: 1, 73: 1, 101: 1, 137: 1, 5882353: 1}"
      ]
     },
     "execution_count": 34,
     "metadata": {},
     "output_type": "execute_result"
    }
   ],
   "source": [
    "factorint(int(588235294117647/9))"
   ]
  },
  {
   "cell_type": "code",
   "execution_count": 35,
   "metadata": {
    "collapsed": false
   },
   "outputs": [
    {
     "data": {
      "image/png": "[encoded data removed]",
      "text/latex": [
       "$$2$$"
      ],
      "text/plain": [
       "2"
      ]
     },
     "execution_count": 35,
     "metadata": {},
     "output_type": "execute_result"
    }
   ],
   "source": [
    "int(6/3)"
   ]
  },
  {
   "cell_type": "code",
   "execution_count": null,
   "metadata": {
    "collapsed": true
   },
   "outputs": [],
   "source": []
  }
 ],
 "metadata": {
  "kernelspec": {
   "display_name": "Python 3",
   "language": "python",
   "name": "python3"
  },
  "language_info": {
   "codemirror_mode": {
    "name": "ipython",
    "version": 3
   },
   "file_extension": ".py",
   "mimetype": "text/x-python",
   "name": "python",
   "nbconvert_exporter": "python",
   "pygments_lexer": "ipython3",
   "version": "3.4.5"
  }
 },
 "nbformat": 4,
 "nbformat_minor": 0
}
