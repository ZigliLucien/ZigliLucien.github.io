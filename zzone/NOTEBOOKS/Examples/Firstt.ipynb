{
 "cells": [
  {
   "cell_type": "code",
   "execution_count": 1,
   "metadata": {
    "collapsed": false
   },
   "outputs": [
    {
     "name": "stdout",
     "output_type": "stream",
     "text": [
      "This provides macros for symmetric tensor powers.\n",
      "\n",
      "SymPower(A,N): a matrix A and degree N\n",
      "SymmTraces(A,n): matrix A and order of the series\n",
      "PowerTraces(A,n): matrix A and order of the series\n",
      "GAM(A,N): Lie map for matrix A in degree N\n"
     ]
    }
   ],
   "source": [
    "%run sympowers.py"
   ]
  },
  {
   "cell_type": "code",
   "execution_count": 2,
   "metadata": {
    "collapsed": false
   },
   "outputs": [
    {
     "data": {
      "image/png": "[encoded data removed]",
      "text/latex": [
       "$$1771561$$"
      ],
      "text/plain": [
       "1771561"
      ]
     },
     "execution_count": 2,
     "metadata": {},
     "output_type": "execute_result"
    }
   ],
   "source": [
    "11**6"
   ]
  },
  {
   "cell_type": "code",
   "execution_count": 3,
   "metadata": {
    "collapsed": false
   },
   "outputs": [
    {
     "data": {
      "image/png": "[encoded data removed]",
      "text/latex": [
       "$$\\left[\\begin{matrix}0 & b & c\\\\0 & 0 & a\\\\0 & 0 & 0\\end{matrix}\\right]$$"
      ],
      "text/plain": [
       "⎡0  b  c⎤\n",
       "⎢       ⎥\n",
       "⎢0  0  a⎥\n",
       "⎢       ⎥\n",
       "⎣0  0  0⎦"
      ]
     },
     "execution_count": 3,
     "metadata": {},
     "output_type": "execute_result"
    }
   ],
   "source": [
    "LAM=Matrix(3,3,[0,b,c,0,0,a,0,0,0])\n",
    "LAM"
   ]
  },
  {
   "cell_type": "code",
   "execution_count": 4,
   "metadata": {
    "collapsed": false
   },
   "outputs": [],
   "source": [
    "def goHeis(M):\n",
    "    x=M.diff(a)\n",
    "    y=M.diff(b)\n",
    "    z=M.diff(c)\n",
    "    return x,y,z"
   ]
  },
  {
   "cell_type": "code",
   "execution_count": 5,
   "metadata": {
    "collapsed": false
   },
   "outputs": [
    {
     "data": {
      "image/png": "[encoded data removed]",
      "text/latex": [
       "$$\\left ( \\left[\\begin{matrix}0 & 0 & 0 & 0 & 0 & 0\\\\0 & 0 & 1 & 0 & 0 & 0\\\\0 & 0 & 0 & 0 & 0 & 0\\\\0 & 0 & 0 & 0 & 2 & 0\\\\0 & 0 & 0 & 0 & 0 & 1\\\\0 & 0 & 0 & 0 & 0 & 0\\end{matrix}\\right], \\quad \\left[\\begin{matrix}0 & 2 & 0 & 0 & 0 & 0\\\\0 & 0 & 0 & 1 & 0 & 0\\\\0 & 0 & 0 & 0 & 1 & 0\\\\0 & 0 & 0 & 0 & 0 & 0\\\\0 & 0 & 0 & 0 & 0 & 0\\\\0 & 0 & 0 & 0 & 0 & 0\\end{matrix}\\right], \\quad \\left[\\begin{matrix}0 & 0 & 2 & 0 & 0 & 0\\\\0 & 0 & 0 & 0 & 1 & 0\\\\0 & 0 & 0 & 0 & 0 & 1\\\\0 & 0 & 0 & 0 & 0 & 0\\\\0 & 0 & 0 & 0 & 0 & 0\\\\0 & 0 & 0 & 0 & 0 & 0\\end{matrix}\\right], \\quad \\left[\\begin{matrix}0 & 0 & 0 & 0 & 0 & 0\\\\0 & 0 & 0 & 0 & 0 & 0\\\\0 & 0 & 0 & 0 & 0 & 0\\\\0 & 0 & 0 & 0 & 0 & 0\\\\0 & 0 & 0 & 0 & 0 & 0\\\\0 & 0 & 0 & 0 & 0 & 0\\end{matrix}\\right]\\right )$$"
      ],
      "text/plain": [
       "⎛⎡0  0  0  0  0  0⎤, ⎡0  2  0  0  0  0⎤, ⎡0  0  2  0  0  0⎤, ⎡0  0  0  0  0  0\n",
       "⎜⎢                ⎥  ⎢                ⎥  ⎢                ⎥  ⎢                \n",
       "⎜⎢0  0  1  0  0  0⎥  ⎢0  0  0  1  0  0⎥  ⎢0  0  0  0  1  0⎥  ⎢0  0  0  0  0  0\n",
       "⎜⎢                ⎥  ⎢                ⎥  ⎢                ⎥  ⎢                \n",
       "⎜⎢0  0  0  0  0  0⎥  ⎢0  0  0  0  1  0⎥  ⎢0  0  0  0  0  1⎥  ⎢0  0  0  0  0  0\n",
       "⎜⎢                ⎥  ⎢                ⎥  ⎢                ⎥  ⎢                \n",
       "⎜⎢0  0  0  0  2  0⎥  ⎢0  0  0  0  0  0⎥  ⎢0  0  0  0  0  0⎥  ⎢0  0  0  0  0  0\n",
       "⎜⎢                ⎥  ⎢                ⎥  ⎢                ⎥  ⎢                \n",
       "⎜⎢0  0  0  0  0  1⎥  ⎢0  0  0  0  0  0⎥  ⎢0  0  0  0  0  0⎥  ⎢0  0  0  0  0  0\n",
       "⎜⎢                ⎥  ⎢                ⎥  ⎢                ⎥  ⎢                \n",
       "⎝⎣0  0  0  0  0  0⎦  ⎣0  0  0  0  0  0⎦  ⎣0  0  0  0  0  0⎦  ⎣0  0  0  0  0  0\n",
       "\n",
       "⎤⎞\n",
       "⎥⎟\n",
       "⎥⎟\n",
       "⎥⎟\n",
       "⎥⎟\n",
       "⎥⎟\n",
       "⎥⎟\n",
       "⎥⎟\n",
       "⎥⎟\n",
       "⎥⎟\n",
       "⎦⎠"
      ]
     },
     "execution_count": 5,
     "metadata": {},
     "output_type": "execute_result"
    }
   ],
   "source": [
    "(X,D,H)=goHeis(GAM(LAM,2))\n",
    "X,D,H,D*X-X*D-H"
   ]
  },
  {
   "cell_type": "code",
   "execution_count": 6,
   "metadata": {
    "collapsed": false
   },
   "outputs": [
    {
     "data": {
      "image/png": "[encoded data removed]",
      "text/latex": [
       "$$\\left ( \\left[\\begin{matrix}1 & 2 t & t^{2} & t^{2} & t^{3} & \\frac{t^{4}}{4}\\\\0 & 1 & t & t & \\frac{3 t^{2}}{2} & \\frac{t^{3}}{2}\\\\0 & 0 & 1 & 0 & t & \\frac{t^{2}}{2}\\\\0 & 0 & 0 & 1 & 2 t & t^{2}\\\\0 & 0 & 0 & 0 & 1 & t\\\\0 & 0 & 0 & 0 & 0 & 1\\end{matrix}\\right], \\quad \\left[\\begin{matrix}0 & 0 & 0 & 0 & 0 & 0\\\\0 & 0 & 0 & 0 & 0 & 0\\\\0 & 0 & 0 & 0 & 0 & 0\\\\0 & 0 & 0 & 0 & 0 & 0\\\\0 & 0 & 0 & 0 & 0 & 0\\\\0 & 0 & 0 & 0 & 0 & 0\\end{matrix}\\right]\\right )$$"
      ],
      "text/plain": [
       "⎛⎡                       4⎤                    ⎞\n",
       "⎜⎢         2   2    3   t ⎥                    ⎟\n",
       "⎜⎢1  2⋅t  t   t    t    ──⎥, ⎡0  0  0  0  0  0⎤⎟\n",
       "⎜⎢                      4 ⎥  ⎢                ⎥⎟\n",
       "⎜⎢                        ⎥  ⎢0  0  0  0  0  0⎥⎟\n",
       "⎜⎢                   2   3⎥  ⎢                ⎥⎟\n",
       "⎜⎢                3⋅t   t ⎥  ⎢0  0  0  0  0  0⎥⎟\n",
       "⎜⎢0   1   t   t   ────  ──⎥  ⎢                ⎥⎟\n",
       "⎜⎢                 2    2 ⎥  ⎢0  0  0  0  0  0⎥⎟\n",
       "⎜⎢                        ⎥  ⎢                ⎥⎟\n",
       "⎜⎢                       2⎥  ⎢0  0  0  0  0  0⎥⎟\n",
       "⎜⎢                      t ⎥  ⎢                ⎥⎟\n",
       "⎜⎢0   0   1   0    t    ──⎥  ⎣0  0  0  0  0  0⎦⎟\n",
       "⎜⎢                      2 ⎥                    ⎟\n",
       "⎜⎢                        ⎥                    ⎟\n",
       "⎜⎢                       2⎥                    ⎟\n",
       "⎜⎢0   0   0   1   2⋅t   t ⎥                    ⎟\n",
       "⎜⎢                        ⎥                    ⎟\n",
       "⎜⎢0   0   0   0    1    t ⎥                    ⎟\n",
       "⎜⎢                        ⎥                    ⎟\n",
       "⎝⎣0   0   0   0    0    1 ⎦                    ⎠"
      ]
     },
     "execution_count": 6,
     "metadata": {},
     "output_type": "execute_result"
    }
   ],
   "source": [
    "W=simplify(t*(X+D))\n",
    "WW=exp(t*X)*exp(t*D)*exp(t**2*H/2)\n",
    "d=W.shape[0]\n",
    "XX=Matrix(d,d,lambda r,s:  0)\n",
    "for j in range(0,8):\n",
    "    XX=XX+W**j/factorial(j)\n",
    "    \n",
    "XX,XX-WW"
   ]
  },
  {
   "cell_type": "code",
   "execution_count": 7,
   "metadata": {
    "collapsed": false
   },
   "outputs": [],
   "source": [
    "from sympy.physics.quantum import TensorProduct"
   ]
  },
  {
   "cell_type": "code",
   "execution_count": 8,
   "metadata": {
    "collapsed": false
   },
   "outputs": [
    {
     "data": {
      "image/png": "[encoded data removed]",
      "text/latex": [
       "$$\\left[\\begin{matrix}0 & 0 & 0 & 0 & 0 & 0 & 0 & 0\\\\0 & 0 & 0 & 0 & 0 & 0 & 0 & 0\\\\0 & 0 & 0 & 0 & 0 & 0 & 0 & 0\\\\0 & 0 & 0 & 0 & 0 & 0 & 0 & 0\\\\0 & 0 & 0 & 0 & 0 & 0 & 0 & 0\\\\0 & 0 & 0 & 0 & 0 & 0 & 0 & 0\\\\0 & 0 & 0 & 0 & 0 & 0 & 0 & 0\\\\0 & 0 & 0 & 0 & 0 & 0 & 0 & 0\\end{matrix}\\right]$$"
      ],
      "text/plain": [
       "⎡0  0  0  0  0  0  0  0⎤\n",
       "⎢                      ⎥\n",
       "⎢0  0  0  0  0  0  0  0⎥\n",
       "⎢                      ⎥\n",
       "⎢0  0  0  0  0  0  0  0⎥\n",
       "⎢                      ⎥\n",
       "⎢0  0  0  0  0  0  0  0⎥\n",
       "⎢                      ⎥\n",
       "⎢0  0  0  0  0  0  0  0⎥\n",
       "⎢                      ⎥\n",
       "⎢0  0  0  0  0  0  0  0⎥\n",
       "⎢                      ⎥\n",
       "⎢0  0  0  0  0  0  0  0⎥\n",
       "⎢                      ⎥\n",
       "⎣0  0  0  0  0  0  0  0⎦"
      ]
     },
     "execution_count": 8,
     "metadata": {},
     "output_type": "execute_result"
    }
   ],
   "source": [
    "B=Matrix(2,2,[1,0,1,1])\n",
    "A=eye(2)\n",
    "TensorProduct(A,TensorProduct(B,A))-TensorProduct(TensorProduct(A,B),A) "
   ]
  },
  {
   "cell_type": "code",
   "execution_count": 9,
   "metadata": {
    "collapsed": false
   },
   "outputs": [
    {
     "data": {
      "image/png": "[encoded data removed]",
      "text/latex": [
       "$$\\left [ 0, \\quad 1, \\quad 2, \\quad 3, \\quad 4, \\quad 5, \\quad 6\\right ]$$"
      ],
      "text/plain": [
       "[0, 1, 2, 3, 4, 5, 6]"
      ]
     },
     "execution_count": 9,
     "metadata": {},
     "output_type": "execute_result"
    }
   ],
   "source": [
    "[i for i in range(0,7)]"
   ]
  },
  {
   "cell_type": "code",
   "execution_count": 10,
   "metadata": {
    "collapsed": false
   },
   "outputs": [
    {
     "data": {
      "image/png": "[encoded data removed]",
      "text/latex": [
       "$$1$$"
      ],
      "text/plain": [
       "1"
      ]
     },
     "metadata": {},
     "output_type": "display_data"
    },
    {
     "data": {
      "image/png": "[encoded data removed]",
      "text/latex": [
       "$$1$$"
      ],
      "text/plain": [
       "1"
      ]
     },
     "metadata": {},
     "output_type": "display_data"
    },
    {
     "data": {
      "image/png": "[encoded data removed]",
      "text/latex": [
       "$$2 \\alpha y$$"
      ],
      "text/plain": [
       "2⋅α⋅y"
      ]
     },
     "metadata": {},
     "output_type": "display_data"
    },
    {
     "data": {
      "image/png": "[encoded data removed]",
      "text/latex": [
       "$$2 \\alpha y$$"
      ],
      "text/plain": [
       "2⋅α⋅y"
      ]
     },
     "metadata": {},
     "output_type": "display_data"
    },
    {
     "data": {
      "image/png": "[encoded data removed]",
      "text/latex": [
       "$$\\alpha^{2} \\left(4 y^{2} + 4 y\\right) - 2 y$$"
      ],
      "text/plain": [
       " 2 ⎛   2      ⎞      \n",
       "α ⋅⎝4⋅y  + 4⋅y⎠ - 2⋅y"
      ]
     },
     "metadata": {},
     "output_type": "display_data"
    },
    {
     "data": {
      "image/png": "[encoded data removed]",
      "text/latex": [
       "$$\\alpha^{2} \\left(4 y^{2} + 4 y\\right) - 2 y$$"
      ],
      "text/plain": [
       " 2 ⎛   2      ⎞      \n",
       "α ⋅⎝4⋅y  + 4⋅y⎠ - 2⋅y"
      ]
     },
     "metadata": {},
     "output_type": "display_data"
    },
    {
     "data": {
      "image/png": "[encoded data removed]",
      "text/latex": [
       "$$\\alpha^{3} \\left(8 y^{3} + 24 y^{2} + 16 y\\right) + \\alpha \\left(- 12 y^{2} - 12 y\\right)$$"
      ],
      "text/plain": [
       " 3 ⎛   3       2       ⎞     ⎛      2       ⎞\n",
       "α ⋅⎝8⋅y  + 24⋅y  + 16⋅y⎠ + α⋅⎝- 12⋅y  - 12⋅y⎠"
      ]
     },
     "metadata": {},
     "output_type": "display_data"
    },
    {
     "data": {
      "image/png": "[encoded data removed]",
      "text/latex": [
       "$$\\alpha^{3} \\left(8 y^{3} + 24 y^{2} + 16 y\\right) + \\alpha \\left(- 12 y^{2} - 12 y\\right)$$"
      ],
      "text/plain": [
       " 3 ⎛   3       2       ⎞     ⎛      2       ⎞\n",
       "α ⋅⎝8⋅y  + 24⋅y  + 16⋅y⎠ + α⋅⎝- 12⋅y  - 12⋅y⎠"
      ]
     },
     "metadata": {},
     "output_type": "display_data"
    },
    {
     "data": {
      "image/png": "[encoded data removed]",
      "text/latex": [
       "$$\\alpha^{4} \\left(16 y^{4} + 96 y^{3} + 176 y^{2} + 96 y\\right) + \\alpha^{2} \\left(- 48 y^{3} - 144 y^{2} - 96 y\\right) + 12 y^{2} + 12 y$$"
      ],
      "text/plain": [
       " 4 ⎛    4       3        2       ⎞    2 ⎛      3        2       ⎞       2     \n",
       "α ⋅⎝16⋅y  + 96⋅y  + 176⋅y  + 96⋅y⎠ + α ⋅⎝- 48⋅y  - 144⋅y  - 96⋅y⎠ + 12⋅y  + 12\n",
       "\n",
       "  \n",
       "⋅y"
      ]
     },
     "metadata": {},
     "output_type": "display_data"
    },
    {
     "data": {
      "image/png": "[encoded data removed]",
      "text/latex": [
       "$$\\alpha^{4} \\left(16 y^{4} + 96 y^{3} + 176 y^{2} + 96 y\\right) + \\alpha^{2} \\left(- 48 y^{3} - 144 y^{2} - 96 y\\right) + 12 y^{2} + 12 y$$"
      ],
      "text/plain": [
       " 4 ⎛    4       3        2       ⎞    2 ⎛      3        2       ⎞       2     \n",
       "α ⋅⎝16⋅y  + 96⋅y  + 176⋅y  + 96⋅y⎠ + α ⋅⎝- 48⋅y  - 144⋅y  - 96⋅y⎠ + 12⋅y  + 12\n",
       "\n",
       "  \n",
       "⋅y"
      ]
     },
     "metadata": {},
     "output_type": "display_data"
    },
    {
     "data": {
      "image/png": "[encoded data removed]",
      "text/latex": [
       "$$\\alpha^{5} \\left(32 y^{5} + 320 y^{4} + 1120 y^{3} + 1600 y^{2} + 768 y\\right) + \\alpha^{3} \\left(- 160 y^{4} - 960 y^{3} - 1760 y^{2} - 960 y\\right) + \\alpha \\left(120 y^{3} + 360 y^{2} + 240 y\\right)$$"
      ],
      "text/plain": [
       " 5 ⎛    5        4         3         2        ⎞    3 ⎛       4        3       \n",
       "α ⋅⎝32⋅y  + 320⋅y  + 1120⋅y  + 1600⋅y  + 768⋅y⎠ + α ⋅⎝- 160⋅y  - 960⋅y  - 1760\n",
       "\n",
       "  2        ⎞     ⎛     3        2        ⎞\n",
       "⋅y  - 960⋅y⎠ + α⋅⎝120⋅y  + 360⋅y  + 240⋅y⎠"
      ]
     },
     "metadata": {},
     "output_type": "display_data"
    },
    {
     "data": {
      "image/png": "[encoded data removed]",
      "text/latex": [
       "$$\\alpha^{5} \\left(32 y^{5} + 320 y^{4} + 1120 y^{3} + 1600 y^{2} + 768 y\\right) + \\alpha^{3} \\left(- 160 y^{4} - 960 y^{3} - 1760 y^{2} - 960 y\\right) + \\alpha \\left(120 y^{3} + 360 y^{2} + 240 y\\right)$$"
      ],
      "text/plain": [
       " 5 ⎛    5        4         3         2        ⎞    3 ⎛       4        3       \n",
       "α ⋅⎝32⋅y  + 320⋅y  + 1120⋅y  + 1600⋅y  + 768⋅y⎠ + α ⋅⎝- 160⋅y  - 960⋅y  - 1760\n",
       "\n",
       "  2        ⎞     ⎛     3        2        ⎞\n",
       "⋅y  - 960⋅y⎠ + α⋅⎝120⋅y  + 360⋅y  + 240⋅y⎠"
      ]
     },
     "metadata": {},
     "output_type": "display_data"
    }
   ],
   "source": [
    "var('alpha')\n",
    "V=-log(1-2*alpha*z+z**2)\n",
    "f=series(exp(y*V),z,0,6)\n",
    "for i in range(6):\n",
    "    outp=collect(factorial(i)*f.coeff(z,i),alpha)\n",
    "    display(outp,collect(factorial(i)*gegenbauer(i,y,alpha),alpha))\n"
   ]
  },
  {
   "cell_type": "code",
   "execution_count": 11,
   "metadata": {
    "collapsed": false,
    "scrolled": true
   },
   "outputs": [
    {
     "name": "stdout",
     "output_type": "stream",
     "text": [
      "p_0=1\n",
      "p_1=\\frac{x}{2 \\alpha}\n",
      "p_2=x \\left(- \\frac{1}{2 \\alpha} + \\frac{1}{4 \\alpha^{3}}\\right) + \\frac{x^{2}}{4 \\alpha^{2}}\n",
      "p_3=x^{2} \\left(- \\frac{3}{4 \\alpha^{2}} + \\frac{3}{8 \\alpha^{4}}\\right) + x \\left(\\frac{1}{2 \\alpha} - \\frac{3}{4 \\alpha^{3}} + \\frac{3}{8 \\alpha^{5}}\\right) + \\frac{x^{3}}{8 \\alpha^{3}}\n",
      "p_4=x^{3} \\left(- \\frac{3}{4 \\alpha^{3}} + \\frac{3}{8 \\alpha^{5}}\\right) + x^{2} \\left(\\frac{7}{4 \\alpha^{2}} - \\frac{9}{4 \\alpha^{4}} + \\frac{15}{16 \\alpha^{6}}\\right) + x \\left(- \\frac{1}{2 \\alpha} + \\frac{7}{4 \\alpha^{3}} - \\frac{9}{4 \\alpha^{5}} + \\frac{15}{16 \\alpha^{7}}\\right) + \\frac{x^{4}}{16 \\alpha^{4}}\n",
      "p_5=x^{4} \\left(- \\frac{5}{8 \\alpha^{4}} + \\frac{5}{16 \\alpha^{6}}\\right) + x^{3} \\left(\\frac{25}{8 \\alpha^{3}} - \\frac{15}{4 \\alpha^{5}} + \\frac{45}{32 \\alpha^{7}}\\right) + x^{2} \\left(- \\frac{15}{4 \\alpha^{2}} + \\frac{75}{8 \\alpha^{4}} - \\frac{75}{8 \\alpha^{6}} + \\frac{105}{32 \\alpha^{8}}\\right) + x \\left(\\frac{1}{2 \\alpha} - \\frac{15}{4 \\alpha^{3}} + \\frac{75}{8 \\alpha^{5}} - \\frac{75}{8 \\alpha^{7}} + \\frac{105}{32 \\alpha^{9}}\\right) + \\frac{x^{5}}{32 \\alpha^{5}}\n"
     ]
    }
   ],
   "source": [
    "Z=alpha*(1-sqrt(1-alpha**(-2)*(1-exp(-v))))\n",
    "f=series(exp(x*Z),v,0,6)\n",
    "for i in range(6):\n",
    "    outp=latex(collect(factorial(i)*f.coeff(v,i),x))\n",
    "    print(\"p_\"+str(i)+\"=\"+outp)\n"
   ]
  },
  {
   "cell_type": "code",
   "execution_count": 12,
   "metadata": {
    "collapsed": false
   },
   "outputs": [
    {
     "name": "stdout",
     "output_type": "stream",
     "text": [
      "\\alpha \\left(- \\sqrt{1 - \\frac{1}{\\alpha^{2}} \\left(1 - e^{- v}\\right)} + 1\\right)\n"
     ]
    }
   ],
   "source": [
    "print(latex(Z))"
   ]
  },
  {
   "cell_type": "code",
   "execution_count": 13,
   "metadata": {
    "collapsed": false
   },
   "outputs": [],
   "source": [
    "p=[]\n",
    "f=series(exp(x*asinh(v)),v,0,8)\n",
    "for i in range(8):\n",
    "    p.append(factorial(i)*f.coeff(v,i))\n"
   ]
  },
  {
   "cell_type": "code",
   "execution_count": 14,
   "metadata": {
    "collapsed": false
   },
   "outputs": [
    {
     "data": {
      "image/png": "[encoded data removed]",
      "text/latex": [
       "$$x^{2} \\left(x - 4\\right) \\left(x - 2\\right) \\left(x + 2\\right) \\left(x + 4\\right)$$"
      ],
      "text/plain": [
       " 2                                \n",
       "x ⋅(x - 4)⋅(x - 2)⋅(x + 2)⋅(x + 4)"
      ]
     },
     "execution_count": 14,
     "metadata": {},
     "output_type": "execute_result"
    }
   ],
   "source": [
    "factor (p[6])"
   ]
  },
  {
   "cell_type": "code",
   "execution_count": 33,
   "metadata": {
    "collapsed": false
   },
   "outputs": [],
   "source": [
    "p=[]\n",
    "f=series(exp(x*(exp(v)-1)),v,0,9)\n",
    "for i in range(9):\n",
    "    p.append(factorial(i)*f.coeff(v,i))\n"
   ]
  },
  {
   "cell_type": "code",
   "execution_count": 34,
   "metadata": {
    "collapsed": false
   },
   "outputs": [],
   "source": [
    "q=[]\n",
    "f=series(exp(x*(1-exp(-v))),v,0,9)\n",
    "for i in range(9):\n",
    "    q.append(factorial(i)*f.coeff(v,i))\n"
   ]
  },
  {
   "cell_type": "code",
   "execution_count": 35,
   "metadata": {
    "collapsed": false
   },
   "outputs": [
    {
     "data": {
      "image/png": "[encoded data removed]",
      "text/latex": [
       "$$\\left [ 1, \\quad x, \\quad x^{2} + x, \\quad x^{3} + 3 x^{2} + x, \\quad x^{4} + 6 x^{3} + 7 x^{2} + x, \\quad x^{5} + 10 x^{4} + 25 x^{3} + 15 x^{2} + x, \\quad x^{6} + 15 x^{5} + 65 x^{4} + 90 x^{3} + 31 x^{2} + x, \\quad x^{7} + 21 x^{6} + 140 x^{5} + 350 x^{4} + 301 x^{3} + 63 x^{2} + x, \\quad x^{8} + 28 x^{7} + 266 x^{6} + 1050 x^{5} + 1701 x^{4} + 966 x^{3} + 127 x^{2} + x\\right ]$$"
      ],
      "text/plain": [
       "⎡       2       3      2       4      3      2       5       4       3       2\n",
       "⎣1, x, x  + x, x  + 3⋅x  + x, x  + 6⋅x  + 7⋅x  + x, x  + 10⋅x  + 25⋅x  + 15⋅x \n",
       "\n",
       "       6       5       4       3       2       7       6        5        4    \n",
       " + x, x  + 15⋅x  + 65⋅x  + 90⋅x  + 31⋅x  + x, x  + 21⋅x  + 140⋅x  + 350⋅x  + 3\n",
       "\n",
       "    3       2       8       7        6         5         4        3        2  \n",
       "01⋅x  + 63⋅x  + x, x  + 28⋅x  + 266⋅x  + 1050⋅x  + 1701⋅x  + 966⋅x  + 127⋅x  +\n",
       "\n",
       "  ⎤\n",
       " x⎦"
      ]
     },
     "execution_count": 35,
     "metadata": {},
     "output_type": "execute_result"
    }
   ],
   "source": [
    "p"
   ]
  },
  {
   "cell_type": "code",
   "execution_count": 36,
   "metadata": {
    "collapsed": false
   },
   "outputs": [
    {
     "data": {
      "image/png": "[encoded data removed]",
      "text/latex": [
       "$$\\left [ 1, \\quad x, \\quad x^{2} - x, \\quad x^{3} - 3 x^{2} + x, \\quad x^{4} - 6 x^{3} + 7 x^{2} - x, \\quad x^{5} - 10 x^{4} + 25 x^{3} - 15 x^{2} + x, \\quad x^{6} - 15 x^{5} + 65 x^{4} - 90 x^{3} + 31 x^{2} - x, \\quad x^{7} - 21 x^{6} + 140 x^{5} - 350 x^{4} + 301 x^{3} - 63 x^{2} + x, \\quad x^{8} - 28 x^{7} + 266 x^{6} - 1050 x^{5} + 1701 x^{4} - 966 x^{3} + 127 x^{2} - x\\right ]$$"
      ],
      "text/plain": [
       "⎡       2       3      2       4      3      2       5       4       3       2\n",
       "⎣1, x, x  - x, x  - 3⋅x  + x, x  - 6⋅x  + 7⋅x  - x, x  - 10⋅x  + 25⋅x  - 15⋅x \n",
       "\n",
       "       6       5       4       3       2       7       6        5        4    \n",
       " + x, x  - 15⋅x  + 65⋅x  - 90⋅x  + 31⋅x  - x, x  - 21⋅x  + 140⋅x  - 350⋅x  + 3\n",
       "\n",
       "    3       2       8       7        6         5         4        3        2  \n",
       "01⋅x  - 63⋅x  + x, x  - 28⋅x  + 266⋅x  - 1050⋅x  + 1701⋅x  - 966⋅x  + 127⋅x  -\n",
       "\n",
       "  ⎤\n",
       " x⎦"
      ]
     },
     "execution_count": 36,
     "metadata": {},
     "output_type": "execute_result"
    }
   ],
   "source": [
    "q"
   ]
  },
  {
   "cell_type": "code",
   "execution_count": 37,
   "metadata": {
    "collapsed": false
   },
   "outputs": [],
   "source": [
    "pp=[p[i].subs(x,t/2) for i in range(len(p))]\n",
    "qq=[q[i].subs(x,t/2) for i in range(len(p))]"
   ]
  },
  {
   "cell_type": "code",
   "execution_count": 38,
   "metadata": {
    "collapsed": false
   },
   "outputs": [
    {
     "data": {
      "image/png": "[encoded data removed]",
      "text/latex": [
       "$$t^{2} \\left(t^{6} + 56 t^{4} + 336 t^{2} + 64\\right)$$"
      ],
      "text/plain": [
       " 2 ⎛ 6       4        2     ⎞\n",
       "t ⋅⎝t  + 56⋅t  + 336⋅t  + 64⎠"
      ]
     },
     "execution_count": 38,
     "metadata": {},
     "output_type": "execute_result"
    }
   ],
   "source": [
    "n=8\n",
    "simplify([sum(simplify(binomial(n,i)*pp[n-i]*qq[i]) for i in range(n+1))][0])"
   ]
  },
  {
   "cell_type": "code",
   "execution_count": 39,
   "metadata": {
    "collapsed": false
   },
   "outputs": [
    {
     "data": {
      "image/png": "[encoded data removed]",
      "text/latex": [
       "$$\\frac{x}{x^{2} + 1}$$"
      ],
      "text/plain": [
       "  x   \n",
       "──────\n",
       " 2    \n",
       "x  + 1"
      ]
     },
     "execution_count": 39,
     "metadata": {},
     "output_type": "execute_result"
    }
   ],
   "source": [
    "f=asinh(x)\n",
    "F=diff(f,x)\n",
    "Z=-diff(log(F),x);\n",
    "simplify(Z)"
   ]
  },
  {
   "cell_type": "code",
   "execution_count": 40,
   "metadata": {
    "collapsed": false
   },
   "outputs": [
    {
     "data": {
      "image/png": "[encoded data removed]",
      "text/latex": [
       "$$- \\tanh{\\left (x \\right )} \\operatorname{sech}{\\left (x \\right )}$$"
      ],
      "text/plain": [
       "-tanh(x)⋅sech(x)"
      ]
     },
     "execution_count": 40,
     "metadata": {},
     "output_type": "execute_result"
    }
   ],
   "source": [
    "diff(sech(x),x)"
   ]
  },
  {
   "cell_type": "code",
   "execution_count": 41,
   "metadata": {
    "collapsed": false
   },
   "outputs": [
    {
     "data": {
      "image/png": "[encoded data removed]",
      "text/latex": [
       "$$1 + v x + v^{2} \\left(\\frac{x^{2}}{2} + \\frac{x}{2}\\right) + v^{3} \\left(\\frac{x^{3}}{6} + \\frac{x^{2}}{2} + \\frac{x}{6}\\right) + v^{4} \\left(\\frac{x^{4}}{24} + \\frac{x^{3}}{4} + \\frac{7 x^{2}}{24} + \\frac{x}{24}\\right) + v^{5} \\left(\\frac{x^{5}}{120} + \\frac{x^{4}}{12} + \\frac{5 x^{3}}{24} + \\frac{x^{2}}{8} + \\frac{x}{120}\\right) + v^{6} \\left(\\frac{x^{6}}{720} + \\frac{x^{5}}{48} + \\frac{13 x^{4}}{144} + \\frac{x^{3}}{8} + \\frac{31 x^{2}}{720} + \\frac{x}{720}\\right) + v^{7} \\left(\\frac{x^{7}}{5040} + \\frac{x^{6}}{240} + \\frac{x^{5}}{36} + \\frac{5 x^{4}}{72} + \\frac{43 x^{3}}{720} + \\frac{x^{2}}{80} + \\frac{x}{5040}\\right) + \\mathcal{O}\\left(v^{8}\\right)$$"
      ],
      "text/plain": [
       "             ⎛ 2    ⎞      ⎛ 3    2    ⎞      ⎛ 4    3      2     ⎞      ⎛  5 \n",
       "           2 ⎜x    x⎟    3 ⎜x    x    x⎟    4 ⎜x    x    7⋅x    x ⎟    5 ⎜ x  \n",
       "1 + v⋅x + v ⋅⎜── + ─⎟ + v ⋅⎜── + ── + ─⎟ + v ⋅⎜── + ── + ──── + ──⎟ + v ⋅⎜─── \n",
       "             ⎝2    2⎠      ⎝6    2    6⎠      ⎝24   4     24    24⎠      ⎝120 \n",
       "\n",
       "   4      3    2      ⎞      ⎛  6    5       4    3       2      ⎞      ⎛  7  \n",
       "  x    5⋅x    x     x ⎟    6 ⎜ x    x    13⋅x    x    31⋅x     x ⎟    7 ⎜ x   \n",
       "+ ── + ──── + ── + ───⎟ + v ⋅⎜─── + ── + ───── + ── + ───── + ───⎟ + v ⋅⎜──── \n",
       "  12    24    8    120⎠      ⎝720   48    144    8     720    720⎠      ⎝5040 \n",
       "\n",
       "    6    5      4       3    2       ⎞        \n",
       "   x    x    5⋅x    43⋅x    x     x  ⎟    ⎛ 8⎞\n",
       "+ ─── + ── + ──── + ───── + ── + ────⎟ + O⎝v ⎠\n",
       "  240   36    72     720    80   5040⎠        "
      ]
     },
     "execution_count": 41,
     "metadata": {},
     "output_type": "execute_result"
    }
   ],
   "source": [
    "f=series(exp(x*(exp(v)-1)),v,0,8);f"
   ]
  },
  {
   "cell_type": "code",
   "execution_count": 24,
   "metadata": {
    "collapsed": false
   },
   "outputs": [
    {
     "data": {
      "image/png": "[encoded data removed]",
      "text/latex": [
       "$$\\alpha^{3} \\left(\\frac{4 x^{3}}{3} + 4 x^{2} + \\frac{8 x}{3}\\right) + \\alpha \\left(- 2 x^{2} - 2 x\\right)$$"
      ],
      "text/plain": [
       "   ⎛   3             ⎞                   \n",
       " 3 ⎜4⋅x       2   8⋅x⎟     ⎛     2      ⎞\n",
       "α ⋅⎜──── + 4⋅x  + ───⎟ + α⋅⎝- 2⋅x  - 2⋅x⎠\n",
       "   ⎝ 3             3 ⎠                   "
      ]
     },
     "execution_count": 24,
     "metadata": {},
     "output_type": "execute_result"
    }
   ],
   "source": [
    "gegenbauer(3,x,alpha)"
   ]
  },
  {
   "cell_type": "code",
   "execution_count": 25,
   "metadata": {
    "collapsed": false
   },
   "outputs": [
    {
     "data": {
      "image/png": "[encoded data removed]",
      "text/latex": [
       "$$\\left [ \\left[\\begin{matrix}0\\end{matrix}\\right], \\quad \\left[\\begin{matrix}1 & 0\\\\0 & 0\\end{matrix}\\right], \\quad \\left[\\begin{matrix}2 & 0 & 0\\\\0 & 1 & 0\\\\0 & 0 & 0\\end{matrix}\\right], \\quad \\left[\\begin{matrix}3 & 0 & 0 & 0\\\\0 & 2 & 0 & 0\\\\0 & 0 & 1 & 0\\\\0 & 0 & 0 & 0\\end{matrix}\\right], \\quad \\left[\\begin{matrix}4 & 0 & 0 & 0 & 0\\\\0 & 3 & 0 & 0 & 0\\\\0 & 0 & 2 & 0 & 0\\\\0 & 0 & 0 & 1 & 0\\\\0 & 0 & 0 & 0 & 0\\end{matrix}\\right]\\right ]$$"
      ],
      "text/plain": [
       "⎡[0], ⎡1  0⎤, ⎡2  0  0⎤, ⎡3  0  0  0⎤, ⎡4  0  0  0  0⎤⎤\n",
       "⎢     ⎢    ⎥  ⎢       ⎥  ⎢          ⎥  ⎢             ⎥⎥\n",
       "⎢     ⎣0  0⎦  ⎢0  1  0⎥  ⎢0  2  0  0⎥  ⎢0  3  0  0  0⎥⎥\n",
       "⎢             ⎢       ⎥  ⎢          ⎥  ⎢             ⎥⎥\n",
       "⎢             ⎣0  0  0⎦  ⎢0  0  1  0⎥  ⎢0  0  2  0  0⎥⎥\n",
       "⎢                        ⎢          ⎥  ⎢             ⎥⎥\n",
       "⎢                        ⎣0  0  0  0⎦  ⎢0  0  0  1  0⎥⎥\n",
       "⎢                                      ⎢             ⎥⎥\n",
       "⎣                                      ⎣0  0  0  0  0⎦⎦"
      ]
     },
     "metadata": {},
     "output_type": "display_data"
    },
    {
     "data": {
      "image/png": "[encoded data removed]",
      "text/latex": [
       "$$\\left [ \\left[\\begin{matrix}0\\end{matrix}\\right], \\quad \\left[\\begin{matrix}0 & 0\\\\0 & 1\\end{matrix}\\right], \\quad \\left[\\begin{matrix}0 & 0 & 0\\\\0 & 1 & 0\\\\0 & 0 & 2\\end{matrix}\\right], \\quad \\left[\\begin{matrix}0 & 0 & 0 & 0\\\\0 & 1 & 0 & 0\\\\0 & 0 & 2 & 0\\\\0 & 0 & 0 & 3\\end{matrix}\\right], \\quad \\left[\\begin{matrix}0 & 0 & 0 & 0 & 0\\\\0 & 1 & 0 & 0 & 0\\\\0 & 0 & 2 & 0 & 0\\\\0 & 0 & 0 & 3 & 0\\\\0 & 0 & 0 & 0 & 4\\end{matrix}\\right]\\right ]$$"
      ],
      "text/plain": [
       "⎡[0], ⎡0  0⎤, ⎡0  0  0⎤, ⎡0  0  0  0⎤, ⎡0  0  0  0  0⎤⎤\n",
       "⎢     ⎢    ⎥  ⎢       ⎥  ⎢          ⎥  ⎢             ⎥⎥\n",
       "⎢     ⎣0  1⎦  ⎢0  1  0⎥  ⎢0  1  0  0⎥  ⎢0  1  0  0  0⎥⎥\n",
       "⎢             ⎢       ⎥  ⎢          ⎥  ⎢             ⎥⎥\n",
       "⎢             ⎣0  0  2⎦  ⎢0  0  2  0⎥  ⎢0  0  2  0  0⎥⎥\n",
       "⎢                        ⎢          ⎥  ⎢             ⎥⎥\n",
       "⎢                        ⎣0  0  0  3⎦  ⎢0  0  0  3  0⎥⎥\n",
       "⎢                                      ⎢             ⎥⎥\n",
       "⎣                                      ⎣0  0  0  0  4⎦⎦"
      ]
     },
     "execution_count": 25,
     "metadata": {},
     "output_type": "execute_result"
    }
   ],
   "source": [
    "B=Matrix(2,2,[1,0,0,0])\n",
    "C=Matrix(2,2,[0,0,0,1])\n",
    "display([GAM(B,i) for i in range(5)])\n",
    "[GAM(C,i) for i in range(5)]"
   ]
  },
  {
   "cell_type": "code",
   "execution_count": 26,
   "metadata": {
    "collapsed": false
   },
   "outputs": [
    {
     "data": {
      "image/png": "[encoded data removed]",
      "text/latex": [
       "$$\\left [ \\left[\\begin{matrix}0\\end{matrix}\\right], \\quad \\left[\\begin{matrix}0 & 1\\\\0 & 0\\end{matrix}\\right], \\quad \\left[\\begin{matrix}0 & 2 & 0\\\\0 & 0 & 1\\\\0 & 0 & 0\\end{matrix}\\right], \\quad \\left[\\begin{matrix}0 & 3 & 0 & 0\\\\0 & 0 & 2 & 0\\\\0 & 0 & 0 & 1\\\\0 & 0 & 0 & 0\\end{matrix}\\right], \\quad \\left[\\begin{matrix}0 & 4 & 0 & 0 & 0\\\\0 & 0 & 3 & 0 & 0\\\\0 & 0 & 0 & 2 & 0\\\\0 & 0 & 0 & 0 & 1\\\\0 & 0 & 0 & 0 & 0\\end{matrix}\\right]\\right ]$$"
      ],
      "text/plain": [
       "⎡[0], ⎡0  1⎤, ⎡0  2  0⎤, ⎡0  3  0  0⎤, ⎡0  4  0  0  0⎤⎤\n",
       "⎢     ⎢    ⎥  ⎢       ⎥  ⎢          ⎥  ⎢             ⎥⎥\n",
       "⎢     ⎣0  0⎦  ⎢0  0  1⎥  ⎢0  0  2  0⎥  ⎢0  0  3  0  0⎥⎥\n",
       "⎢             ⎢       ⎥  ⎢          ⎥  ⎢             ⎥⎥\n",
       "⎢             ⎣0  0  0⎦  ⎢0  0  0  1⎥  ⎢0  0  0  2  0⎥⎥\n",
       "⎢                        ⎢          ⎥  ⎢             ⎥⎥\n",
       "⎢                        ⎣0  0  0  0⎦  ⎢0  0  0  0  1⎥⎥\n",
       "⎢                                      ⎢             ⎥⎥\n",
       "⎣                                      ⎣0  0  0  0  0⎦⎦"
      ]
     },
     "metadata": {},
     "output_type": "display_data"
    },
    {
     "data": {
      "image/png": "[encoded data removed]",
      "text/latex": [
       "$$\\left [ \\left[\\begin{matrix}0\\end{matrix}\\right], \\quad \\left[\\begin{matrix}0 & 0\\\\1 & 0\\end{matrix}\\right], \\quad \\left[\\begin{matrix}0 & 0 & 0\\\\1 & 0 & 0\\\\0 & 2 & 0\\end{matrix}\\right], \\quad \\left[\\begin{matrix}0 & 0 & 0 & 0\\\\1 & 0 & 0 & 0\\\\0 & 2 & 0 & 0\\\\0 & 0 & 3 & 0\\end{matrix}\\right], \\quad \\left[\\begin{matrix}0 & 0 & 0 & 0 & 0\\\\1 & 0 & 0 & 0 & 0\\\\0 & 2 & 0 & 0 & 0\\\\0 & 0 & 3 & 0 & 0\\\\0 & 0 & 0 & 4 & 0\\end{matrix}\\right]\\right ]$$"
      ],
      "text/plain": [
       "⎡[0], ⎡0  0⎤, ⎡0  0  0⎤, ⎡0  0  0  0⎤, ⎡0  0  0  0  0⎤⎤\n",
       "⎢     ⎢    ⎥  ⎢       ⎥  ⎢          ⎥  ⎢             ⎥⎥\n",
       "⎢     ⎣1  0⎦  ⎢1  0  0⎥  ⎢1  0  0  0⎥  ⎢1  0  0  0  0⎥⎥\n",
       "⎢             ⎢       ⎥  ⎢          ⎥  ⎢             ⎥⎥\n",
       "⎢             ⎣0  2  0⎦  ⎢0  2  0  0⎥  ⎢0  2  0  0  0⎥⎥\n",
       "⎢                        ⎢          ⎥  ⎢             ⎥⎥\n",
       "⎢                        ⎣0  0  3  0⎦  ⎢0  0  3  0  0⎥⎥\n",
       "⎢                                      ⎢             ⎥⎥\n",
       "⎣                                      ⎣0  0  0  4  0⎦⎦"
      ]
     },
     "execution_count": 26,
     "metadata": {},
     "output_type": "execute_result"
    }
   ],
   "source": [
    "B=Matrix(2,2,[0,1,0,0])\n",
    "C=Matrix(2,2,[0,0,1,0])\n",
    "display([GAM(B,i) for i in range(5)])\n",
    "[GAM(C,i) for i in range(5)]"
   ]
  },
  {
   "cell_type": "markdown",
   "metadata": {
    "collapsed": true
   },
   "source": [
    " Hello. *what* is it?\n",
    " * First\n",
    " * Second\n",
    " "
   ]
  },
  {
   "cell_type": "code",
   "execution_count": 27,
   "metadata": {
    "collapsed": false
   },
   "outputs": [
    {
     "data": {
      "image/png": "[encoded data removed]",
      "text/latex": [
       "$$e$$"
      ],
      "text/plain": [
       "ℯ"
      ]
     },
     "execution_count": 27,
     "metadata": {},
     "output_type": "execute_result"
    }
   ],
   "source": [
    "exp(1)"
   ]
  },
  {
   "cell_type": "code",
   "execution_count": null,
   "metadata": {
    "collapsed": true
   },
   "outputs": [],
   "source": []
  }
 ],
 "metadata": {
  "kernelspec": {
   "display_name": "Python 3",
   "language": "python",
   "name": "python3"
  },
  "language_info": {
   "codemirror_mode": {
    "name": "ipython",
    "version": 3
   },
   "file_extension": ".py",
   "mimetype": "text/x-python",
   "name": "python",
   "nbconvert_exporter": "python",
   "pygments_lexer": "ipython3",
   "version": "3.4.5"
  }
 },
 "nbformat": 4,
 "nbformat_minor": 0
}
