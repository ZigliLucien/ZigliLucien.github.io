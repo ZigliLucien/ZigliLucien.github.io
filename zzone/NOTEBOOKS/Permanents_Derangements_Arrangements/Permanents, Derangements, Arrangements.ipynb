{
 "cells": [
  {
   "cell_type": "code",
   "execution_count": 40,
   "metadata": {
    "collapsed": true
   },
   "outputs": [],
   "source": [
    "from sympy import *\n",
    "from sympy.utilities.iterables import subsets\n",
    "init_printing()\n",
    "from IPython.display import *"
   ]
  },
  {
   "cell_type": "code",
   "execution_count": 41,
   "metadata": {
    "collapsed": false
   },
   "outputs": [
    {
     "data": {
      "image/png": "[encoded data removed]",
      "text/latex": [
       "$$\\alpha$$"
      ],
      "text/plain": [
       "α"
      ]
     },
     "execution_count": 41,
     "metadata": {},
     "output_type": "execute_result"
    }
   ],
   "source": [
    "s,t,x,u,v=symbols('s t x u v')\n",
    "var('alpha')"
   ]
  },
  {
   "cell_type": "code",
   "execution_count": 42,
   "metadata": {
    "collapsed": false
   },
   "outputs": [],
   "source": [
    "def perm(A):\n",
    "    if A.shape==(1,1):\n",
    "        return A[0,0]\n",
    "    else:\n",
    "        n=A.shape[0]\n",
    "        return sum([A[0,i]*perm(A.minorMatrix(0,i)) for i in range(n)])"
   ]
  },
  {
   "cell_type": "code",
   "execution_count": 43,
   "metadata": {
    "collapsed": true
   },
   "outputs": [],
   "source": [
    "def derange(n):\n",
    "    if n==0:\n",
    "        return 1\n",
    "    else:\n",
    "        return n*derange(n-1)+(-1)**n"
   ]
  },
  {
   "cell_type": "code",
   "execution_count": 44,
   "metadata": {
    "collapsed": false
   },
   "outputs": [
    {
     "data": {
      "image/png": "[encoded data removed]",
      "text/latex": [
       "$$s + t$$"
      ],
      "text/plain": [
       "s + t"
      ]
     },
     "metadata": {},
     "output_type": "display_data"
    },
    {
     "data": {
      "image/png": "[encoded data removed]",
      "text/latex": [
       "$$s^{2} + 2 s t + 2 t^{2}$$"
      ],
      "text/plain": [
       " 2              2\n",
       "s  + 2⋅s⋅t + 2⋅t "
      ]
     },
     "metadata": {},
     "output_type": "display_data"
    },
    {
     "data": {
      "image/png": "[encoded data removed]",
      "text/latex": [
       "$$s^{3} + 3 s^{2} t + 6 s t^{2} + 6 t^{3}$$"
      ],
      "text/plain": [
       " 3      2          2      3\n",
       "s  + 3⋅s ⋅t + 6⋅s⋅t  + 6⋅t "
      ]
     },
     "metadata": {},
     "output_type": "display_data"
    },
    {
     "data": {
      "image/png": "[encoded data removed]",
      "text/latex": [
       "$$s^{4} + 4 s^{3} t + 12 s^{2} t^{2} + 24 s t^{3} + 24 t^{4}$$"
      ],
      "text/plain": [
       " 4      3         2  2         3       4\n",
       "s  + 4⋅s ⋅t + 12⋅s ⋅t  + 24⋅s⋅t  + 24⋅t "
      ]
     },
     "metadata": {},
     "output_type": "display_data"
    },
    {
     "data": {
      "image/png": "[encoded data removed]",
      "text/latex": [
       "$$s^{5} + 5 s^{4} t + 20 s^{3} t^{2} + 60 s^{2} t^{3} + 120 s t^{4} + 120 t^{5}$$"
      ],
      "text/plain": [
       " 5      4         3  2       2  3          4        5\n",
       "s  + 5⋅s ⋅t + 20⋅s ⋅t  + 60⋅s ⋅t  + 120⋅s⋅t  + 120⋅t "
      ]
     },
     "metadata": {},
     "output_type": "display_data"
    }
   ],
   "source": [
    "for d in range(1,6):\n",
    "    A=t*ones(d,d)+s*eye(d)    \n",
    "    display(expand(simplify(perm(A))))"
   ]
  },
  {
   "cell_type": "code",
   "execution_count": 45,
   "metadata": {
    "collapsed": false
   },
   "outputs": [
    {
     "data": {
      "image/png": "[encoded data removed]",
      "text/latex": [
       "$$\\left [ 0, \\quad 1, \\quad 2, \\quad 9, \\quad 44, \\quad 265, \\quad 1854, \\quad 14833\\right ]$$"
      ],
      "text/plain": [
       "[0, 1, 2, 9, 44, 265, 1854, 14833]"
      ]
     },
     "execution_count": 45,
     "metadata": {},
     "output_type": "execute_result"
    }
   ],
   "source": [
    "[perm(ones(d,d)-eye(d)) for d in range(1,9)]"
   ]
  },
  {
   "cell_type": "code",
   "execution_count": 46,
   "metadata": {
    "collapsed": false
   },
   "outputs": [
    {
     "data": {
      "image/png": "[encoded data removed]",
      "text/latex": [
       "$$\\left [ 1, \\quad 0, \\quad 1, \\quad 2, \\quad 9, \\quad 44, \\quad 265, \\quad 1854, \\quad 14833, \\quad 133496, \\quad 1334961, \\quad 14684570, \\quad 176214841, \\quad 2290792932, \\quad 32071101049, \\quad 481066515734, \\quad 7697064251745, \\quad 130850092279664, \\quad 2355301661033953, \\quad 44750731559645106, \\quad 895014631192902121\\right ]$$"
      ],
      "text/plain": [
       "[1, 0, 1, 2, 9, 44, 265, 1854, 14833, 133496, 1334961, 14684570, 176214841, 22\n",
       "90792932, 32071101049, 481066515734, 7697064251745, 130850092279664, 235530166\n",
       "1033953, 44750731559645106, 895014631192902121]"
      ]
     },
     "execution_count": 46,
     "metadata": {},
     "output_type": "execute_result"
    }
   ],
   "source": [
    "y=[derange(i) for i in range(21)]\n",
    "y"
   ]
  },
  {
   "cell_type": "code",
   "execution_count": 47,
   "metadata": {
    "collapsed": true
   },
   "outputs": [],
   "source": [
    "def arrange(n):\n",
    "    if n==0:\n",
    "        return 1\n",
    "    else:\n",
    "        return n*arrange(n-1)+1"
   ]
  },
  {
   "cell_type": "code",
   "execution_count": 48,
   "metadata": {
    "collapsed": false
   },
   "outputs": [
    {
     "data": {
      "image/png": "[encoded data removed]",
      "text/latex": [
       "$$\\left [ 2, \\quad 5, \\quad 16, \\quad 65, \\quad 326, \\quad 1957, \\quad 13700, \\quad 109601\\right ]$$"
      ],
      "text/plain": [
       "[2, 5, 16, 65, 326, 1957, 13700, 109601]"
      ]
     },
     "execution_count": 48,
     "metadata": {},
     "output_type": "execute_result"
    }
   ],
   "source": [
    "[perm(ones(d,d)+eye(d)) for d in range(1,9)]"
   ]
  },
  {
   "cell_type": "code",
   "execution_count": 49,
   "metadata": {
    "collapsed": false
   },
   "outputs": [
    {
     "data": {
      "image/png": "[encoded data removed]",
      "text/latex": [
       "$$\\left [ 1, \\quad 2, \\quad 5, \\quad 16, \\quad 65, \\quad 326, \\quad 1957, \\quad 13700, \\quad 109601, \\quad 986410, \\quad 9864101, \\quad 108505112, \\quad 1302061345, \\quad 16926797486, \\quad 236975164805, \\quad 3554627472076, \\quad 56874039553217, \\quad 966858672404690, \\quad 17403456103284421, \\quad 330665665962404000, \\quad 6613313319248080001\\right ]$$"
      ],
      "text/plain": [
       "[1, 2, 5, 16, 65, 326, 1957, 13700, 109601, 986410, 9864101, 108505112, 130206\n",
       "1345, 16926797486, 236975164805, 3554627472076, 56874039553217, 96685867240469\n",
       "0, 17403456103284421, 330665665962404000, 6613313319248080001]"
      ]
     },
     "execution_count": 49,
     "metadata": {},
     "output_type": "execute_result"
    }
   ],
   "source": [
    "y=[arrange(i) for i in range(21)]\n",
    "y"
   ]
  },
  {
   "cell_type": "code",
   "execution_count": 50,
   "metadata": {
    "collapsed": false
   },
   "outputs": [],
   "source": [
    "def h(a,b,s,t):\n",
    "    return integrate(exp(-x)*(s+t*x)**a*(t*x)**b,(x,0,oo))"
   ]
  },
  {
   "cell_type": "code",
   "execution_count": 51,
   "metadata": {
    "collapsed": false
   },
   "outputs": [
    {
     "data": {
      "image/png": "[encoded data removed]",
      "text/latex": [
       "$$\\left [ 1, \\quad 2, \\quad 5, \\quad 16, \\quad 65, \\quad 326, \\quad 1957, \\quad 13700, \\quad 109601, \\quad 986410, \\quad 9864101, \\quad 108505112, \\quad 1302061345, \\quad 16926797486, \\quad 236975164805, \\quad 3554627472076, \\quad 56874039553217, \\quad 966858672404690, \\quad 17403456103284421, \\quad 330665665962404000, \\quad 6613313319248080001\\right ]$$"
      ],
      "text/plain": [
       "[1, 2, 5, 16, 65, 326, 1957, 13700, 109601, 986410, 9864101, 108505112, 130206\n",
       "1345, 16926797486, 236975164805, 3554627472076, 56874039553217, 96685867240469\n",
       "0, 17403456103284421, 330665665962404000, 6613313319248080001]"
      ]
     },
     "execution_count": 51,
     "metadata": {},
     "output_type": "execute_result"
    }
   ],
   "source": [
    "# This gives arrangements\n",
    "[h(k,0,1,1) for k in range(21)]"
   ]
  },
  {
   "cell_type": "code",
   "execution_count": 52,
   "metadata": {
    "collapsed": false
   },
   "outputs": [
    {
     "data": {
      "image/png": "[encoded data removed]",
      "text/latex": [
       "$$\\left [ 1, \\quad 0, \\quad 1, \\quad 2, \\quad 9, \\quad 44, \\quad 265, \\quad 1854, \\quad 14833, \\quad 133496, \\quad 1334961, \\quad 14684570, \\quad 176214841, \\quad 2290792932, \\quad 32071101049, \\quad 481066515734, \\quad 7697064251745, \\quad 130850092279664, \\quad 2355301661033953, \\quad 44750731559645106, \\quad 895014631192902121\\right ]$$"
      ],
      "text/plain": [
       "[1, 0, 1, 2, 9, 44, 265, 1854, 14833, 133496, 1334961, 14684570, 176214841, 22\n",
       "90792932, 32071101049, 481066515734, 7697064251745, 130850092279664, 235530166\n",
       "1033953, 44750731559645106, 895014631192902121]"
      ]
     },
     "execution_count": 52,
     "metadata": {},
     "output_type": "execute_result"
    }
   ],
   "source": [
    "# This give derangements\n",
    "[h(k,0,-1,1) for k in range(21)]"
   ]
  },
  {
   "cell_type": "code",
   "execution_count": 53,
   "metadata": {
    "collapsed": false
   },
   "outputs": [
    {
     "data": {
      "image/png": "[encoded data removed]",
      "text/latex": [
       "$$\\left [ \\left ( 0, \\quad 1\\right ), \\quad \\left ( 0, \\quad 2\\right ), \\quad \\left ( 0, \\quad 3\\right ), \\quad \\left ( 0, \\quad 4\\right ), \\quad \\left ( 1, \\quad 2\\right ), \\quad \\left ( 1, \\quad 3\\right ), \\quad \\left ( 1, \\quad 4\\right ), \\quad \\left ( 2, \\quad 3\\right ), \\quad \\left ( 2, \\quad 4\\right ), \\quad \\left ( 3, \\quad 4\\right )\\right ]$$"
      ],
      "text/plain": [
       "[(0, 1), (0, 2), (0, 3), (0, 4), (1, 2), (1, 3), (1, 4), (2, 3), (2, 4), (3, 4\n",
       ")]"
      ]
     },
     "execution_count": 53,
     "metadata": {},
     "output_type": "execute_result"
    }
   ],
   "source": [
    "k=2\n",
    "Z=list(subsets(range(d),k))\n",
    "Z"
   ]
  },
  {
   "cell_type": "code",
   "execution_count": 54,
   "metadata": {
    "collapsed": false
   },
   "outputs": [],
   "source": [
    "def zpow(E,k):\n",
    "    d=E.shape[0]\n",
    "    N=binomial(d,k)\n",
    "    Z=list(subsets(range(d),k))\n",
    "    return Matrix(N,N,lambda i,j: expand(perm(E.extract(Z[i],Z[j]))))"
   ]
  },
  {
   "cell_type": "code",
   "execution_count": 55,
   "metadata": {
    "collapsed": false
   },
   "outputs": [
    {
     "data": {
      "image/png": "[encoded data removed]",
      "text/latex": [
       "$$\\left[\\begin{matrix}s + t & t & t & t\\\\t & s + t & t & t\\\\t & t & s + t & t\\\\t & t & t & s + t\\end{matrix}\\right]$$"
      ],
      "text/plain": [
       "⎡s + t    t      t      t  ⎤\n",
       "⎢                          ⎥\n",
       "⎢  t    s + t    t      t  ⎥\n",
       "⎢                          ⎥\n",
       "⎢  t      t    s + t    t  ⎥\n",
       "⎢                          ⎥\n",
       "⎣  t      t      t    s + t⎦"
      ]
     },
     "execution_count": 55,
     "metadata": {},
     "output_type": "execute_result"
    }
   ],
   "source": [
    "d=4\n",
    "A=t*ones(d,d)+s*eye(d) \n",
    "A"
   ]
  },
  {
   "cell_type": "code",
   "execution_count": 56,
   "metadata": {
    "collapsed": false
   },
   "outputs": [
    {
     "data": {
      "image/png": "[encoded data removed]",
      "text/latex": [
       "$$\\left[\\begin{matrix}s^{2} + 2 s t + 2 t^{2} & s t + 2 t^{2} & s t + 2 t^{2} & s t + 2 t^{2} & s t + 2 t^{2} & 2 t^{2}\\\\s t + 2 t^{2} & s^{2} + 2 s t + 2 t^{2} & s t + 2 t^{2} & s t + 2 t^{2} & 2 t^{2} & s t + 2 t^{2}\\\\s t + 2 t^{2} & s t + 2 t^{2} & s^{2} + 2 s t + 2 t^{2} & 2 t^{2} & s t + 2 t^{2} & s t + 2 t^{2}\\\\s t + 2 t^{2} & s t + 2 t^{2} & 2 t^{2} & s^{2} + 2 s t + 2 t^{2} & s t + 2 t^{2} & s t + 2 t^{2}\\\\s t + 2 t^{2} & 2 t^{2} & s t + 2 t^{2} & s t + 2 t^{2} & s^{2} + 2 s t + 2 t^{2} & s t + 2 t^{2}\\\\2 t^{2} & s t + 2 t^{2} & s t + 2 t^{2} & s t + 2 t^{2} & s t + 2 t^{2} & s^{2} + 2 s t + 2 t^{2}\\end{matrix}\\right]$$"
      ],
      "text/plain": [
       "⎡ 2              2              2                  2                  2       \n",
       "⎢s  + 2⋅s⋅t + 2⋅t      s⋅t + 2⋅t          s⋅t + 2⋅t          s⋅t + 2⋅t        \n",
       "⎢                                                                             \n",
       "⎢            2       2              2              2                  2       \n",
       "⎢   s⋅t + 2⋅t       s  + 2⋅s⋅t + 2⋅t      s⋅t + 2⋅t          s⋅t + 2⋅t        \n",
       "⎢                                                                             \n",
       "⎢            2                  2       2              2           2          \n",
       "⎢   s⋅t + 2⋅t          s⋅t + 2⋅t       s  + 2⋅s⋅t + 2⋅t         2⋅t           \n",
       "⎢                                                                             \n",
       "⎢            2                  2               2          2              2   \n",
       "⎢   s⋅t + 2⋅t          s⋅t + 2⋅t             2⋅t          s  + 2⋅s⋅t + 2⋅t    \n",
       "⎢                                                                             \n",
       "⎢            2               2                     2                  2       \n",
       "⎢   s⋅t + 2⋅t             2⋅t             s⋅t + 2⋅t          s⋅t + 2⋅t       s\n",
       "⎢                                                                             \n",
       "⎢         2                     2                  2                  2       \n",
       "⎣      2⋅t             s⋅t + 2⋅t          s⋅t + 2⋅t          s⋅t + 2⋅t        \n",
       "\n",
       "           2               2       ⎤\n",
       "  s⋅t + 2⋅t             2⋅t        ⎥\n",
       "                                   ⎥\n",
       "        2                     2    ⎥\n",
       "     2⋅t             s⋅t + 2⋅t     ⎥\n",
       "                                   ⎥\n",
       "           2                  2    ⎥\n",
       "  s⋅t + 2⋅t          s⋅t + 2⋅t     ⎥\n",
       "                                   ⎥\n",
       "           2                  2    ⎥\n",
       "  s⋅t + 2⋅t          s⋅t + 2⋅t     ⎥\n",
       "                                   ⎥\n",
       "2              2              2    ⎥\n",
       "  + 2⋅s⋅t + 2⋅t      s⋅t + 2⋅t     ⎥\n",
       "                                   ⎥\n",
       "           2       2              2⎥\n",
       "  s⋅t + 2⋅t       s  + 2⋅s⋅t + 2⋅t ⎦"
      ]
     },
     "execution_count": 56,
     "metadata": {},
     "output_type": "execute_result"
    }
   ],
   "source": [
    "l=2\n",
    "Al=zpow(A,l)\n",
    "Al"
   ]
  },
  {
   "cell_type": "code",
   "execution_count": 57,
   "metadata": {
    "collapsed": false
   },
   "outputs": [
    {
     "data": {
      "image/png": "[encoded data removed]",
      "text/latex": [
       "$$\\left [ s^{2} + 2 s t + 2 t^{2}, \\quad s t + 2 t^{2}, \\quad 2 t^{2}\\right ]$$"
      ],
      "text/plain": [
       "⎡ 2              2           2     2⎤\n",
       "⎣s  + 2⋅s⋅t + 2⋅t , s⋅t + 2⋅t , 2⋅t ⎦"
      ]
     },
     "metadata": {},
     "output_type": "display_data"
    },
    {
     "data": {
      "image/png": "[encoded data removed]",
      "text/latex": [
       "$$\\left [ s^{2} + 6 s t + 12 t^{2}, \\quad s^{2} + 2 s t, \\quad s^{2}\\right ]$$"
      ],
      "text/plain": [
       "⎡ 2               2   2           2⎤\n",
       "⎣s  + 6⋅s⋅t + 12⋅t , s  + 2⋅s⋅t, s ⎦"
      ]
     },
     "metadata": {},
     "output_type": "display_data"
    },
    {
     "data": {
      "image/png": "[encoded data removed]",
      "text/latex": [
       "$$\\left [ 1, \\quad 3, \\quad 2\\right ]$$"
      ],
      "text/plain": [
       "[1, 3, 2]"
      ]
     },
     "execution_count": 57,
     "metadata": {},
     "output_type": "execute_result"
    }
   ],
   "source": [
    "n=A.shape[0]\n",
    "display([h(l-i,i,s,t) for i in range(1+min(l,n-l))])\n",
    "display([expand(simplify(s**alpha*t**(alpha+l-n)/factorial(n-l-alpha)*h(l-alpha,n-l-alpha,s,t))) for alpha in range(1+min(l,n-l))])\n",
    "[binomial(n,alpha)-binomial(n,alpha-1) for alpha in range(1+min(l,n-l))]"
   ]
  },
  {
   "cell_type": "code",
   "execution_count": 58,
   "metadata": {
    "collapsed": false
   },
   "outputs": [
    {
     "data": {
      "image/png": "[encoded data removed]",
      "text/latex": [
       "$$\\left \\{ s^{2} : 2, \\quad s^{2} + 2 s t : 3, \\quad s^{2} + 6 s t + 12 t^{2} : 1\\right \\}$$"
      ],
      "text/plain": [
       "⎧ 2      2              2               2   ⎫\n",
       "⎨s : 2, s  + 2⋅s⋅t: 3, s  + 6⋅s⋅t + 12⋅t : 1⎬\n",
       "⎩                                           ⎭"
      ]
     },
     "execution_count": 58,
     "metadata": {},
     "output_type": "execute_result"
    }
   ],
   "source": [
    "Al.eigenvals()"
   ]
  },
  {
   "cell_type": "markdown",
   "metadata": {
    "collapsed": true
   },
   "source": [
    "$$\\frac{s^\\alpha t^{\\alpha+l-n}}{(n-l-\\alpha)!}\\,h(l-\\alpha,n-l-\\alpha,s,t)$$"
   ]
  },
  {
   "cell_type": "code",
   "execution_count": null,
   "metadata": {
    "collapsed": true
   },
   "outputs": [],
   "source": []
  },
  {
   "cell_type": "code",
   "execution_count": null,
   "metadata": {
    "collapsed": true
   },
   "outputs": [],
   "source": []
  }
 ],
 "metadata": {
  "kernelspec": {
   "display_name": "Python 3",
   "language": "python",
   "name": "python3"
  },
  "language_info": {
   "codemirror_mode": {
    "name": "ipython",
    "version": 3
   },
   "file_extension": ".py",
   "mimetype": "text/x-python",
   "name": "python",
   "nbconvert_exporter": "python",
   "pygments_lexer": "ipython3",
   "version": "3.4.3"
  }
 },
 "nbformat": 4,
 "nbformat_minor": 0
}
