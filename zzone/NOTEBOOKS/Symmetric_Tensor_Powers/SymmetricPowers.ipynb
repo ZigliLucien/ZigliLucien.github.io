{
 "cells": [
  {
   "cell_type": "code",
   "execution_count": 3,
   "metadata": {
    "collapsed": false
   },
   "outputs": [],
   "source": [
    "from IPython.display import *"
   ]
  },
  {
   "cell_type": "code",
   "execution_count": 4,
   "metadata": {
    "collapsed": false
   },
   "outputs": [
    {
     "data": {
      "image/png": "[encoded data removed]",
      "text/latex": [
       "$$\\left ( \\left[\\begin{matrix}s & 1 & 1\\\\1 & 0 & 0\\\\0 & 1 & 0\\end{matrix}\\right], \\quad \\left[\\begin{matrix}s u + v + w\\\\u\\\\v\\end{matrix}\\right]\\right )$$"
      ],
      "text/plain": [
       "⎛⎡s  1  1⎤, ⎡s⋅u + v + w⎤⎞\n",
       "⎜⎢       ⎥  ⎢           ⎥⎟\n",
       "⎜⎢1  0  0⎥  ⎢     u     ⎥⎟\n",
       "⎜⎢       ⎥  ⎢           ⎥⎟\n",
       "⎝⎣0  1  0⎦  ⎣     v     ⎦⎠"
      ]
     },
     "execution_count": 4,
     "metadata": {},
     "output_type": "execute_result"
    }
   ],
   "source": [
    "var('a:z')\n",
    "\n",
    "V=Matrix(3,1,[u,v,w])\n",
    "A=Matrix(3,3,[s,1,1,1,0,0,0,1,0])\n",
    "B=A*V\n",
    "A,B"
   ]
  },
  {
   "cell_type": "code",
   "execution_count": 5,
   "metadata": {
    "collapsed": false
   },
   "outputs": [
    {
     "data": {
      "image/png": "[encoded data removed]",
      "text/latex": [
       "$$\\left [ \\left ( 3, \\quad 0, \\quad 0\\right ), \\quad \\left ( 2, \\quad 1, \\quad 0\\right ), \\quad \\left ( 2, \\quad 0, \\quad 1\\right ), \\quad \\left ( 1, \\quad 2, \\quad 0\\right ), \\quad \\left ( 1, \\quad 1, \\quad 1\\right ), \\quad \\left ( 1, \\quad 0, \\quad 2\\right ), \\quad \\left ( 0, \\quad 3, \\quad 0\\right ), \\quad \\left ( 0, \\quad 2, \\quad 1\\right ), \\quad \\left ( 0, \\quad 1, \\quad 2\\right ), \\quad \\left ( 0, \\quad 0, \\quad 3\\right )\\right ]$$"
      ],
      "text/plain": [
       "[(3, 0, 0), (2, 1, 0), (2, 0, 1), (1, 2, 0), (1, 1, 1), (1, 0, 2), (0, 3, 0), \n",
       "(0, 2, 1), (0, 1, 2), (0, 0, 3)]"
      ]
     },
     "execution_count": 5,
     "metadata": {},
     "output_type": "execute_result"
    }
   ],
   "source": [
    "N=3\n",
    "mm=Poly((u+v+w)**N).monoms()\n",
    "mm"
   ]
  },
  {
   "cell_type": "code",
   "execution_count": 6,
   "metadata": {
    "collapsed": false
   },
   "outputs": [],
   "source": [
    "dd=len(mm)\n",
    "xx=eye(dd)\n",
    "X=[]\n",
    "\n",
    "for i in range(dd):\n",
    "    F=x**mm[i][0]*y**mm[i][1]*z**mm[i][2]\n",
    "    GG=F.subs(x,B[0]).subs(y,B[1]).subs(z,B[2]);FF=expand(GG)\n",
    "    X.append([FF.coeff(u**mm[i][0]*v**mm[i][1]*w**mm[i][2]) for i in range(dd)])\n",
    " \n",
    "#display(X)"
   ]
  },
  {
   "cell_type": "code",
   "execution_count": 7,
   "metadata": {
    "collapsed": false
   },
   "outputs": [
    {
     "data": {
      "image/png": "[encoded data removed]",
      "text/latex": [
       "$$\\left[\\begin{matrix}s^{3} & 3 s^{2} & 3 s^{2} & 3 s & 6 s & 3 s & 1 & 3 & 3 & 1\\\\s^{2} & 2 s & 2 s & 1 & 2 & 1 & 0 & 0 & 0 & 0\\\\0 & s^{2} & 0 & 2 s & 2 s & 0 & 1 & 2 & 1 & 0\\\\s & 1 & 1 & 0 & 0 & 0 & 0 & 0 & 0 & 0\\\\0 & s & 0 & 1 & 1 & 0 & 0 & 0 & 0 & 0\\\\0 & 0 & 0 & s & 0 & 0 & 1 & 1 & 0 & 0\\\\1 & 0 & 0 & 0 & 0 & 0 & 0 & 0 & 0 & 0\\\\0 & 1 & 0 & 0 & 0 & 0 & 0 & 0 & 0 & 0\\\\0 & 0 & 0 & 1 & 0 & 0 & 0 & 0 & 0 & 0\\\\0 & 0 & 0 & 0 & 0 & 0 & 1 & 0 & 0 & 0\\end{matrix}\\right]$$"
      ],
      "text/plain": [
       "⎡ 3     2     2                           ⎤\n",
       "⎢s   3⋅s   3⋅s   3⋅s  6⋅s  3⋅s  1  3  3  1⎥\n",
       "⎢                                         ⎥\n",
       "⎢ 2                                       ⎥\n",
       "⎢s   2⋅s   2⋅s    1    2    1   0  0  0  0⎥\n",
       "⎢                                         ⎥\n",
       "⎢      2                                  ⎥\n",
       "⎢0    s     0    2⋅s  2⋅s   0   1  2  1  0⎥\n",
       "⎢                                         ⎥\n",
       "⎢s    1     1     0    0    0   0  0  0  0⎥\n",
       "⎢                                         ⎥\n",
       "⎢0    s     0     1    1    0   0  0  0  0⎥\n",
       "⎢                                         ⎥\n",
       "⎢0    0     0     s    0    0   1  1  0  0⎥\n",
       "⎢                                         ⎥\n",
       "⎢1    0     0     0    0    0   0  0  0  0⎥\n",
       "⎢                                         ⎥\n",
       "⎢0    1     0     0    0    0   0  0  0  0⎥\n",
       "⎢                                         ⎥\n",
       "⎢0    0     0     1    0    0   0  0  0  0⎥\n",
       "⎢                                         ⎥\n",
       "⎣0    0     0     0    0    0   1  0  0  0⎦"
      ]
     },
     "execution_count": 7,
     "metadata": {},
     "output_type": "execute_result"
    }
   ],
   "source": [
    "MX=Matrix(1,dd,X[0])\n",
    "for i in range(1,dd):\n",
    "    XM=Matrix(1,dd,X[i])\n",
    "    MX=MX.col_join(XM)\n",
    "    \n",
    "\n",
    "MX\n",
    "    \n",
    "    "
   ]
  },
  {
   "cell_type": "markdown",
   "metadata": {},
   "source": [
    "This is the Nth symmetric power of A. In this example, N=3."
   ]
  },
  {
   "cell_type": "code",
   "execution_count": 8,
   "metadata": {
    "collapsed": false
   },
   "outputs": [
    {
     "data": {
      "image/png": "[encoded data removed]",
      "text/latex": [
       "$$1$$"
      ],
      "text/plain": [
       "1"
      ]
     },
     "metadata": {},
     "output_type": "display_data"
    },
    {
     "data": {
      "image/png": "[encoded data removed]",
      "text/latex": [
       "$$s$$"
      ],
      "text/plain": [
       "s"
      ]
     },
     "metadata": {},
     "output_type": "display_data"
    },
    {
     "data": {
      "image/png": "[encoded data removed]",
      "text/latex": [
       "$$s^{2} + 1$$"
      ],
      "text/plain": [
       " 2    \n",
       "s  + 1"
      ]
     },
     "metadata": {},
     "output_type": "display_data"
    },
    {
     "data": {
      "image/png": "[encoded data removed]",
      "text/latex": [
       "$$s^{3} + 2 s + 1$$"
      ],
      "text/plain": [
       " 3          \n",
       "s  + 2⋅s + 1"
      ]
     },
     "metadata": {},
     "output_type": "display_data"
    },
    {
     "data": {
      "image/png": "[encoded data removed]",
      "text/latex": [
       "$$s^{4} + 3 s^{2} + 2 s + 1$$"
      ],
      "text/plain": [
       " 4      2          \n",
       "s  + 3⋅s  + 2⋅s + 1"
      ]
     },
     "metadata": {},
     "output_type": "display_data"
    },
    {
     "data": {
      "image/png": "[encoded data removed]",
      "text/latex": [
       "$$s^{5} + 4 s^{3} + 3 s^{2} + 3 s + 2$$"
      ],
      "text/plain": [
       " 5      3      2          \n",
       "s  + 4⋅s  + 3⋅s  + 3⋅s + 2"
      ]
     },
     "metadata": {},
     "output_type": "display_data"
    },
    {
     "data": {
      "image/png": "[encoded data removed]",
      "text/latex": [
       "$$s^{6} + 5 s^{4} + 4 s^{3} + 6 s^{2} + 6 s + 2$$"
      ],
      "text/plain": [
       " 6      4      3      2          \n",
       "s  + 5⋅s  + 4⋅s  + 6⋅s  + 6⋅s + 2"
      ]
     },
     "metadata": {},
     "output_type": "display_data"
    },
    {
     "data": {
      "image/png": "[encoded data removed]",
      "text/latex": [
       "$$s^{7} + 6 s^{5} + 5 s^{4} + 10 s^{3} + 12 s^{2} + 7 s + 3$$"
      ],
      "text/plain": [
       " 7      5      4       3       2          \n",
       "s  + 6⋅s  + 5⋅s  + 10⋅s  + 12⋅s  + 7⋅s + 3"
      ]
     },
     "metadata": {},
     "output_type": "display_data"
    },
    {
     "data": {
      "image/png": "[encoded data removed]",
      "text/latex": [
       "$$s^{8} + 7 s^{6} + 6 s^{5} + 15 s^{4} + 20 s^{3} + 16 s^{2} + 12 s + 4$$"
      ],
      "text/plain": [
       " 8      6      5       4       3       2           \n",
       "s  + 7⋅s  + 6⋅s  + 15⋅s  + 20⋅s  + 16⋅s  + 12⋅s + 4"
      ]
     },
     "metadata": {},
     "output_type": "display_data"
    },
    {
     "data": {
      "image/png": "[encoded data removed]",
      "text/latex": [
       "$$s^{9} + 8 s^{7} + 7 s^{6} + 21 s^{5} + 30 s^{4} + 30 s^{3} + 30 s^{2} + 17 s + 5$$"
      ],
      "text/plain": [
       " 9      7      6       5       4       3       2           \n",
       "s  + 8⋅s  + 7⋅s  + 21⋅s  + 30⋅s  + 30⋅s  + 30⋅s  + 17⋅s + 5"
      ]
     },
     "metadata": {},
     "output_type": "display_data"
    }
   ],
   "source": [
    "IX=eye(A.shape[0])\n",
    "delta=series(((IX-t*A).det())**(-1),t,0,10)\n",
    "for i in range(10):\n",
    "    display(delta.coeff(t,i))\n",
    "    "
   ]
  },
  {
   "cell_type": "markdown",
   "metadata": {},
   "source": [
    "These are the traces of the symmetric powers of A."
   ]
  },
  {
   "cell_type": "code",
   "execution_count": 9,
   "metadata": {
    "collapsed": false
   },
   "outputs": [
    {
     "data": {
      "image/png": "[encoded data removed]",
      "text/latex": [
       "$$3$$"
      ],
      "text/plain": [
       "3"
      ]
     },
     "metadata": {},
     "output_type": "display_data"
    },
    {
     "data": {
      "image/png": "[encoded data removed]",
      "text/latex": [
       "$$s$$"
      ],
      "text/plain": [
       "s"
      ]
     },
     "metadata": {},
     "output_type": "display_data"
    },
    {
     "data": {
      "image/png": "[encoded data removed]",
      "text/latex": [
       "$$s^{2} + 2$$"
      ],
      "text/plain": [
       " 2    \n",
       "s  + 2"
      ]
     },
     "metadata": {},
     "output_type": "display_data"
    },
    {
     "data": {
      "image/png": "[encoded data removed]",
      "text/latex": [
       "$$s^{3} + 3 s + 3$$"
      ],
      "text/plain": [
       " 3          \n",
       "s  + 3⋅s + 3"
      ]
     },
     "metadata": {},
     "output_type": "display_data"
    },
    {
     "data": {
      "image/png": "[encoded data removed]",
      "text/latex": [
       "$$s^{4} + 4 s^{2} + 4 s + 2$$"
      ],
      "text/plain": [
       " 4      2          \n",
       "s  + 4⋅s  + 4⋅s + 2"
      ]
     },
     "metadata": {},
     "output_type": "display_data"
    },
    {
     "data": {
      "image/png": "[encoded data removed]",
      "text/latex": [
       "$$s^{5} + 5 s^{3} + 5 s^{2} + 5 s + 5$$"
      ],
      "text/plain": [
       " 5      3      2          \n",
       "s  + 5⋅s  + 5⋅s  + 5⋅s + 5"
      ]
     },
     "metadata": {},
     "output_type": "display_data"
    },
    {
     "data": {
      "image/png": "[encoded data removed]",
      "text/latex": [
       "$$s^{6} + 6 s^{4} + 6 s^{3} + 9 s^{2} + 12 s + 5$$"
      ],
      "text/plain": [
       " 6      4      3      2           \n",
       "s  + 6⋅s  + 6⋅s  + 9⋅s  + 12⋅s + 5"
      ]
     },
     "metadata": {},
     "output_type": "display_data"
    },
    {
     "data": {
      "image/png": "[encoded data removed]",
      "text/latex": [
       "$$s^{7} + 7 s^{5} + 7 s^{4} + 14 s^{3} + 21 s^{2} + 14 s + 7$$"
      ],
      "text/plain": [
       " 7      5      4       3       2           \n",
       "s  + 7⋅s  + 7⋅s  + 14⋅s  + 21⋅s  + 14⋅s + 7"
      ]
     },
     "metadata": {},
     "output_type": "display_data"
    },
    {
     "data": {
      "image/png": "[encoded data removed]",
      "text/latex": [
       "$$s^{8} + 8 s^{6} + 8 s^{5} + 20 s^{4} + 32 s^{3} + 28 s^{2} + 24 s + 10$$"
      ],
      "text/plain": [
       " 8      6      5       4       3       2            \n",
       "s  + 8⋅s  + 8⋅s  + 20⋅s  + 32⋅s  + 28⋅s  + 24⋅s + 10"
      ]
     },
     "metadata": {},
     "output_type": "display_data"
    },
    {
     "data": {
      "image/png": "[encoded data removed]",
      "text/latex": [
       "$$s^{9} + 9 s^{7} + 9 s^{6} + 27 s^{5} + 45 s^{4} + 48 s^{3} + 54 s^{2} + 36 s + 12$$"
      ],
      "text/plain": [
       " 9      7      6       5       4       3       2            \n",
       "s  + 9⋅s  + 9⋅s  + 27⋅s  + 45⋅s  + 48⋅s  + 54⋅s  + 36⋅s + 12"
      ]
     },
     "metadata": {},
     "output_type": "display_data"
    }
   ],
   "source": [
    "Res=series(trace((IX-t*A).inv()),t,0,10)\n",
    "for i in range(10):\n",
    "    display(Res.coeff(t,i))\n"
   ]
  },
  {
   "cell_type": "markdown",
   "metadata": {},
   "source": [
    "These are the traces of the powers of A."
   ]
  }
 ],
 "metadata": {
  "kernelspec": {
   "display_name": "Python 3",
   "language": "python",
   "name": "python3"
  },
  "language_info": {
   "codemirror_mode": {
    "name": "ipython",
    "version": 3
   },
   "file_extension": ".py",
   "mimetype": "text/x-python",
   "name": "python",
   "nbconvert_exporter": "python",
   "pygments_lexer": "ipython3",
   "version": "3.4.3"
  }
 },
 "nbformat": 4,
 "nbformat_minor": 0
}
