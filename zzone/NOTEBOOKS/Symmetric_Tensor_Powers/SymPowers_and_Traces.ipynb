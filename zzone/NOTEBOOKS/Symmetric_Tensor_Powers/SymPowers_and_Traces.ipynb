{
 "cells": [
  {
   "cell_type": "code",
   "execution_count": 44,
   "metadata": {
    "collapsed": false
   },
   "outputs": [
    {
     "name": "stdout",
     "output_type": "stream",
     "text": [
      "This provides macros for symmetric tensor powers.\n",
      "\n",
      "SymPower(A,N): a matrix A and degree N\n",
      "SymmTraces(A,n): matrix A and order of the series\n",
      "PowerTraces(A,n): matrix A and order of the series\n",
      "GAM(A,N): Lie map for matrix A in degree N\n"
     ]
    }
   ],
   "source": [
    "%run sympowers.py"
   ]
  },
  {
   "cell_type": "code",
   "execution_count": 45,
   "metadata": {
    "collapsed": false
   },
   "outputs": [
    {
     "data": {
      "image/png": "[encoded data removed]",
      "text/latex": [
       "$$\\left[\\begin{matrix}1 & 2\\\\x & y\\end{matrix}\\right]$$"
      ],
      "text/plain": [
       "⎡1  2⎤\n",
       "⎢    ⎥\n",
       "⎣x  y⎦"
      ]
     },
     "execution_count": 45,
     "metadata": {},
     "output_type": "execute_result"
    }
   ],
   "source": [
    "A=Matrix(2,2,[1,2,x,y])\n",
    "A"
   ]
  },
  {
   "cell_type": "code",
   "execution_count": 46,
   "metadata": {
    "collapsed": false
   },
   "outputs": [
    {
     "data": {
      "image/png": "[encoded data removed]",
      "text/latex": [
       "$$\\left[\\begin{matrix}1 & 2\\\\x & y\\end{matrix}\\right]$$"
      ],
      "text/plain": [
       "⎡1  2⎤\n",
       "⎢    ⎥\n",
       "⎣x  y⎦"
      ]
     },
     "metadata": {},
     "output_type": "display_data"
    },
    {
     "data": {
      "image/png": "[encoded data removed]",
      "text/latex": [
       "$$y + 1$$"
      ],
      "text/plain": [
       "y + 1"
      ]
     },
     "metadata": {},
     "output_type": "display_data"
    },
    {
     "data": {
      "image/png": "[encoded data removed]",
      "text/latex": [
       "$$y + 1$$"
      ],
      "text/plain": [
       "y + 1"
      ]
     },
     "metadata": {},
     "output_type": "display_data"
    },
    {
     "data": {
      "image/png": "[encoded data removed]",
      "text/latex": [
       "$$\\left[\\begin{matrix}1 & 4 & 4\\\\x & 2 x + y & 2 y\\\\x^{2} & 2 x y & y^{2}\\end{matrix}\\right]$$"
      ],
      "text/plain": [
       "⎡1      4      4 ⎤\n",
       "⎢                ⎥\n",
       "⎢x   2⋅x + y  2⋅y⎥\n",
       "⎢                ⎥\n",
       "⎢ 2            2 ⎥\n",
       "⎣x    2⋅x⋅y   y  ⎦"
      ]
     },
     "metadata": {},
     "output_type": "display_data"
    },
    {
     "data": {
      "image/png": "[encoded data removed]",
      "text/latex": [
       "$$2 x + y^{2} + y + 1$$"
      ],
      "text/plain": [
       "       2        \n",
       "2⋅x + y  + y + 1"
      ]
     },
     "metadata": {},
     "output_type": "display_data"
    },
    {
     "data": {
      "image/png": "[encoded data removed]",
      "text/latex": [
       "$$4 x + y^{2} + 1$$"
      ],
      "text/plain": [
       "       2    \n",
       "4⋅x + y  + 1"
      ]
     },
     "metadata": {},
     "output_type": "display_data"
    },
    {
     "data": {
      "image/png": "[encoded data removed]",
      "text/latex": [
       "$$\\left[\\begin{matrix}1 & 6 & 12 & 8\\\\x & 4 x + y & 4 x + 4 y & 4 y\\\\x^{2} & 2 x^{2} + 2 x y & 4 x y + y^{2} & 2 y^{2}\\\\x^{3} & 3 x^{2} y & 3 x y^{2} & y^{3}\\end{matrix}\\right]$$"
      ],
      "text/plain": [
       "⎡1        6            12       8  ⎤\n",
       "⎢                                  ⎥\n",
       "⎢x     4⋅x + y     4⋅x + 4⋅y   4⋅y ⎥\n",
       "⎢                                  ⎥\n",
       "⎢ 2     2                   2     2⎥\n",
       "⎢x   2⋅x  + 2⋅x⋅y  4⋅x⋅y + y   2⋅y ⎥\n",
       "⎢                                  ⎥\n",
       "⎢ 3        2              2      3 ⎥\n",
       "⎣x      3⋅x ⋅y       3⋅x⋅y      y  ⎦"
      ]
     },
     "metadata": {},
     "output_type": "display_data"
    },
    {
     "data": {
      "image/png": "[encoded data removed]",
      "text/latex": [
       "$$4 x y + 4 x + y^{3} + y^{2} + y + 1$$"
      ],
      "text/plain": [
       "               3    2        \n",
       "4⋅x⋅y + 4⋅x + y  + y  + y + 1"
      ]
     },
     "metadata": {},
     "output_type": "display_data"
    },
    {
     "data": {
      "image/png": "[encoded data removed]",
      "text/latex": [
       "$$6 x y + 6 x + y^{3} + 1$$"
      ],
      "text/plain": [
       "               3    \n",
       "6⋅x⋅y + 6⋅x + y  + 1"
      ]
     },
     "metadata": {},
     "output_type": "display_data"
    },
    {
     "data": {
      "image/png": "[encoded data removed]",
      "text/latex": [
       "$$\\left[\\begin{matrix}1 & 8 & 24 & 32 & 16\\\\x & 6 x + y & 12 x + 6 y & 8 x + 12 y & 8 y\\\\x^{2} & 4 x^{2} + 2 x y & 4 x^{2} + 8 x y + y^{2} & 8 x y + 4 y^{2} & 4 y^{2}\\\\x^{3} & 2 x^{3} + 3 x^{2} y & 6 x^{2} y + 3 x y^{2} & 6 x y^{2} + y^{3} & 2 y^{3}\\\\x^{4} & 4 x^{3} y & 6 x^{2} y^{2} & 4 x y^{3} & y^{4}\\end{matrix}\\right]$$"
      ],
      "text/plain": [
       "⎡1         8               24               32        16 ⎤\n",
       "⎢                                                        ⎥\n",
       "⎢x      6⋅x + y        12⋅x + 6⋅y       8⋅x + 12⋅y   8⋅y ⎥\n",
       "⎢                                                        ⎥\n",
       "⎢ 2     2              2            2             2     2⎥\n",
       "⎢x   4⋅x  + 2⋅x⋅y   4⋅x  + 8⋅x⋅y + y   8⋅x⋅y + 4⋅y   4⋅y ⎥\n",
       "⎢                                                        ⎥\n",
       "⎢ 3     3      2        2          2        2    3      3⎥\n",
       "⎢x   2⋅x  + 3⋅x ⋅y   6⋅x ⋅y + 3⋅x⋅y    6⋅x⋅y  + y    2⋅y ⎥\n",
       "⎢                                                        ⎥\n",
       "⎢ 4        3                2  2               3       4 ⎥\n",
       "⎣x      4⋅x ⋅y           6⋅x ⋅y           4⋅x⋅y       y  ⎦"
      ]
     },
     "metadata": {},
     "output_type": "display_data"
    },
    {
     "data": {
      "image/png": "[encoded data removed]",
      "text/latex": [
       "$$4 x^{2} + 6 x y^{2} + 8 x y + 6 x + y^{4} + y^{3} + y^{2} + y + 1$$"
      ],
      "text/plain": [
       "   2        2                  4    3    2        \n",
       "4⋅x  + 6⋅x⋅y  + 8⋅x⋅y + 6⋅x + y  + y  + y  + y + 1"
      ]
     },
     "metadata": {},
     "output_type": "display_data"
    },
    {
     "data": {
      "image/png": "[encoded data removed]",
      "text/latex": [
       "$$8 x^{2} + 8 x y^{2} + 8 x y + 8 x + y^{4} + 1$$"
      ],
      "text/plain": [
       "   2        2                  4    \n",
       "8⋅x  + 8⋅x⋅y  + 8⋅x⋅y + 8⋅x + y  + 1"
      ]
     },
     "metadata": {},
     "output_type": "display_data"
    },
    {
     "data": {
      "image/png": "[encoded data removed]",
      "text/latex": [
       "$$\\left[\\begin{matrix}1 & 10 & 40 & 80 & 80 & 32\\\\x & 8 x + y & 24 x + 8 y & 32 x + 24 y & 16 x + 32 y & 16 y\\\\x^{2} & 6 x^{2} + 2 x y & 12 x^{2} + 12 x y + y^{2} & 8 x^{2} + 24 x y + 6 y^{2} & 16 x y + 12 y^{2} & 8 y^{2}\\\\x^{3} & 4 x^{3} + 3 x^{2} y & 4 x^{3} + 12 x^{2} y + 3 x y^{2} & 12 x^{2} y + 12 x y^{2} + y^{3} & 12 x y^{2} + 4 y^{3} & 4 y^{3}\\\\x^{4} & 2 x^{4} + 4 x^{3} y & 8 x^{3} y + 6 x^{2} y^{2} & 12 x^{2} y^{2} + 4 x y^{3} & 8 x y^{3} + y^{4} & 2 y^{4}\\\\x^{5} & 5 x^{4} y & 10 x^{3} y^{2} & 10 x^{2} y^{3} & 5 x y^{4} & y^{5}\\end{matrix}\\right]$$"
      ],
      "text/plain": [
       "⎡1        10                  40                       80                  80 \n",
       "⎢                                                                             \n",
       "⎢x      8⋅x + y           24⋅x + 8⋅y              32⋅x + 24⋅y         16⋅x + 3\n",
       "⎢                                                                             \n",
       "⎢ 2     2                 2             2        2               2            \n",
       "⎢x   6⋅x  + 2⋅x⋅y     12⋅x  + 12⋅x⋅y + y      8⋅x  + 24⋅x⋅y + 6⋅y    16⋅x⋅y + \n",
       "⎢                                                                             \n",
       "⎢ 3     3      2       3       2          2      2           2    3        2  \n",
       "⎢x   4⋅x  + 3⋅x ⋅y  4⋅x  + 12⋅x ⋅y + 3⋅x⋅y   12⋅x ⋅y + 12⋅x⋅y  + y   12⋅x⋅y  +\n",
       "⎢                                                                             \n",
       "⎢ 4     4      3          3        2  2            2  2        3           3  \n",
       "⎢x   2⋅x  + 4⋅x ⋅y     8⋅x ⋅y + 6⋅x ⋅y         12⋅x ⋅y  + 4⋅x⋅y       8⋅x⋅y  +\n",
       "⎢                                                                             \n",
       "⎢ 5        4                   3  2                     2  3                  \n",
       "⎣x      5⋅x ⋅y             10⋅x ⋅y                  10⋅x ⋅y              5⋅x⋅y\n",
       "\n",
       "        32 ⎤\n",
       "           ⎥\n",
       "2⋅y    16⋅y⎥\n",
       "           ⎥\n",
       "    2     2⎥\n",
       "12⋅y   8⋅y ⎥\n",
       "           ⎥\n",
       "    3     3⎥\n",
       " 4⋅y   4⋅y ⎥\n",
       "           ⎥\n",
       "  4       4⎥\n",
       " y     2⋅y ⎥\n",
       "           ⎥\n",
       "4        5 ⎥\n",
       "        y  ⎦"
      ]
     },
     "metadata": {},
     "output_type": "display_data"
    },
    {
     "data": {
      "image/png": "[encoded data removed]",
      "text/latex": [
       "$$12 x^{2} y + 12 x^{2} + 8 x y^{3} + 12 x y^{2} + 12 x y + 8 x + y^{5} + y^{4} + y^{3} + y^{2} + y + 1$$"
      ],
      "text/plain": [
       "    2         2        3         2                   5    4    3    2        \n",
       "12⋅x ⋅y + 12⋅x  + 8⋅x⋅y  + 12⋅x⋅y  + 12⋅x⋅y + 8⋅x + y  + y  + y  + y  + y + 1"
      ]
     },
     "metadata": {},
     "output_type": "display_data"
    },
    {
     "data": {
      "image/png": "[encoded data removed]",
      "text/latex": [
       "$$20 x^{2} y + 20 x^{2} + 10 x y^{3} + 10 x y^{2} + 10 x y + 10 x + y^{5} + 1$$"
      ],
      "text/plain": [
       "    2         2         3         2                    5    \n",
       "20⋅x ⋅y + 20⋅x  + 10⋅x⋅y  + 10⋅x⋅y  + 10⋅x⋅y + 10⋅x + y  + 1"
      ]
     },
     "metadata": {},
     "output_type": "display_data"
    }
   ],
   "source": [
    "for n in range(1,6):\n",
    "    B=SymPower(A,n)\n",
    "    display(B,trace(B),expand(trace(A**n)))\n",
    "    \n",
    "    "
   ]
  },
  {
   "cell_type": "code",
   "execution_count": 47,
   "metadata": {
    "collapsed": false
   },
   "outputs": [
    {
     "data": {
      "image/png": "[encoded data removed]",
      "text/latex": [
       "$$\\left [ 1, \\quad 2\\right ]$$"
      ],
      "text/plain": [
       "[1, 2]"
      ]
     },
     "metadata": {},
     "output_type": "display_data"
    },
    {
     "data": {
      "image/png": "[encoded data removed]",
      "text/latex": [
       "$$\\left [ y + 1, \\quad y + 1\\right ]$$"
      ],
      "text/plain": [
       "[y + 1, y + 1]"
      ]
     },
     "metadata": {},
     "output_type": "display_data"
    },
    {
     "data": {
      "image/png": "[encoded data removed]",
      "text/latex": [
       "$$\\left [ 2 x + y^{2} + y + 1, \\quad 4 x + y^{2} + 1\\right ]$$"
      ],
      "text/plain": [
       "⎡       2                 2    ⎤\n",
       "⎣2⋅x + y  + y + 1, 4⋅x + y  + 1⎦"
      ]
     },
     "metadata": {},
     "output_type": "display_data"
    },
    {
     "data": {
      "image/png": "[encoded data removed]",
      "text/latex": [
       "$$\\left [ 4 x y + 4 x + y^{3} + y^{2} + y + 1, \\quad 6 x y + 6 x + y^{3} + 1\\right ]$$"
      ],
      "text/plain": [
       "⎡               3    2                         3    ⎤\n",
       "⎣4⋅x⋅y + 4⋅x + y  + y  + y + 1, 6⋅x⋅y + 6⋅x + y  + 1⎦"
      ]
     },
     "metadata": {},
     "output_type": "display_data"
    },
    {
     "data": {
      "image/png": "[encoded data removed]",
      "text/latex": [
       "$$\\left [ 4 x^{2} + 6 x y^{2} + 8 x y + 6 x + y^{4} + y^{3} + y^{2} + y + 1, \\quad 8 x^{2} + 8 x y^{2} + 8 x y + 8 x + y^{4} + 1\\right ]$$"
      ],
      "text/plain": [
       "⎡   2        2                  4    3    2             2        2            \n",
       "⎣4⋅x  + 6⋅x⋅y  + 8⋅x⋅y + 6⋅x + y  + y  + y  + y + 1, 8⋅x  + 8⋅x⋅y  + 8⋅x⋅y + 8\n",
       "\n",
       "      4    ⎤\n",
       "⋅x + y  + 1⎦"
      ]
     },
     "metadata": {},
     "output_type": "display_data"
    },
    {
     "data": {
      "image/png": "[encoded data removed]",
      "text/latex": [
       "$$\\left [ 12 x^{2} y + 12 x^{2} + 8 x y^{3} + 12 x y^{2} + 12 x y + 8 x + y^{5} + y^{4} + y^{3} + y^{2} + y + 1, \\quad 20 x^{2} y + 20 x^{2} + 10 x y^{3} + 10 x y^{2} + 10 x y + 10 x + y^{5} + 1\\right ]$$"
      ],
      "text/plain": [
       "⎡    2         2        3         2                   5    4    3    2        \n",
       "⎣12⋅x ⋅y + 12⋅x  + 8⋅x⋅y  + 12⋅x⋅y  + 12⋅x⋅y + 8⋅x + y  + y  + y  + y  + y + 1\n",
       "\n",
       "      2         2         3         2                    5    ⎤\n",
       ", 20⋅x ⋅y + 20⋅x  + 10⋅x⋅y  + 10⋅x⋅y  + 10⋅x⋅y + 10⋅x + y  + 1⎦"
      ]
     },
     "metadata": {},
     "output_type": "display_data"
    }
   ],
   "source": [
    "st=SymmTraces(A,6);pt=PowerTraces(A,6)\n",
    "\n",
    "for i in range(6):\n",
    "    display([st[i],pt[i]])\n",
    "    \n"
   ]
  },
  {
   "cell_type": "code",
   "execution_count": 49,
   "metadata": {
    "collapsed": false
   },
   "outputs": [
    {
     "data": {
      "image/png": "[encoded data removed]",
      "text/latex": [
       "$$\\left ( \\left[\\begin{matrix}1 & 2\\\\x & y\\end{matrix}\\right], \\quad \\left[\\begin{matrix}y & x\\\\2 & 1\\end{matrix}\\right], \\quad \\left[\\begin{matrix}- x^{2} + 4 & - x y + x - 2 y + 2\\\\x y - x + 2 y - 2 & x^{2} - 4\\end{matrix}\\right]\\right )$$"
      ],
      "text/plain": [
       "⎛                ⎡       2                             ⎤⎞\n",
       "⎜⎡1  2⎤, ⎡y  x⎤, ⎢    - x  + 4       -x⋅y + x - 2⋅y + 2⎥⎟\n",
       "⎜⎢    ⎥  ⎢    ⎥  ⎢                                     ⎥⎟\n",
       "⎜⎣x  y⎦  ⎣2  1⎦  ⎢                          2          ⎥⎟\n",
       "⎝                ⎣x⋅y - x + 2⋅y - 2        x  - 4      ⎦⎠"
      ]
     },
     "execution_count": 49,
     "metadata": {},
     "output_type": "execute_result"
    }
   ],
   "source": [
    "B=Matrix(2,2,[y,x,2,1])\n",
    "C=A*B-B*A\n",
    "A,B,C"
   ]
  },
  {
   "cell_type": "code",
   "execution_count": 53,
   "metadata": {
    "collapsed": false
   },
   "outputs": [
    {
     "data": {
      "image/png": "[encoded data removed]",
      "text/latex": [
       "$$\\left ( \\left[\\begin{matrix}4 & 8 & 0 & 0 & 0\\\\x & y + 3 & 6 & 0 & 0\\\\0 & 2 x & 2 y + 2 & 4 & 0\\\\0 & 0 & 3 x & 3 y + 1 & 2\\\\0 & 0 & 0 & 4 x & 4 y\\end{matrix}\\right], \\quad \\left[\\begin{matrix}4 y & 4 x & 0 & 0 & 0\\\\2 & 3 y + 1 & 3 x & 0 & 0\\\\0 & 4 & 2 y + 2 & 2 x & 0\\\\0 & 0 & 6 & y + 3 & x\\\\0 & 0 & 0 & 8 & 4\\end{matrix}\\right], \\quad \\left[\\begin{matrix}- 4 x^{2} + 16 & - 4 x y + 4 x - 8 y + 8 & 0 & 0 & 0\\\\x y - x + 2 y - 2 & - 2 x^{2} + 8 & - 3 x y + 3 x - 6 y + 6 & 0 & 0\\\\0 & 2 x y - 2 x + 4 y - 4 & 0 & - 2 x y + 2 x - 4 y + 4 & 0\\\\0 & 0 & 3 x y - 3 x + 6 y - 6 & 2 x^{2} - 8 & - x y + x - 2 y + 2\\\\0 & 0 & 0 & 4 x y - 4 x + 8 y - 8 & 4 x^{2} - 16\\end{matrix}\\right], \\quad \\left[\\begin{matrix}0 & 0 & 0 & 0 & 0\\\\0 & 0 & 0 & 0 & 0\\\\0 & 0 & 0 & 0 & 0\\\\0 & 0 & 0 & 0 & 0\\\\0 & 0 & 0 & 0 & 0\\end{matrix}\\right]\\right )$$"
      ],
      "text/plain": [
       "⎛                                                                      ⎡      \n",
       "⎜⎡4    8       0        0      0 ⎤, ⎡4⋅y    4⋅x       0       0    0⎤, ⎢   - 4\n",
       "⎜⎢                               ⎥  ⎢                               ⎥  ⎢      \n",
       "⎜⎢x  y + 3     6        0      0 ⎥  ⎢ 2   3⋅y + 1    3⋅x      0    0⎥  ⎢      \n",
       "⎜⎢                               ⎥  ⎢                               ⎥  ⎢x⋅y - \n",
       "⎜⎢0   2⋅x   2⋅y + 2     4      0 ⎥  ⎢ 0      4     2⋅y + 2   2⋅x   0⎥  ⎢      \n",
       "⎜⎢                               ⎥  ⎢                               ⎥  ⎢      \n",
       "⎜⎢0    0      3⋅x    3⋅y + 1   2 ⎥  ⎢ 0      0        6     y + 3  x⎥  ⎢      \n",
       "⎜⎢                               ⎥  ⎢                               ⎥  ⎢      \n",
       "⎜⎣0    0       0       4⋅x    4⋅y⎦  ⎣ 0      0        0       8    4⎦  ⎢      \n",
       "⎜                                                                      ⎢      \n",
       "⎜                                                                      ⎢      \n",
       "⎝                                                                      ⎣      \n",
       "\n",
       "  2                                                                           \n",
       "⋅x  + 16     -4⋅x⋅y + 4⋅x - 8⋅y + 8            0                       0      \n",
       "                                                                              \n",
       "                        2                                                     \n",
       "x + 2⋅y - 2        - 2⋅x  + 8        -3⋅x⋅y + 3⋅x - 6⋅y + 6            0      \n",
       "                                                                              \n",
       "  0          2⋅x⋅y - 2⋅x + 4⋅y - 4             0             -2⋅x⋅y + 2⋅x - 4⋅\n",
       "                                                                              \n",
       "                                                                       2      \n",
       "  0                    0             3⋅x⋅y - 3⋅x + 6⋅y - 6          2⋅x  - 8  \n",
       "                                                                              \n",
       "                                                                              \n",
       "  0                    0                       0             4⋅x⋅y - 4⋅x + 8⋅y\n",
       "\n",
       "                         ⎤                 ⎞\n",
       "               0         ⎥, ⎡0  0  0  0  0⎤⎟\n",
       "                         ⎥  ⎢             ⎥⎟\n",
       "                         ⎥  ⎢0  0  0  0  0⎥⎟\n",
       "               0         ⎥  ⎢             ⎥⎟\n",
       "                         ⎥  ⎢0  0  0  0  0⎥⎟\n",
       "y + 4          0         ⎥  ⎢             ⎥⎟\n",
       "                         ⎥  ⎢0  0  0  0  0⎥⎟\n",
       "                         ⎥  ⎢             ⎥⎟\n",
       "       -x⋅y + x - 2⋅y + 2⎥  ⎣0  0  0  0  0⎦⎟\n",
       "                         ⎥                 ⎟\n",
       "              2          ⎥                 ⎟\n",
       " - 8       4⋅x  - 16     ⎦                 ⎠"
      ]
     },
     "execution_count": 53,
     "metadata": {},
     "output_type": "execute_result"
    }
   ],
   "source": [
    "GAM(A,4),GAM(B,4),GAM(C,4),simplify(GAM(A,4)*GAM(B,4)-GAM(B,4)*GAM(A,4)-GAM(C,4))"
   ]
  },
  {
   "cell_type": "code",
   "execution_count": null,
   "metadata": {
    "collapsed": true
   },
   "outputs": [],
   "source": []
  }
 ],
 "metadata": {
  "kernelspec": {
   "display_name": "Python 3",
   "language": "python",
   "name": "python3"
  },
  "language_info": {
   "codemirror_mode": {
    "name": "ipython",
    "version": 3
   },
   "file_extension": ".py",
   "mimetype": "text/x-python",
   "name": "python",
   "nbconvert_exporter": "python",
   "pygments_lexer": "ipython3",
   "version": "3.4.3"
  }
 },
 "nbformat": 4,
 "nbformat_minor": 0
}
