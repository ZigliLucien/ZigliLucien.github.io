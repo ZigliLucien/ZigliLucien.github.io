{
 "cells": [
  {
   "cell_type": "code",
   "execution_count": 20,
   "metadata": {
    "slideshow": {
     "slide_type": "skip"
    }
   },
   "outputs": [],
   "source": [
    "from sympy import *\n",
    "from IPython.display import *\n",
    "init_printing()\n",
    "var('a:z'),var('Phi'),var('N');"
   ]
  },
  {
   "cell_type": "markdown",
   "metadata": {
    "slideshow": {
     "slide_type": "slide"
    }
   },
   "source": [
    "# Generating Functions\n",
    "\n",
    "<pre>\n",
    "\n",
    "\n",
    "</pre>\n",
    "\n",
    "$$(1+v)^{N-j}(1-v)^j=\\sum_{i=0}^N v^i\\,\\phi_{i}(j)$$\n",
    "\n",
    "### where the functions $\\phi_i$ are polynomials in $j$\n",
    "\n",
    "## i.e., Krawtchouk polynomials\n",
    "\n",
    "First, we  look at the values of the polynomials.\n"
   ]
  },
  {
   "cell_type": "code",
   "execution_count": 21,
   "metadata": {
    "slideshow": {
     "slide_type": "slide"
    }
   },
   "outputs": [
    {
     "name": "stdout",
     "output_type": "stream",
     "text": [
      "N=2\n"
     ]
    },
    {
     "data": {
      "image/png": "[encoded data removed]",
      "text/latex": [
       "$\\displaystyle \\left(v + 1\\right)^{2}$"
      ],
      "text/plain": [
       "       2\n",
       "(v + 1) "
      ]
     },
     "metadata": {},
     "output_type": "display_data"
    },
    {
     "data": {
      "image/png": "[encoded data removed]",
      "text/latex": [
       "$\\displaystyle v^{2} + 2 v + 1$"
      ],
      "text/plain": [
       " 2          \n",
       "v  + 2⋅v + 1"
      ]
     },
     "metadata": {},
     "output_type": "display_data"
    },
    {
     "data": {
      "text/latex": [
       "$\\displaystyle \\,$"
      ],
      "text/plain": [
       "<IPython.core.display.Math object>"
      ]
     },
     "metadata": {},
     "output_type": "display_data"
    },
    {
     "data": {
      "image/png": "[encoded data removed]",
      "text/latex": [
       "$\\displaystyle \\left(1 - v\\right) \\left(v + 1\\right)$"
      ],
      "text/plain": [
       "(1 - v)⋅(v + 1)"
      ]
     },
     "metadata": {},
     "output_type": "display_data"
    },
    {
     "data": {
      "image/png": "[encoded data removed]",
      "text/latex": [
       "$\\displaystyle 1 - v^{2}$"
      ],
      "text/plain": [
       "     2\n",
       "1 - v "
      ]
     },
     "metadata": {},
     "output_type": "display_data"
    },
    {
     "data": {
      "text/latex": [
       "$\\displaystyle \\,$"
      ],
      "text/plain": [
       "<IPython.core.display.Math object>"
      ]
     },
     "metadata": {},
     "output_type": "display_data"
    },
    {
     "data": {
      "image/png": "[encoded data removed]",
      "text/latex": [
       "$\\displaystyle \\left(1 - v\\right)^{2}$"
      ],
      "text/plain": [
       "       2\n",
       "(1 - v) "
      ]
     },
     "metadata": {},
     "output_type": "display_data"
    },
    {
     "data": {
      "image/png": "[encoded data removed]",
      "text/latex": [
       "$\\displaystyle v^{2} - 2 v + 1$"
      ],
      "text/plain": [
       " 2          \n",
       "v  - 2⋅v + 1"
      ]
     },
     "metadata": {},
     "output_type": "display_data"
    },
    {
     "data": {
      "text/latex": [
       "$\\displaystyle \\,$"
      ],
      "text/plain": [
       "<IPython.core.display.Math object>"
      ]
     },
     "metadata": {},
     "output_type": "display_data"
    }
   ],
   "source": [
    "N=2\n",
    "print('N='+str(N))\n",
    "\n",
    "for j in range(N+1):\n",
    "        display((1+v)**(N-j)*(1-v)**j,expand((1+v)**(N-j)*(1-v)**j))\n",
    "        display(Math('\\,'))        \n",
    "     "
   ]
  },
  {
   "cell_type": "code",
   "execution_count": 22,
   "metadata": {
    "slideshow": {
     "slide_type": "slide"
    }
   },
   "outputs": [
    {
     "name": "stdout",
     "output_type": "stream",
     "text": [
      "N=3\n"
     ]
    },
    {
     "data": {
      "image/png": "[encoded data removed]",
      "text/latex": [
       "$\\displaystyle \\left(v + 1\\right)^{3}$"
      ],
      "text/plain": [
       "       3\n",
       "(v + 1) "
      ]
     },
     "metadata": {},
     "output_type": "display_data"
    },
    {
     "data": {
      "image/png": "[encoded data removed]",
      "text/latex": [
       "$\\displaystyle v^{3} + 3 v^{2} + 3 v + 1$"
      ],
      "text/plain": [
       " 3      2          \n",
       "v  + 3⋅v  + 3⋅v + 1"
      ]
     },
     "metadata": {},
     "output_type": "display_data"
    },
    {
     "data": {
      "text/latex": [
       "$\\displaystyle \\,$"
      ],
      "text/plain": [
       "<IPython.core.display.Math object>"
      ]
     },
     "metadata": {},
     "output_type": "display_data"
    },
    {
     "data": {
      "image/png": "[encoded data removed]",
      "text/latex": [
       "$\\displaystyle \\left(1 - v\\right) \\left(v + 1\\right)^{2}$"
      ],
      "text/plain": [
       "               2\n",
       "(1 - v)⋅(v + 1) "
      ]
     },
     "metadata": {},
     "output_type": "display_data"
    },
    {
     "data": {
      "image/png": "[encoded data removed]",
      "text/latex": [
       "$\\displaystyle - v^{3} - v^{2} + v + 1$"
      ],
      "text/plain": [
       "   3    2        \n",
       "- v  - v  + v + 1"
      ]
     },
     "metadata": {},
     "output_type": "display_data"
    },
    {
     "data": {
      "text/latex": [
       "$\\displaystyle \\,$"
      ],
      "text/plain": [
       "<IPython.core.display.Math object>"
      ]
     },
     "metadata": {},
     "output_type": "display_data"
    },
    {
     "data": {
      "image/png": "[encoded data removed]",
      "text/latex": [
       "$\\displaystyle \\left(1 - v\\right)^{2} \\left(v + 1\\right)$"
      ],
      "text/plain": [
       "       2        \n",
       "(1 - v) ⋅(v + 1)"
      ]
     },
     "metadata": {},
     "output_type": "display_data"
    },
    {
     "data": {
      "image/png": "[encoded data removed]",
      "text/latex": [
       "$\\displaystyle v^{3} - v^{2} - v + 1$"
      ],
      "text/plain": [
       " 3    2        \n",
       "v  - v  - v + 1"
      ]
     },
     "metadata": {},
     "output_type": "display_data"
    },
    {
     "data": {
      "text/latex": [
       "$\\displaystyle \\,$"
      ],
      "text/plain": [
       "<IPython.core.display.Math object>"
      ]
     },
     "metadata": {},
     "output_type": "display_data"
    },
    {
     "data": {
      "image/png": "[encoded data removed]",
      "text/latex": [
       "$\\displaystyle \\left(1 - v\\right)^{3}$"
      ],
      "text/plain": [
       "       3\n",
       "(1 - v) "
      ]
     },
     "metadata": {},
     "output_type": "display_data"
    },
    {
     "data": {
      "image/png": "[encoded data removed]",
      "text/latex": [
       "$\\displaystyle - v^{3} + 3 v^{2} - 3 v + 1$"
      ],
      "text/plain": [
       "   3      2          \n",
       "- v  + 3⋅v  - 3⋅v + 1"
      ]
     },
     "metadata": {},
     "output_type": "display_data"
    },
    {
     "data": {
      "text/latex": [
       "$\\displaystyle \\,$"
      ],
      "text/plain": [
       "<IPython.core.display.Math object>"
      ]
     },
     "metadata": {},
     "output_type": "display_data"
    }
   ],
   "source": [
    "N=3\n",
    "print('N='+str(N))\n",
    "\n",
    "for j in range(N+1):\n",
    "        display((1+v)**(N-j)*(1-v)**j,expand((1+v)**(N-j)*(1-v)**j))\n",
    "        display(Math('\\,'))        \n",
    "     "
   ]
  },
  {
   "cell_type": "code",
   "execution_count": 23,
   "metadata": {
    "slideshow": {
     "slide_type": "slide"
    }
   },
   "outputs": [
    {
     "name": "stdout",
     "output_type": "stream",
     "text": [
      "N=4\n"
     ]
    },
    {
     "data": {
      "image/png": "[encoded data removed]",
      "text/latex": [
       "$\\displaystyle \\left(v + 1\\right)^{4}$"
      ],
      "text/plain": [
       "       4\n",
       "(v + 1) "
      ]
     },
     "metadata": {},
     "output_type": "display_data"
    },
    {
     "data": {
      "image/png": "[encoded data removed]",
      "text/latex": [
       "$\\displaystyle v^{4} + 4 v^{3} + 6 v^{2} + 4 v + 1$"
      ],
      "text/plain": [
       " 4      3      2          \n",
       "v  + 4⋅v  + 6⋅v  + 4⋅v + 1"
      ]
     },
     "metadata": {},
     "output_type": "display_data"
    },
    {
     "data": {
      "text/latex": [
       "$\\displaystyle \\,$"
      ],
      "text/plain": [
       "<IPython.core.display.Math object>"
      ]
     },
     "metadata": {},
     "output_type": "display_data"
    },
    {
     "data": {
      "image/png": "[encoded data removed]",
      "text/latex": [
       "$\\displaystyle \\left(1 - v\\right) \\left(v + 1\\right)^{3}$"
      ],
      "text/plain": [
       "               3\n",
       "(1 - v)⋅(v + 1) "
      ]
     },
     "metadata": {},
     "output_type": "display_data"
    },
    {
     "data": {
      "image/png": "[encoded data removed]",
      "text/latex": [
       "$\\displaystyle - v^{4} - 2 v^{3} + 2 v + 1$"
      ],
      "text/plain": [
       "   4      3          \n",
       "- v  - 2⋅v  + 2⋅v + 1"
      ]
     },
     "metadata": {},
     "output_type": "display_data"
    },
    {
     "data": {
      "text/latex": [
       "$\\displaystyle \\,$"
      ],
      "text/plain": [
       "<IPython.core.display.Math object>"
      ]
     },
     "metadata": {},
     "output_type": "display_data"
    },
    {
     "data": {
      "image/png": "[encoded data removed]",
      "text/latex": [
       "$\\displaystyle \\left(1 - v\\right)^{2} \\left(v + 1\\right)^{2}$"
      ],
      "text/plain": [
       "       2        2\n",
       "(1 - v) ⋅(v + 1) "
      ]
     },
     "metadata": {},
     "output_type": "display_data"
    },
    {
     "data": {
      "image/png": "[encoded data removed]",
      "text/latex": [
       "$\\displaystyle v^{4} - 2 v^{2} + 1$"
      ],
      "text/plain": [
       " 4      2    \n",
       "v  - 2⋅v  + 1"
      ]
     },
     "metadata": {},
     "output_type": "display_data"
    },
    {
     "data": {
      "text/latex": [
       "$\\displaystyle \\,$"
      ],
      "text/plain": [
       "<IPython.core.display.Math object>"
      ]
     },
     "metadata": {},
     "output_type": "display_data"
    },
    {
     "data": {
      "image/png": "[encoded data removed]",
      "text/latex": [
       "$\\displaystyle \\left(1 - v\\right)^{3} \\left(v + 1\\right)$"
      ],
      "text/plain": [
       "       3        \n",
       "(1 - v) ⋅(v + 1)"
      ]
     },
     "metadata": {},
     "output_type": "display_data"
    },
    {
     "data": {
      "image/png": "[encoded data removed]",
      "text/latex": [
       "$\\displaystyle - v^{4} + 2 v^{3} - 2 v + 1$"
      ],
      "text/plain": [
       "   4      3          \n",
       "- v  + 2⋅v  - 2⋅v + 1"
      ]
     },
     "metadata": {},
     "output_type": "display_data"
    },
    {
     "data": {
      "text/latex": [
       "$\\displaystyle \\,$"
      ],
      "text/plain": [
       "<IPython.core.display.Math object>"
      ]
     },
     "metadata": {},
     "output_type": "display_data"
    },
    {
     "data": {
      "image/png": "[encoded data removed]",
      "text/latex": [
       "$\\displaystyle \\left(1 - v\\right)^{4}$"
      ],
      "text/plain": [
       "       4\n",
       "(1 - v) "
      ]
     },
     "metadata": {},
     "output_type": "display_data"
    },
    {
     "data": {
      "image/png": "[encoded data removed]",
      "text/latex": [
       "$\\displaystyle v^{4} - 4 v^{3} + 6 v^{2} - 4 v + 1$"
      ],
      "text/plain": [
       " 4      3      2          \n",
       "v  - 4⋅v  + 6⋅v  - 4⋅v + 1"
      ]
     },
     "metadata": {},
     "output_type": "display_data"
    },
    {
     "data": {
      "text/latex": [
       "$\\displaystyle \\,$"
      ],
      "text/plain": [
       "<IPython.core.display.Math object>"
      ]
     },
     "metadata": {},
     "output_type": "display_data"
    }
   ],
   "source": [
    "N=4\n",
    "print('N='+str(N))\n",
    "\n",
    "for j in range(N+1):\n",
    "       display((1+v)**(N-j)*(1-v)**j,expand((1+v)**(N-j)*(1-v)**j))\n",
    "       display(Math('\\,'))       \n",
    "     "
   ]
  },
  {
   "cell_type": "code",
   "execution_count": 24,
   "metadata": {
    "slideshow": {
     "slide_type": "slide"
    }
   },
   "outputs": [
    {
     "name": "stdout",
     "output_type": "stream",
     "text": [
      "N=5\n"
     ]
    },
    {
     "data": {
      "image/png": "[encoded data removed]",
      "text/latex": [
       "$\\displaystyle \\left(v + 1\\right)^{5}$"
      ],
      "text/plain": [
       "       5\n",
       "(v + 1) "
      ]
     },
     "metadata": {},
     "output_type": "display_data"
    },
    {
     "data": {
      "image/png": "[encoded data removed]",
      "text/latex": [
       "$\\displaystyle v^{5} + 5 v^{4} + 10 v^{3} + 10 v^{2} + 5 v + 1$"
      ],
      "text/plain": [
       " 5      4       3       2          \n",
       "v  + 5⋅v  + 10⋅v  + 10⋅v  + 5⋅v + 1"
      ]
     },
     "metadata": {},
     "output_type": "display_data"
    },
    {
     "data": {
      "text/latex": [
       "$\\displaystyle \\,$"
      ],
      "text/plain": [
       "<IPython.core.display.Math object>"
      ]
     },
     "metadata": {},
     "output_type": "display_data"
    },
    {
     "data": {
      "image/png": "[encoded data removed]",
      "text/latex": [
       "$\\displaystyle \\left(1 - v\\right) \\left(v + 1\\right)^{4}$"
      ],
      "text/plain": [
       "               4\n",
       "(1 - v)⋅(v + 1) "
      ]
     },
     "metadata": {},
     "output_type": "display_data"
    },
    {
     "data": {
      "image/png": "[encoded data removed]",
      "text/latex": [
       "$\\displaystyle - v^{5} - 3 v^{4} - 2 v^{3} + 2 v^{2} + 3 v + 1$"
      ],
      "text/plain": [
       "   5      4      3      2          \n",
       "- v  - 3⋅v  - 2⋅v  + 2⋅v  + 3⋅v + 1"
      ]
     },
     "metadata": {},
     "output_type": "display_data"
    },
    {
     "data": {
      "text/latex": [
       "$\\displaystyle \\,$"
      ],
      "text/plain": [
       "<IPython.core.display.Math object>"
      ]
     },
     "metadata": {},
     "output_type": "display_data"
    },
    {
     "data": {
      "image/png": "[encoded data removed]",
      "text/latex": [
       "$\\displaystyle \\left(1 - v\\right)^{2} \\left(v + 1\\right)^{3}$"
      ],
      "text/plain": [
       "       2        3\n",
       "(1 - v) ⋅(v + 1) "
      ]
     },
     "metadata": {},
     "output_type": "display_data"
    },
    {
     "data": {
      "image/png": "[encoded data removed]",
      "text/latex": [
       "$\\displaystyle v^{5} + v^{4} - 2 v^{3} - 2 v^{2} + v + 1$"
      ],
      "text/plain": [
       " 5    4      3      2        \n",
       "v  + v  - 2⋅v  - 2⋅v  + v + 1"
      ]
     },
     "metadata": {},
     "output_type": "display_data"
    },
    {
     "data": {
      "text/latex": [
       "$\\displaystyle \\,$"
      ],
      "text/plain": [
       "<IPython.core.display.Math object>"
      ]
     },
     "metadata": {},
     "output_type": "display_data"
    },
    {
     "data": {
      "image/png": "[encoded data removed]",
      "text/latex": [
       "$\\displaystyle \\left(1 - v\\right)^{3} \\left(v + 1\\right)^{2}$"
      ],
      "text/plain": [
       "       3        2\n",
       "(1 - v) ⋅(v + 1) "
      ]
     },
     "metadata": {},
     "output_type": "display_data"
    },
    {
     "data": {
      "image/png": "[encoded data removed]",
      "text/latex": [
       "$\\displaystyle - v^{5} + v^{4} + 2 v^{3} - 2 v^{2} - v + 1$"
      ],
      "text/plain": [
       "   5    4      3      2        \n",
       "- v  + v  + 2⋅v  - 2⋅v  - v + 1"
      ]
     },
     "metadata": {},
     "output_type": "display_data"
    },
    {
     "data": {
      "text/latex": [
       "$\\displaystyle \\,$"
      ],
      "text/plain": [
       "<IPython.core.display.Math object>"
      ]
     },
     "metadata": {},
     "output_type": "display_data"
    },
    {
     "data": {
      "image/png": "[encoded data removed]",
      "text/latex": [
       "$\\displaystyle \\left(1 - v\\right)^{4} \\left(v + 1\\right)$"
      ],
      "text/plain": [
       "       4        \n",
       "(1 - v) ⋅(v + 1)"
      ]
     },
     "metadata": {},
     "output_type": "display_data"
    },
    {
     "data": {
      "image/png": "[encoded data removed]",
      "text/latex": [
       "$\\displaystyle v^{5} - 3 v^{4} + 2 v^{3} + 2 v^{2} - 3 v + 1$"
      ],
      "text/plain": [
       " 5      4      3      2          \n",
       "v  - 3⋅v  + 2⋅v  + 2⋅v  - 3⋅v + 1"
      ]
     },
     "metadata": {},
     "output_type": "display_data"
    },
    {
     "data": {
      "text/latex": [
       "$\\displaystyle \\,$"
      ],
      "text/plain": [
       "<IPython.core.display.Math object>"
      ]
     },
     "metadata": {},
     "output_type": "display_data"
    },
    {
     "data": {
      "image/png": "[encoded data removed]",
      "text/latex": [
       "$\\displaystyle \\left(1 - v\\right)^{5}$"
      ],
      "text/plain": [
       "       5\n",
       "(1 - v) "
      ]
     },
     "metadata": {},
     "output_type": "display_data"
    },
    {
     "data": {
      "image/png": "[encoded data removed]",
      "text/latex": [
       "$\\displaystyle - v^{5} + 5 v^{4} - 10 v^{3} + 10 v^{2} - 5 v + 1$"
      ],
      "text/plain": [
       "   5      4       3       2          \n",
       "- v  + 5⋅v  - 10⋅v  + 10⋅v  - 5⋅v + 1"
      ]
     },
     "metadata": {},
     "output_type": "display_data"
    },
    {
     "data": {
      "text/latex": [
       "$\\displaystyle \\,$"
      ],
      "text/plain": [
       "<IPython.core.display.Math object>"
      ]
     },
     "metadata": {},
     "output_type": "display_data"
    }
   ],
   "source": [
    "N=5\n",
    "print('N='+str(N))\n",
    "\n",
    "for j in range(N+1):\n",
    "        display((1+v)**(N-j)*(1-v)**j,expand((1+v)**(N-j)*(1-v)**j))\n",
    "        display(Math('\\,'))        \n",
    "     "
   ]
  }
 ],
 "metadata": {
  "kernelspec": {
   "display_name": "Python 3",
   "language": "python",
   "name": "python3"
  },
  "language_info": {
   "codemirror_mode": {
    "name": "ipython",
    "version": 3
   },
   "file_extension": ".py",
   "mimetype": "text/x-python",
   "name": "python",
   "nbconvert_exporter": "python",
   "pygments_lexer": "ipython3",
   "version": "3.7.3"
  }
 },
 "nbformat": 4,
 "nbformat_minor": 2
}
