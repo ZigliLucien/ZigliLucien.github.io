{
 "cells": [
  {
   "cell_type": "markdown",
   "metadata": {},
   "source": [
    "# Eigenvectors from Eigenvalues"
   ]
  },
  {
   "cell_type": "markdown",
   "metadata": {},
   "source": [
    "We are given a Hermitian matrix $A$, say, $n\\times n$ with $n$ distinct eigenvalues $\\lambda_i$ and corresponding orthonormal eigenvectors $v_i$."
   ]
  },
  {
   "cell_type": "markdown",
   "metadata": {},
   "source": [
    "Let $M_j$ denote the minor submatrix formed by deleting row $j$ and column $j$ of $A$. Denote the\n",
    "eigenvalues of $M_j$ by $\\{\\lambda_k(M_j)\\}_{1\\le k <n}$.\n"
   ]
  },
  {
   "cell_type": "markdown",
   "metadata": {},
   "source": [
    "## Some References\n",
    "\n",
    "[Quanta magazine article](https://www.quantamagazine.org/neutrinos-lead-to-unexpected-discovery-in-basic-math-20191113/)\n",
    "\n",
    "[Article by 3 Physicists and Tao](https://arxiv.org/pdf/1908.03795.pdf)\n",
    "\n",
    "[Article in Graph Theory context](https://arxiv.org/pdf/1401.4580.pdf)\n",
    "\n",
    "In the first arxiv article a substantive discussion of the basic identity is presented as well as an\n",
    "interesting starting point for discussing referencing of mathematical work. Most worthwhile."
   ]
  },
  {
   "cell_type": "markdown",
   "metadata": {},
   "source": [
    "## Basic Identity\n",
    "\n",
    "Denote the components of the vector $v_i$ by $v_{ij}$, $1 \\le j \\le n$.\n",
    "\n",
    "Then\n",
    "\n",
    "$$|v_{ij}^2|=\\frac{\\displaystyle\n",
    "    \\prod_{1\\le k <n}\\bigl(\\lambda_i-\\lambda_k(M_j)\\bigr)}\n",
    "    {\\displaystyle \\prod_{k\\ne i}\\bigl(\\lambda_i-\\lambda_k\\bigr)}$$\n",
    "\n",
    "where the denominator is non-vanishing under the assumption of no repeated eigenvalues.Tao"
   ]
  },
  {
   "cell_type": "markdown",
   "metadata": {},
   "source": [
    "Note that the characteristic polynomial, $\\det(xI-A)$ of $A$ has the form\n",
    "\n",
    "$$p(x)=(x-\\lambda_1)(x-\\lambda_2)\\cdots(x-\\lambda_n)$$\n",
    "\n",
    "and the characteristic polynomial of $M_j$ looks like\n",
    "\n",
    "$$f_j(x)=(x-\\lambda_1(M_j))(x-\\lambda_2(M_j))\\cdots(x-\\lambda_{n-1}(M_j))$$"
   ]
  },
  {
   "cell_type": "markdown",
   "metadata": {},
   "source": [
    "Observe that the numerator is exactly $f_j(\\lambda_i)$. For the denominator, note that to take out the missing \n",
    "factor corresponding to $\\lambda_i-\\lambda_i$, form $p(x)/(x-\\lambda_i)$ and we have\n",
    "\n",
    "$$\\prod_{k\\ne i}(\\lambda_i-\\lambda_k)=\\lim_{x\\to\\lambda_i}p(x)/(x-\\lambda_i)=\n",
    "\\lim_{x\\to\\lambda_i}\\frac{p(x)-p(\\lambda_i)}{x-\\lambda_i}\n",
    "=p'(\\lambda_i)$$\n",
    "\n",
    "with $p'$ the derivative of $p$."
   ]
  },
  {
   "cell_type": "markdown",
   "metadata": {},
   "source": [
    "We thus have\n",
    "\n",
    "$$|v_{ij}^2|=\\frac{f_j(\\lambda_i)}{p'(\\lambda_i)}\\ .$$"
   ]
  },
  {
   "cell_type": "markdown",
   "metadata": {},
   "source": [
    "## Projections\n",
    "\n",
    "For a Hermitian matrix with $n$ distinct eigenvalues the spectral theorem takes the form\n",
    "$$A=\\sum_{i=1}^n \\lambda_i P_i$$\n",
    "where $P_i$ are orthogonal projections onto the corresponding eigenspaces.\n",
    "\n",
    "The Dirac notation $P_i=|i\\rangle\\langle i|$, for the rank-one projection $P_i$ can be written\n",
    "$$P_i=v_iv_i^*$$\n",
    "the ${}^*$ denoting conjugate transpose. I.e., we have for the $rs$ entry,\n",
    "$$(P_i)_{rs}=v_{ir}\\overline{v_{is}}$$\n",
    "\n",
    "In other words, the components\n",
    "$$|v_{ij}|^2=(P_i)_{jj}$$\n",
    "are the diagonal entries of the projection $P_i$."
   ]
  },
  {
   "cell_type": "markdown",
   "metadata": {},
   "source": [
    "In terms of the matrix $A$, we can use the Lagrange interpolation form\n",
    "$$P_i=\\prod_{k\\ne i}\\frac{A-\\lambda_k I}{\\lambda_i-\\lambda_k}$$\n",
    "noting that $P_iv_i=v_i$ and $P_iv_j=0$, so that indeed $P^2=P$ and projects onto the subspace spanned by $v_i$."
   ]
  },
  {
   "cell_type": "markdown",
   "metadata": {},
   "source": [
    "## Adjugate\n",
    "\n",
    "The adjugate matrix, ${\\rm adj(}X)$, satisfies\n",
    "$${\\rm adj(}X)\\,X=X\\,{\\rm adj(}X)=(\\det X)\\,I$$\n",
    "\n",
    "\n",
    "For invertible $X$, we have\n",
    "$$X^{-1}=\\frac{{\\rm adj(}X)}{\\det X}$$\n",
    "\n",
    "Using the spectral theorem for $A$, we have\n",
    "$${\\rm adj(}xI-A)=\\det(xI-A)\\,(xI-A)^{-1}=\\sum_k\\frac{p(x)}{x-\\lambda_k}\\,P_k$$\n",
    "Taking the limit $x\\to\\lambda_i$ yields, as noted above for the right-hand side,\n",
    "$${\\rm adj(}\\lambda_iI-A)=p'(\\lambda_i)\\,P_i$$\n",
    "the terms for $k\\ne i$ vanishing."
   ]
  },
  {
   "cell_type": "markdown",
   "metadata": {},
   "source": [
    "Now recall Cramer's Rule, that the entries of the adjugate of $X$ are the cofactors of the elements of $X$,\n",
    "signed minors, with the adjugate formed by transposing the matrix of cofactors. We want the diagonal entries\n",
    "$(P_i)_{jj}$. The $jj$ entry of ${\\rm adj(}\\lambda_iI-A)$ is precisely the $jj$ minor \n",
    "$\\det(\\lambda_iI-M_j)=f_j(\\lambda_i)$ as required."
   ]
  }
 ],
 "metadata": {
  "kernelspec": {
   "display_name": "Python 3",
   "language": "python",
   "name": "python3"
  },
  "language_info": {
   "codemirror_mode": {
    "name": "ipython",
    "version": 3
   },
   "file_extension": ".py",
   "mimetype": "text/x-python",
   "name": "python",
   "nbconvert_exporter": "python",
   "pygments_lexer": "ipython3",
   "version": "3.7.3"
  }
 },
 "nbformat": 4,
 "nbformat_minor": 2
}
