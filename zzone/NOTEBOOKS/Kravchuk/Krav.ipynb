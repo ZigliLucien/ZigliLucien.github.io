{
 "cells": [
  {
   "cell_type": "code",
   "execution_count": 22,
   "metadata": {
    "collapsed": false
   },
   "outputs": [
    {
     "name": "stdout",
     "output_type": "stream",
     "text": [
      "Populating the interactive namespace from numpy and matplotlib\n"
     ]
    }
   ],
   "source": [
    "%pylab inline"
   ]
  },
  {
   "cell_type": "code",
   "execution_count": 23,
   "metadata": {
    "collapsed": true
   },
   "outputs": [],
   "source": [
    "from sympy import *"
   ]
  },
  {
   "cell_type": "code",
   "execution_count": 24,
   "metadata": {
    "collapsed": true
   },
   "outputs": [],
   "source": [
    "init_printing()"
   ]
  },
  {
   "cell_type": "code",
   "execution_count": 25,
   "metadata": {
    "collapsed": false
   },
   "outputs": [],
   "source": [
    "def krav(N):\n",
    "    K=np.zeros((N+1,N+1),dtype=int)\n",
    "    for i in range(N+1):\n",
    "        K[i,N]=int(binomial(N,i)*(-1)**i)\n",
    "        K[0,i]=1\n",
    "\n",
    "    for i in range(1,N+1):\n",
    "        for j in range(N,0,-1):\n",
    "            K[i,j-1]=K[i-1,j-1]+K[i-1,j]+K[i,j]\n",
    "    return K            "
   ]
  },
  {
   "cell_type": "code",
   "execution_count": 26,
   "metadata": {
    "collapsed": false,
    "scrolled": true
   },
   "outputs": [
    {
     "name": "stdout",
     "output_type": "stream",
     "text": [
      "K[1] = \n",
      "[[ 1  1]\n",
      " [ 1 -1]]\n",
      "K[2] = \n",
      "[[ 1  1  1]\n",
      " [ 2  0 -2]\n",
      " [ 1 -1  1]]\n",
      "K[3] = \n",
      "[[ 1  1  1  1]\n",
      " [ 3  1 -1 -3]\n",
      " [ 3 -1 -1  3]\n",
      " [ 1 -1  1 -1]]\n",
      "K[4] = \n",
      "[[ 1  1  1  1  1]\n",
      " [ 4  2  0 -2 -4]\n",
      " [ 6  0 -2  0  6]\n",
      " [ 4 -2  0  2 -4]\n",
      " [ 1 -1  1 -1  1]]\n",
      "K[5] = \n",
      "[[  1   1   1   1   1   1]\n",
      " [  5   3   1  -1  -3  -5]\n",
      " [ 10   2  -2  -2   2  10]\n",
      " [ 10  -2  -2   2   2 -10]\n",
      " [  5  -3   1   1  -3   5]\n",
      " [  1  -1   1  -1   1  -1]]\n",
      "K[6] = \n",
      "[[  1   1   1   1   1   1   1]\n",
      " [  6   4   2   0  -2  -4  -6]\n",
      " [ 15   5  -1  -3  -1   5  15]\n",
      " [ 20   0  -4   0   4   0 -20]\n",
      " [ 15  -5  -1   3  -1  -5  15]\n",
      " [  6  -4   2   0  -2   4  -6]\n",
      " [  1  -1   1  -1   1  -1   1]]\n",
      "K[7] = \n",
      "[[  1   1   1   1   1   1   1   1]\n",
      " [  7   5   3   1  -1  -3  -5  -7]\n",
      " [ 21   9   1  -3  -3   1   9  21]\n",
      " [ 35   5  -5  -3   3   5  -5 -35]\n",
      " [ 35  -5  -5   3   3  -5  -5  35]\n",
      " [ 21  -9   1   3  -3  -1   9 -21]\n",
      " [  7  -5   3  -1  -1   3  -5   7]\n",
      " [  1  -1   1  -1   1  -1   1  -1]]\n",
      "K[8] = \n",
      "[[  1   1   1   1   1   1   1   1   1]\n",
      " [  8   6   4   2   0  -2  -4  -6  -8]\n",
      " [ 28  14   4  -2  -4  -2   4  14  28]\n",
      " [ 56  14  -4  -6   0   6   4 -14 -56]\n",
      " [ 70   0 -10   0   6   0 -10   0  70]\n",
      " [ 56 -14  -4   6   0  -6   4  14 -56]\n",
      " [ 28 -14   4   2  -4   2   4 -14  28]\n",
      " [  8  -6   4  -2   0   2  -4   6  -8]\n",
      " [  1  -1   1  -1   1  -1   1  -1   1]]\n",
      "K[9] = \n",
      "[[   1    1    1    1    1    1    1    1    1    1]\n",
      " [   9    7    5    3    1   -1   -3   -5   -7   -9]\n",
      " [  36   20    8    0   -4   -4    0    8   20   36]\n",
      " [  84   28    0   -8   -4    4    8    0  -28  -84]\n",
      " [ 126   14  -14   -6    6    6   -6  -14   14  126]\n",
      " [ 126  -14  -14    6    6   -6   -6   14   14 -126]\n",
      " [  84  -28    0    8   -4   -4    8    0  -28   84]\n",
      " [  36  -20    8    0   -4    4    0   -8   20  -36]\n",
      " [   9   -7    5   -3    1    1   -3    5   -7    9]\n",
      " [   1   -1    1   -1    1   -1    1   -1    1   -1]]\n",
      "K[10] = \n",
      "[[   1    1    1    1    1    1    1    1    1    1    1]\n",
      " [  10    8    6    4    2    0   -2   -4   -6   -8  -10]\n",
      " [  45   27   13    3   -3   -5   -3    3   13   27   45]\n",
      " [ 120   48    8   -8   -8    0    8    8   -8  -48 -120]\n",
      " [ 210   42  -14  -14    2   10    2  -14  -14   42  210]\n",
      " [ 252    0  -28    0   12    0  -12    0   28    0 -252]\n",
      " [ 210  -42  -14   14    2  -10    2   14  -14  -42  210]\n",
      " [ 120  -48    8    8   -8    0    8   -8   -8   48 -120]\n",
      " [  45  -27   13   -3   -3    5   -3   -3   13  -27   45]\n",
      " [  10   -8    6   -4    2    0   -2    4   -6    8  -10]\n",
      " [   1   -1    1   -1    1   -1    1   -1    1   -1    1]]\n",
      "K[11] = \n",
      "[[   1    1    1    1    1    1    1    1    1    1    1    1]\n",
      " [  11    9    7    5    3    1   -1   -3   -5   -7   -9  -11]\n",
      " [  55   35   19    7   -1   -5   -5   -1    7   19   35   55]\n",
      " [ 165   75   21   -5  -11   -5    5   11    5  -21  -75 -165]\n",
      " [ 330   90   -6  -22   -6   10   10   -6  -22   -6   90  330]\n",
      " [ 462   42  -42  -14   14   10  -10  -14   14   42  -42 -462]\n",
      " [ 462  -42  -42   14   14  -10  -10   14   14  -42  -42  462]\n",
      " [ 330  -90   -6   22   -6  -10   10    6  -22    6   90 -330]\n",
      " [ 165  -75   21    5  -11    5    5  -11    5   21  -75  165]\n",
      " [  55  -35   19   -7   -1    5   -5    1    7  -19   35  -55]\n",
      " [  11   -9    7   -5    3   -1   -1    3   -5    7   -9   11]\n",
      " [   1   -1    1   -1    1   -1    1   -1    1   -1    1   -1]]\n",
      "K[12] = \n",
      "[[   1    1    1    1    1    1    1    1    1    1    1    1    1]\n",
      " [  12   10    8    6    4    2    0   -2   -4   -6   -8  -10  -12]\n",
      " [  66   44   26   12    2   -4   -6   -4    2   12   26   44   66]\n",
      " [ 220  110   40    2  -12  -10    0   10   12   -2  -40 -110 -220]\n",
      " [ 495  165   15  -27  -17    5   15    5  -17  -27   15  165  495]\n",
      " [ 792  132  -48  -36    8   20    0  -20   -8   36   48 -132 -792]\n",
      " [ 924    0  -84    0   28    0  -20    0   28    0  -84    0  924]\n",
      " [ 792 -132  -48   36    8  -20    0   20   -8  -36   48  132 -792]\n",
      " [ 495 -165   15   27  -17   -5   15   -5  -17   27   15 -165  495]\n",
      " [ 220 -110   40   -2  -12   10    0  -10   12    2  -40  110 -220]\n",
      " [  66  -44   26  -12    2    4   -6    4    2  -12   26  -44   66]\n",
      " [  12  -10    8   -6    4   -2    0    2   -4    6   -8   10  -12]\n",
      " [   1   -1    1   -1    1   -1    1   -1    1   -1    1   -1    1]]\n"
     ]
    }
   ],
   "source": [
    " for N in range(1,13):\n",
    "     K =krav(N)\n",
    "     y=\"K[\"+str(N)+\"] = \"\n",
    "     print(y)\n",
    "     print(K)"
   ]
  },
  {
   "cell_type": "code",
   "execution_count": 27,
   "metadata": {
    "collapsed": false
   },
   "outputs": [
    {
     "name": "stdout",
     "output_type": "stream",
     "text": [
      "True\n"
     ]
    },
    {
     "data": {
      "text/plain": [
       "array([-40.63218034,  40.63218034, -19.10843053, -11.65734975,\n",
       "        11.65734975,  19.10843053])"
      ]
     },
     "execution_count": 27,
     "metadata": {},
     "output_type": "execute_result"
    }
   ],
   "source": [
    "N=5\n",
    "K=krav(N)\n",
    "B=np.diag([int(binomial(N,i)) for i in range(N+1)])\n",
    "S=dot(K,B)\n",
    "print(not numpy.any(S-S.T))\n",
    "e=eig(S)\n",
    "e[0]"
   ]
  },
  {
   "cell_type": "code",
   "execution_count": 28,
   "metadata": {
    "collapsed": false
   },
   "outputs": [
    {
     "data": {
      "text/plain": [
       "(array([[  1,   1,   1,   1,   1,   1,   1,   1,   1],\n",
       "        [  8,   6,   4,   2,   0,  -2,  -4,  -6,  -8],\n",
       "        [ 28,  14,   4,  -2,  -4,  -2,   4,  14,  28],\n",
       "        [ 56,  14,  -4,  -6,   0,   6,   4, -14, -56],\n",
       "        [ 70,   0, -10,   0,   6,   0, -10,   0,  70],\n",
       "        [ 56, -14,  -4,   6,   0,  -6,   4,  14, -56],\n",
       "        [ 28, -14,   4,   2,  -4,   2,   4, -14,  28],\n",
       "        [  8,  -6,   4,  -2,   0,   2,  -4,   6,  -8],\n",
       "        [  1,  -1,   1,  -1,   1,  -1,   1,  -1,   1]]),\n",
       " array([12870,   858,   198,    90,    70,    90,   198,   858, 12870]),\n",
       " array([    9,   240,  2016,  6768, 10036,  6768,  2016,   240,     9]))"
      ]
     },
     "execution_count": 28,
     "metadata": {},
     "output_type": "execute_result"
    }
   ],
   "source": [
    "N=8\n",
    "X=krav(N)\n",
    "Y=np.multiply(X,X)\n",
    "X,sum(Y,axis=0),sum(Y,axis=1)"
   ]
  },
  {
   "cell_type": "code",
   "execution_count": 29,
   "metadata": {
    "collapsed": false
   },
   "outputs": [
    {
     "data": {
      "image/png": "[encoded data removed]",
      "text/latex": [
       "$$\\left [ 12870, \\quad 858, \\quad 198, \\quad 90, \\quad 70, \\quad 90, \\quad 198, \\quad 858, \\quad 12870\\right ]$$"
      ],
      "text/plain": [
       "[12870, 858, 198, 90, 70, 90, 198, 858, 12870]"
      ]
     },
     "execution_count": 29,
     "metadata": {},
     "output_type": "execute_result"
    }
   ],
   "source": [
    "rr=range(N+1)\n",
    "[binomial(2*N-2*j,N-j)*binomial(2*j,j)/binomial(N,j) for j in rr]"
   ]
  },
  {
   "cell_type": "code",
   "execution_count": 30,
   "metadata": {
    "collapsed": false
   },
   "outputs": [
    {
     "data": {
      "image/png": "[encoded data removed]",
      "text/latex": [
       "$$\\left [ 9, \\quad 240, \\quad 2016, \\quad 6768, \\quad 10036\\right ]$$"
      ],
      "text/plain": [
       "[9, 240, 2016, 6768, 10036]"
      ]
     },
     "execution_count": 30,
     "metadata": {},
     "output_type": "execute_result"
    }
   ],
   "source": [
    "mm=range(int(N/2)+1)\n",
    "[sum(binomial(N+1,2*k+1)*binomial(2*k,k)*binomial(N-2*k,m-k) for k in range(m+1))for m in mm]"
   ]
  },
  {
   "cell_type": "code",
   "execution_count": 31,
   "metadata": {
    "collapsed": false
   },
   "outputs": [
    {
     "data": {
      "image/png": "[encoded data removed]",
      "text/latex": [
       "$$70$$"
      ],
      "text/plain": [
       "70"
      ]
     },
     "execution_count": 31,
     "metadata": {},
     "output_type": "execute_result"
    }
   ],
   "source": [
    "binomial(8,4)"
   ]
  },
  {
   "cell_type": "code",
   "execution_count": 33,
   "metadata": {
    "collapsed": false
   },
   "outputs": [
    {
     "data": {
      "text/plain": [
       "array([[ 1,  1,  1,  1,  1],\n",
       "       [ 4,  2,  0, -2, -4],\n",
       "       [ 6,  0, -2,  0,  6],\n",
       "       [ 4, -2,  0,  2, -4],\n",
       "       [ 1, -1,  1, -1,  1]])"
      ]
     },
     "execution_count": 33,
     "metadata": {},
     "output_type": "execute_result"
    }
   ],
   "source": [
    "krav(4)"
   ]
  },
  {
   "cell_type": "code",
   "execution_count": null,
   "metadata": {
    "collapsed": true
   },
   "outputs": [],
   "source": []
  }
 ],
 "metadata": {
  "kernelspec": {
   "display_name": "Python 3",
   "language": "python",
   "name": "python3"
  },
  "language_info": {
   "codemirror_mode": {
    "name": "ipython",
    "version": 3
   },
   "file_extension": ".py",
   "mimetype": "text/x-python",
   "name": "python",
   "nbconvert_exporter": "python",
   "pygments_lexer": "ipython3",
   "version": "3.4.3"
  }
 },
 "nbformat": 4,
 "nbformat_minor": 0
}
