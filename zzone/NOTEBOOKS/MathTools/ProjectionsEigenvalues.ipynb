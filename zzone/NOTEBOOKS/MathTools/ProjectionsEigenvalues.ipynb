{
 "cells": [
  {
   "cell_type": "code",
   "execution_count": 240,
   "metadata": {},
   "outputs": [],
   "source": [
    "from sympy import *\n",
    "from IPython.display import *\n",
    "init_printing()"
   ]
  },
  {
   "cell_type": "code",
   "execution_count": 241,
   "metadata": {},
   "outputs": [
    {
     "data": {
      "image/png": "[encoded data removed]",
      "text/latex": [
       "$\\displaystyle \\left( a, \\  b, \\  c, \\  d, \\  e, \\  f, \\  g, \\  h, \\  i, \\  j, \\  k, \\  l, \\  m, \\  n, \\  o, \\  p, \\  q, \\  r, \\  s, \\  t, \\  u, \\  v, \\  w, \\  x, \\  y, \\  z\\right)$"
      ],
      "text/plain": [
       "(a, b, c, d, e, f, g, h, i, j, k, l, m, n, o, p, q, r, s, t, u, v, w, x, y, z)"
      ]
     },
     "execution_count": 241,
     "metadata": {},
     "output_type": "execute_result"
    }
   ],
   "source": [
    "var('a:z')"
   ]
  },
  {
   "cell_type": "code",
   "execution_count": 242,
   "metadata": {},
   "outputs": [],
   "source": [
    "def cpnd(E,k):\n",
    "    d=E.shape[0]\n",
    "    N=binomial(d,k)\n",
    "    Z=list(subsets(range(d),k))\n",
    "    return Matrix(N,N,lambda i,j: expand(det(E.extract(Z[i],Z[j]))))"
   ]
  },
  {
   "cell_type": "code",
   "execution_count": 243,
   "metadata": {},
   "outputs": [],
   "source": [
    "def matsub(p,X):\n",
    "    c=p.subs(x,0)\n",
    "    q=(p-c).expand()\n",
    "    d=X.shape[0]\n",
    "    return simplify(c*eye(d)+q.subs(x,X))\n"
   ]
  },
  {
   "cell_type": "code",
   "execution_count": 244,
   "metadata": {},
   "outputs": [],
   "source": [
    "def projs(X,p,ev):\n",
    "    if p.subs(x,ev).simplify()!=0:\n",
    "        return \"not a root\"\n",
    "    q=simplify(p/(x-ev))\n",
    "    qq=simplify(q/q.subs(x,ev))\n",
    "    return matsub(qq,X)\n",
    "\n",
    "    "
   ]
  },
  {
   "cell_type": "code",
   "execution_count": 245,
   "metadata": {},
   "outputs": [
    {
     "data": {
      "image/png": "[encoded data removed]",
      "text/latex": [
       "$\\displaystyle \\left[\\begin{matrix}-1 & 1 & 0 & 0\\\\1 & -2 & 1 & 0\\\\0 & 1 & -2 & 1\\\\0 & 0 & 1 & -1\\end{matrix}\\right]$"
      ],
      "text/plain": [
       "⎡-1  1   0   0 ⎤\n",
       "⎢              ⎥\n",
       "⎢1   -2  1   0 ⎥\n",
       "⎢              ⎥\n",
       "⎢0   1   -2  1 ⎥\n",
       "⎢              ⎥\n",
       "⎣0   0   1   -1⎦"
      ]
     },
     "execution_count": 245,
     "metadata": {},
     "output_type": "execute_result"
    }
   ],
   "source": [
    "X=Matrix(4,4,[-1,1,0,0,1,-2,1,0,0,1,-2,1,0,0,1,-1])\n",
    "X"
   ]
  },
  {
   "cell_type": "code",
   "execution_count": 187,
   "metadata": {},
   "outputs": [
    {
     "data": {
      "image/png": "[encoded data removed]",
      "text/latex": [
       "$\\displaystyle \\left[\\begin{matrix}0 & 1 & 0 & 0 & 0\\\\4 & 0 & 2 & 0 & 0\\\\0 & 3 & 0 & 3 & 0\\\\0 & 0 & 2 & 0 & 4\\\\0 & 0 & 0 & 1 & 0\\end{matrix}\\right]$"
      ],
      "text/plain": [
       "⎡0  1  0  0  0⎤\n",
       "⎢             ⎥\n",
       "⎢4  0  2  0  0⎥\n",
       "⎢             ⎥\n",
       "⎢0  3  0  3  0⎥\n",
       "⎢             ⎥\n",
       "⎢0  0  2  0  4⎥\n",
       "⎢             ⎥\n",
       "⎣0  0  0  1  0⎦"
      ]
     },
     "execution_count": 187,
     "metadata": {},
     "output_type": "execute_result"
    }
   ],
   "source": [
    "X=Matrix(5,5,[0,1,0,0,0,4,0,2,0,0,0,3,0,3,0,0,0,2,0,4,0,0,0,1,0])\n",
    "X"
   ]
  },
  {
   "cell_type": "code",
   "execution_count": 188,
   "metadata": {},
   "outputs": [
    {
     "data": {
      "image/png": "[encoded data removed]",
      "text/latex": [
       "$\\displaystyle \\left[\\begin{matrix}-1 & -1 & 2\\\\-1 & 1 & 0\\\\2 & 0 & -2\\end{matrix}\\right]$"
      ],
      "text/plain": [
       "⎡-1  -1  2 ⎤\n",
       "⎢          ⎥\n",
       "⎢-1  1   0 ⎥\n",
       "⎢          ⎥\n",
       "⎣2   0   -2⎦"
      ]
     },
     "execution_count": 188,
     "metadata": {},
     "output_type": "execute_result"
    }
   ],
   "source": [
    "X=Matrix(3,3,[-1,-1,2,-1,1,0,2,0,-2])\n",
    "X"
   ]
  },
  {
   "cell_type": "code",
   "execution_count": 212,
   "metadata": {},
   "outputs": [
    {
     "data": {
      "image/png": "[encoded data removed]",
      "text/latex": [
       "$\\displaystyle \\left[\\begin{matrix}0 & i\\\\- i & 0\\end{matrix}\\right]$"
      ],
      "text/plain": [
       "⎡0   ⅈ⎤\n",
       "⎢     ⎥\n",
       "⎣-ⅈ  0⎦"
      ]
     },
     "execution_count": 212,
     "metadata": {},
     "output_type": "execute_result"
    }
   ],
   "source": [
    "X=Matrix(2,2,[0,I,-I,0])\n",
    "X"
   ]
  },
  {
   "cell_type": "code",
   "execution_count": 262,
   "metadata": {},
   "outputs": [
    {
     "data": {
      "image/png": "[encoded data removed]",
      "text/latex": [
       "$\\displaystyle \\left[\\begin{matrix}3 & -6\\\\-6 & 3\\end{matrix}\\right]$"
      ],
      "text/plain": [
       "⎡3   -6⎤\n",
       "⎢      ⎥\n",
       "⎣-6  3 ⎦"
      ]
     },
     "execution_count": 262,
     "metadata": {},
     "output_type": "execute_result"
    }
   ],
   "source": [
    "X=Matrix(2,2,[3,-6,-6,3])\n",
    "X"
   ]
  },
  {
   "cell_type": "code",
   "execution_count": 214,
   "metadata": {},
   "outputs": [
    {
     "data": {
      "image/png": "[encoded data removed]",
      "text/latex": [
       "$\\displaystyle \\left[\\begin{matrix}1 & 4\\\\2 & 3\\end{matrix}\\right]$"
      ],
      "text/plain": [
       "⎡1  4⎤\n",
       "⎢    ⎥\n",
       "⎣2  3⎦"
      ]
     },
     "execution_count": 214,
     "metadata": {},
     "output_type": "execute_result"
    }
   ],
   "source": [
    "X=Matrix(2,2,[1,4,2,3])\n",
    "X"
   ]
  },
  {
   "cell_type": "code",
   "execution_count": 263,
   "metadata": {},
   "outputs": [
    {
     "data": {
      "image/png": "[encoded data removed]",
      "text/latex": [
       "$\\displaystyle \\left( \\left[\\begin{matrix}9\\\\-3\\end{matrix}\\right], \\  \\left(x - 9\\right) \\left(x + 3\\right), \\  \\left[ 1, \\  1\\right]\\right)$"
      ],
      "text/plain": [
       "⎛⎡9 ⎤                         ⎞\n",
       "⎜⎢  ⎥, (x - 9)⋅(x + 3), [1, 1]⎟\n",
       "⎝⎣-3⎦                         ⎠"
      ]
     },
     "execution_count": 263,
     "metadata": {},
     "output_type": "execute_result"
    }
   ],
   "source": [
    "evs=Matrix(list(X.eigenvals().keys()))\n",
    "minpoly=product(x-evs[k,0],(k,0,len(evs)-1))\n",
    "evs,minpoly,list(X.eigenvals().values())"
   ]
  },
  {
   "cell_type": "code",
   "execution_count": 264,
   "metadata": {},
   "outputs": [
    {
     "data": {
      "image/png": "[encoded data removed]",
      "text/latex": [
       "$\\displaystyle \\left[ \\left[\\begin{matrix}\\frac{1}{2} & - \\frac{1}{2}\\\\- \\frac{1}{2} & \\frac{1}{2}\\end{matrix}\\right], \\  \\left[\\begin{matrix}\\frac{1}{2} & \\frac{1}{2}\\\\\\frac{1}{2} & \\frac{1}{2}\\end{matrix}\\right]\\right]$"
      ],
      "text/plain": [
       "⎡⎡1/2   -1/2⎤  ⎡1/2  1/2⎤⎤\n",
       "⎢⎢          ⎥, ⎢        ⎥⎥\n",
       "⎣⎣-1/2  1/2 ⎦  ⎣1/2  1/2⎦⎦"
      ]
     },
     "execution_count": 264,
     "metadata": {},
     "output_type": "execute_result"
    }
   ],
   "source": [
    "PROJS=[projs(X,minpoly,evs[k]) for k in range(len(evs))]\n",
    "PROJS"
   ]
  },
  {
   "cell_type": "code",
   "execution_count": 265,
   "metadata": {},
   "outputs": [
    {
     "data": {
      "text/plain": [
       "'eigenvalue =9'"
      ]
     },
     "metadata": {},
     "output_type": "display_data"
    },
    {
     "data": {
      "image/png": "[encoded data removed]",
      "text/latex": [
       "$\\displaystyle \\frac{1}{2}$"
      ],
      "text/plain": [
       "1/2"
      ]
     },
     "metadata": {},
     "output_type": "display_data"
    },
    {
     "data": {
      "image/png": "[encoded data removed]",
      "text/latex": [
       "$\\displaystyle \\frac{1}{2}$"
      ],
      "text/plain": [
       "1/2"
      ]
     },
     "metadata": {},
     "output_type": "display_data"
    },
    {
     "data": {
      "text/plain": [
       "'eigenvalue =-3'"
      ]
     },
     "metadata": {},
     "output_type": "display_data"
    },
    {
     "data": {
      "image/png": "[encoded data removed]",
      "text/latex": [
       "$\\displaystyle \\frac{1}{2}$"
      ],
      "text/plain": [
       "1/2"
      ]
     },
     "metadata": {},
     "output_type": "display_data"
    },
    {
     "data": {
      "image/png": "[encoded data removed]",
      "text/latex": [
       "$\\displaystyle \\frac{1}{2}$"
      ],
      "text/plain": [
       "1/2"
      ]
     },
     "metadata": {},
     "output_type": "display_data"
    }
   ],
   "source": [
    "pp=X.charpoly(t).diff(t)\n",
    "dd=X.shape[0]\n",
    "for i in range(len(evs)):\n",
    "    display(\"eigenvalue =\"+str(evs[i]))\n",
    "    for j in range(dd):\n",
    "        Y=X.minorMatrix(j,j)\n",
    "        f=Y.charpoly(x)\n",
    "        arg=evs[i]\n",
    "        vijsquared=simplify(f.subs(x,arg)/pp.subs(t,arg))\n",
    "        display(vijsquared)\n",
    "        "
   ]
  },
  {
   "cell_type": "code",
   "execution_count": 266,
   "metadata": {},
   "outputs": [
    {
     "data": {
      "image/png": "[encoded data removed]",
      "text/latex": [
       "$\\displaystyle \\left[\\begin{matrix}\\frac{3 - t}{- t^{2} + 6 t + 27} & \\frac{6}{- t^{2} + 6 t + 27}\\\\\\frac{6}{- t^{2} + 6 t + 27} & \\frac{3 - t}{- t^{2} + 6 t + 27}\\end{matrix}\\right]$"
      ],
      "text/plain": [
       "⎡     3 - t              6       ⎤\n",
       "⎢───────────────  ───────────────⎥\n",
       "⎢   2                2           ⎥\n",
       "⎢- t  + 6⋅t + 27  - t  + 6⋅t + 27⎥\n",
       "⎢                                ⎥\n",
       "⎢       6              3 - t     ⎥\n",
       "⎢───────────────  ───────────────⎥\n",
       "⎢   2                2           ⎥\n",
       "⎣- t  + 6⋅t + 27  - t  + 6⋅t + 27⎦"
      ]
     },
     "execution_count": 266,
     "metadata": {},
     "output_type": "execute_result"
    }
   ],
   "source": [
    "dd=X.shape[0]\n",
    "simplify((t*eye(dd)-X).inv().expand())"
   ]
  },
  {
   "cell_type": "code",
   "execution_count": 267,
   "metadata": {},
   "outputs": [
    {
     "data": {
      "text/plain": [
       "True"
      ]
     },
     "execution_count": 267,
     "metadata": {},
     "output_type": "execute_result"
    }
   ],
   "source": [
    "dim=len(evs)\n",
    "M=zeros(dd)\n",
    "for i in range(dim):\n",
    "    M=M+PROJS[i]\n",
    "(M-eye(dd)).is_zero"
   ]
  },
  {
   "cell_type": "code",
   "execution_count": 268,
   "metadata": {},
   "outputs": [
    {
     "name": "stdout",
     "output_type": "stream",
     "text": [
      "True\n"
     ]
    }
   ],
   "source": [
    "M=zeros(dd)\n",
    "for i in range(dim):\n",
    "    M=M+evs[i]*PROJS[i]\n",
    "print((M-X).is_zero)"
   ]
  },
  {
   "cell_type": "code",
   "execution_count": 269,
   "metadata": {},
   "outputs": [
    {
     "data": {
      "image/png": "[encoded data removed]",
      "text/latex": [
       "$\\displaystyle \\left( \\left[\\begin{matrix}3\\end{matrix}\\right], \\  \\left[ 3\\right]\\right)$"
      ],
      "text/plain": [
       "([3], [3])"
      ]
     },
     "execution_count": 269,
     "metadata": {},
     "output_type": "execute_result"
    }
   ],
   "source": [
    "Y=X.minor_submatrix(0,0)\n",
    "evs=Matrix(list(Y.eigenvals().keys()))\n",
    "minpoly=product(x-evs[k,0],(k,0,len(evs)-1)).expand()\n",
    "Y,[simplify(evs[k]) for k in range(len(evs))]"
   ]
  },
  {
   "cell_type": "code",
   "execution_count": 270,
   "metadata": {},
   "outputs": [
    {
     "data": {
      "image/png": "[encoded data removed]",
      "text/latex": [
       "$\\displaystyle \\left( \\left[\\begin{matrix}0 & -6\\\\-6 & 3\\end{matrix}\\right], \\  \\left[\\begin{matrix}x & 6\\\\6 & x - 3\\end{matrix}\\right], \\  \\left[\\begin{matrix}x - 3 & -6\\\\-6 & x\\end{matrix}\\right]\\right)$"
      ],
      "text/plain": [
       "⎛⎡0   -6⎤  ⎡x    6  ⎤  ⎡x - 3  -6⎤⎞\n",
       "⎜⎢      ⎥, ⎢        ⎥, ⎢         ⎥⎟\n",
       "⎝⎣-6  3 ⎦  ⎣6  x - 3⎦  ⎣ -6    x ⎦⎠"
      ]
     },
     "execution_count": 270,
     "metadata": {},
     "output_type": "execute_result"
    }
   ],
   "source": [
    "X[0,0]=0\n",
    "X,cpnd(x*eye(dd)-X,dd-1),(x*eye(dd)-X).adjugate().expand()"
   ]
  },
  {
   "cell_type": "markdown",
   "metadata": {},
   "source": [
    "========================================================================="
   ]
  },
  {
   "cell_type": "markdown",
   "metadata": {},
   "source": [
    "ZRS Example"
   ]
  },
  {
   "cell_type": "code",
   "execution_count": 271,
   "metadata": {},
   "outputs": [
    {
     "data": {
      "image/png": "[encoded data removed]",
      "text/latex": [
       "$\\displaystyle \\left( \\left[\\begin{matrix}- x_{01} - x_{02} & x_{01} & x_{02} & 0\\\\0 & - x_{12} - x_{13} & x_{12} & x_{13}\\\\0 & 0 & 0 & 0\\\\0 & x_{31} & 0 & - x_{31}\\end{matrix}\\right], \\  \\left[\\begin{matrix}0\\\\0\\\\0\\\\0\\end{matrix}\\right]\\right)$"
      ],
      "text/plain": [
       "⎛⎡-x₀₁ - x₀₂     x₀₁      x₀₂   0  ⎤  ⎡0⎤⎞\n",
       "⎜⎢                                 ⎥  ⎢ ⎥⎟\n",
       "⎜⎢    0       -x₁₂ - x₁₃  x₁₂  x₁₃ ⎥  ⎢0⎥⎟\n",
       "⎜⎢                                 ⎥, ⎢ ⎥⎟\n",
       "⎜⎢    0           0        0    0  ⎥  ⎢0⎥⎟\n",
       "⎜⎢                                 ⎥  ⎢ ⎥⎟\n",
       "⎝⎣    0          x₃₁       0   -x₃₁⎦  ⎣0⎦⎠"
      ]
     },
     "execution_count": 271,
     "metadata": {},
     "output_type": "execute_result"
    }
   ],
   "source": [
    "de=4\n",
    "x=symbols('x:4:4')\n",
    "X=Matrix(4,4,x)\n",
    "X[0,2]=X[0,2];X[0,3]=0;\n",
    "for i in range(1,4):\n",
    "    X[i,0]=0\n",
    "\n",
    "X[2,1]=0;X[2,3]=0;X[3,2]=0\n",
    "U=Matrix(de,1,lambda i,j:1)\n",
    "XU=X*U\n",
    "Y=Matrix(de,de,lambda i,j: XU[i,0] if i==j else 0)\n",
    "Z=X-Y\n",
    "Z,Z*U"
   ]
  },
  {
   "cell_type": "code",
   "execution_count": 272,
   "metadata": {},
   "outputs": [
    {
     "data": {
      "image/png": "[encoded data removed]",
      "text/latex": [
       "$\\displaystyle \\left[\\begin{matrix}0 & 0 & - x_{01} x_{12} x_{31} - x_{02} x_{12} x_{31} & 0\\\\0 & 0 & - x_{01} x_{12} x_{31} - x_{02} x_{12} x_{31} & 0\\\\0 & 0 & - x_{01} x_{12} x_{31} - x_{02} x_{12} x_{31} & 0\\\\0 & 0 & - x_{01} x_{12} x_{31} - x_{02} x_{12} x_{31} & 0\\end{matrix}\\right]$"
      ],
      "text/plain": [
       "⎡0  0  -x₀₁⋅x₁₂⋅x₃₁ - x₀₂⋅x₁₂⋅x₃₁  0⎤\n",
       "⎢                                   ⎥\n",
       "⎢0  0  -x₀₁⋅x₁₂⋅x₃₁ - x₀₂⋅x₁₂⋅x₃₁  0⎥\n",
       "⎢                                   ⎥\n",
       "⎢0  0  -x₀₁⋅x₁₂⋅x₃₁ - x₀₂⋅x₁₂⋅x₃₁  0⎥\n",
       "⎢                                   ⎥\n",
       "⎣0  0  -x₀₁⋅x₁₂⋅x₃₁ - x₀₂⋅x₁₂⋅x₃₁  0⎦"
      ]
     },
     "execution_count": 272,
     "metadata": {},
     "output_type": "execute_result"
    }
   ],
   "source": [
    "Z.adjugate().expand()"
   ]
  },
  {
   "cell_type": "code",
   "execution_count": 200,
   "metadata": {},
   "outputs": [
    {
     "data": {
      "image/png": "[encoded data removed]",
      "text/latex": [
       "$\\displaystyle \\left[\\begin{matrix}\\frac{2 \\sqrt{5}}{5} & \\frac{\\sqrt{5}}{5}\\\\\\frac{\\sqrt{5}}{5} & \\frac{3 \\sqrt{5}}{5}\\end{matrix}\\right]$"
      ],
      "text/plain": [
       "⎡2⋅√5   √5 ⎤\n",
       "⎢────   ── ⎥\n",
       "⎢ 5     5  ⎥\n",
       "⎢          ⎥\n",
       "⎢ √5   3⋅√5⎥\n",
       "⎢ ──   ────⎥\n",
       "⎣ 5     5  ⎦"
      ]
     },
     "execution_count": 200,
     "metadata": {},
     "output_type": "execute_result"
    }
   ],
   "source": [
    "M=((1/sqrt(5))*Matrix([[2,1],[1,3]]))\n",
    "M"
   ]
  },
  {
   "cell_type": "code",
   "execution_count": 201,
   "metadata": {},
   "outputs": [
    {
     "data": {
      "image/png": "[encoded data removed]",
      "text/latex": [
       "$\\displaystyle \\left[ \\left[\\begin{matrix}1 & 0\\\\0 & 1\\end{matrix}\\right], \\  \\left[\\begin{matrix}\\frac{2 \\sqrt{5}}{5} & \\frac{\\sqrt{5}}{5}\\\\\\frac{\\sqrt{5}}{5} & \\frac{3 \\sqrt{5}}{5}\\end{matrix}\\right], \\  \\left[\\begin{matrix}1 & 1\\\\1 & 2\\end{matrix}\\right], \\  \\left[\\begin{matrix}\\frac{3 \\sqrt{5}}{5} & \\frac{4 \\sqrt{5}}{5}\\\\\\frac{4 \\sqrt{5}}{5} & \\frac{7 \\sqrt{5}}{5}\\end{matrix}\\right], \\  \\left[\\begin{matrix}2 & 3\\\\3 & 5\\end{matrix}\\right], \\  \\left[\\begin{matrix}\\frac{7 \\sqrt{5}}{5} & \\frac{11 \\sqrt{5}}{5}\\\\\\frac{11 \\sqrt{5}}{5} & \\frac{18 \\sqrt{5}}{5}\\end{matrix}\\right], \\  \\left[\\begin{matrix}5 & 8\\\\8 & 13\\end{matrix}\\right], \\  \\left[\\begin{matrix}\\frac{18 \\sqrt{5}}{5} & \\frac{29 \\sqrt{5}}{5}\\\\\\frac{29 \\sqrt{5}}{5} & \\frac{47 \\sqrt{5}}{5}\\end{matrix}\\right], \\  \\left[\\begin{matrix}13 & 21\\\\21 & 34\\end{matrix}\\right], \\  \\left[\\begin{matrix}\\frac{47 \\sqrt{5}}{5} & \\frac{76 \\sqrt{5}}{5}\\\\\\frac{76 \\sqrt{5}}{5} & \\frac{123 \\sqrt{5}}{5}\\end{matrix}\\right]\\right]$"
      ],
      "text/plain": [
       "⎡        ⎡2⋅√5   √5 ⎤          ⎡3⋅√5  4⋅√5⎤          ⎡7⋅√5   11⋅√5⎤           \n",
       "⎢        ⎢────   ── ⎥          ⎢────  ────⎥          ⎢────   ─────⎥           \n",
       "⎢⎡1  0⎤  ⎢ 5     5  ⎥  ⎡1  1⎤  ⎢ 5     5  ⎥  ⎡2  3⎤  ⎢ 5       5  ⎥  ⎡5  8 ⎤  \n",
       "⎢⎢    ⎥, ⎢          ⎥, ⎢    ⎥, ⎢          ⎥, ⎢    ⎥, ⎢            ⎥, ⎢     ⎥, \n",
       "⎢⎣0  1⎦  ⎢ √5   3⋅√5⎥  ⎣1  2⎦  ⎢4⋅√5  7⋅√5⎥  ⎣3  5⎦  ⎢11⋅√5  18⋅√5⎥  ⎣8  13⎦  \n",
       "⎢        ⎢ ──   ────⎥          ⎢────  ────⎥          ⎢─────  ─────⎥           \n",
       "⎣        ⎣ 5     5  ⎦          ⎣ 5     5  ⎦          ⎣  5      5  ⎦           \n",
       "\n",
       "⎡18⋅√5  29⋅√5⎤            ⎡47⋅√5  76⋅√5 ⎤⎤\n",
       "⎢─────  ─────⎥            ⎢─────  ───── ⎥⎥\n",
       "⎢  5      5  ⎥  ⎡13  21⎤  ⎢  5      5   ⎥⎥\n",
       "⎢            ⎥, ⎢      ⎥, ⎢             ⎥⎥\n",
       "⎢29⋅√5  47⋅√5⎥  ⎣21  34⎦  ⎢76⋅√5  123⋅√5⎥⎥\n",
       "⎢─────  ─────⎥            ⎢─────  ──────⎥⎥\n",
       "⎣  5      5  ⎦            ⎣  5      5   ⎦⎦"
      ]
     },
     "execution_count": 201,
     "metadata": {},
     "output_type": "execute_result"
    }
   ],
   "source": [
    "[simplify(M**i) for i in range(10)]"
   ]
  },
  {
   "cell_type": "markdown",
   "metadata": {},
   "source": [
    "* [x] h\n",
    "* [ ] k\n",
    "* [x] l\n",
    "\n",
    "|A|B|\n",
    "|---|---|\n",
    "|c|d|"
   ]
  }
 ],
 "metadata": {
  "kernelspec": {
   "display_name": "Python 3",
   "language": "python",
   "name": "python3"
  },
  "language_info": {
   "codemirror_mode": {
    "name": "ipython",
    "version": 3
   },
   "file_extension": ".py",
   "mimetype": "text/x-python",
   "name": "python",
   "nbconvert_exporter": "python",
   "pygments_lexer": "ipython3",
   "version": "3.7.3"
  }
 },
 "nbformat": 4,
 "nbformat_minor": 1
}
